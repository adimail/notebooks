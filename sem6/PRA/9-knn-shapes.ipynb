{
 "cells": [
  {
   "cell_type": "code",
   "execution_count": 1,
   "id": "ec8f3a23-1905-4243-9c27-b4a51ff8fa98",
   "metadata": {},
   "outputs": [
    {
     "ename": "ModuleNotFoundError",
     "evalue": "No module named 'skimage'",
     "output_type": "error",
     "traceback": [
      "\u001b[0;31m---------------------------------------------------------------------------\u001b[0m",
      "\u001b[0;31mModuleNotFoundError\u001b[0m                       Traceback (most recent call last)",
      "Cell \u001b[0;32mIn[1], line 8\u001b[0m\n\u001b[1;32m      6\u001b[0m \u001b[38;5;28;01mfrom\u001b[39;00m\u001b[38;5;250m \u001b[39m\u001b[38;5;21;01msklearn\u001b[39;00m\u001b[38;5;21;01m.\u001b[39;00m\u001b[38;5;21;01mneighbors\u001b[39;00m\u001b[38;5;250m \u001b[39m\u001b[38;5;28;01mimport\u001b[39;00m KNeighborsClassifier\n\u001b[1;32m      7\u001b[0m \u001b[38;5;28;01mfrom\u001b[39;00m\u001b[38;5;250m \u001b[39m\u001b[38;5;21;01msklearn\u001b[39;00m\u001b[38;5;21;01m.\u001b[39;00m\u001b[38;5;21;01mmetrics\u001b[39;00m\u001b[38;5;250m \u001b[39m\u001b[38;5;28;01mimport\u001b[39;00m accuracy_score, classification_report\n\u001b[0;32m----> 8\u001b[0m \u001b[38;5;28;01mfrom\u001b[39;00m\u001b[38;5;250m \u001b[39m\u001b[38;5;21;01mskimage\u001b[39;00m\u001b[38;5;21;01m.\u001b[39;00m\u001b[38;5;21;01mtransform\u001b[39;00m\u001b[38;5;250m \u001b[39m\u001b[38;5;28;01mimport\u001b[39;00m resize \u001b[38;5;66;03m# For consistent sizing if needed\u001b[39;00m\n\u001b[1;32m     10\u001b[0m IMG_SIZE \u001b[38;5;241m=\u001b[39m \u001b[38;5;241m32\u001b[39m \u001b[38;5;66;03m# Define image size\u001b[39;00m\n\u001b[1;32m     12\u001b[0m \u001b[38;5;28;01mdef\u001b[39;00m\u001b[38;5;250m \u001b[39m\u001b[38;5;21mcreate_shape_image\u001b[39m(shape_type, size\u001b[38;5;241m=\u001b[39mIMG_SIZE):\n",
      "\u001b[0;31mModuleNotFoundError\u001b[0m: No module named 'skimage'"
     ]
    }
   ],
   "source": [
    "# Block 1: Imports and Shape Generation Function\n",
    "import numpy as np\n",
    "import matplotlib.pyplot as plt\n",
    "import cv2 # OpenCV for drawing shapes\n",
    "from sklearn.model_selection import train_test_split\n",
    "from sklearn.neighbors import KNeighborsClassifier\n",
    "from sklearn.metrics import accuracy_score, classification_report\n",
    "from skimage.transform import resize # For consistent sizing if needed\n",
    "\n",
    "IMG_SIZE = 32 # Define image size\n",
    "\n",
    "def create_shape_image(shape_type, size=IMG_SIZE):\n",
    "    img = np.zeros((size, size), dtype=np.uint8)\n",
    "    center = (size // 2, size // 2)\n",
    "    radius = size // 3\n",
    "    side = size * 2 // 3\n",
    "\n",
    "    if shape_type == 'circle':\n",
    "        cv2.circle(img, center, radius, 255, -1) # Filled circle\n",
    "    elif shape_type == 'square':\n",
    "        pt1 = (center[0] - side // 2, center[1] - side // 2)\n",
    "        pt2 = (center[0] + side // 2, center[1] + side // 2)\n",
    "        cv2.rectangle(img, pt1, pt2, 255, -1) # Filled square\n",
    "    elif shape_type == 'triangle':\n",
    "        # Equilateral triangle points\n",
    "        height = int(np.sqrt(3)/2 * side)\n",
    "        pt1 = (center[0], center[1] - height // 2)\n",
    "        pt2 = (center[0] - side // 2, center[1] + height // 2)\n",
    "        pt3 = (center[0] + side // 2, center[1] + height // 2)\n",
    "        pts = np.array([pt1, pt2, pt3], np.int32)\n",
    "        cv2.drawContours(img, [pts], 0, 255, -1) # Filled triangle\n",
    "\n",
    "    # Add some noise\n",
    "    noise = np.random.randint(0, 30, size=img.shape, dtype=np.uint8)\n",
    "    img = cv2.add(img, noise)\n",
    "    img = np.clip(img, 0, 255)\n",
    "\n",
    "    return img\n",
    "\n",
    "# Shape labels\n",
    "shapes = ['circle', 'square', 'triangle']\n",
    "shape_map = {name: i for i, name in enumerate(shapes)}"
   ]
  },
  {
   "cell_type": "code",
   "execution_count": null,
   "id": "b9285938-270c-43bc-bcc3-acdfb3bf940f",
   "metadata": {},
   "outputs": [],
   "source": [
    "# Block 2: Generate Dataset\n",
    "n_samples_per_shape = 200\n",
    "X_shapes = []\n",
    "y_shapes = []\n",
    "\n",
    "for shape_name in shapes:\n",
    "    label = shape_map[shape_name]\n",
    "    for _ in range(n_samples_per_shape):\n",
    "        img = create_shape_image(shape_name, size=IMG_SIZE)\n",
    "        X_shapes.append(img.flatten()) # Flatten image into feature vector\n",
    "        y_shapes.append(label)\n",
    "\n",
    "X_shapes = np.array(X_shapes)\n",
    "y_shapes = np.array(y_shapes)\n",
    "\n",
    "print(f\"Generated dataset shape: X={X_shapes.shape}, y={y_shapes.shape}\")"
   ]
  },
  {
   "cell_type": "code",
   "execution_count": null,
   "id": "be243fc9-2e45-425f-86d5-94f9d1cf1549",
   "metadata": {},
   "outputs": [],
   "source": []
  }
 ],
 "metadata": {
  "kernelspec": {
   "display_name": "Python 3 (ipykernel)",
   "language": "python",
   "name": "python3"
  },
  "language_info": {
   "codemirror_mode": {
    "name": "ipython",
    "version": 3
   },
   "file_extension": ".py",
   "mimetype": "text/x-python",
   "name": "python",
   "nbconvert_exporter": "python",
   "pygments_lexer": "ipython3",
   "version": "3.9.6"
  }
 },
 "nbformat": 4,
 "nbformat_minor": 5
}
