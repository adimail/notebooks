{
 "cells": [
  {
   "cell_type": "markdown",
   "id": "c2855140",
   "metadata": {
    "papermill": {
     "duration": 0.018121,
     "end_time": "2024-12-31T21:06:19.526209",
     "exception": false,
     "start_time": "2024-12-31T21:06:19.508088",
     "status": "completed"
    },
    "tags": []
   },
   "source": [
    "# Document classification: PRA assignment 2\n",
    "\n",
    "> Author: [Aditya Godse](https://adimail.github.io/)\n",
    "\n",
    "Develop a text classification model that can effectively identify, extract features, and classify documents from the 20 Newsgroups dataset into one of the 20 predefined categories using  pattern recognition techniques."
   ]
  },
  {
   "cell_type": "code",
   "execution_count": 1,
   "id": "e7075cbd",
   "metadata": {
    "_cell_guid": "b1076dfc-b9ad-4769-8c92-a6c4dae69d19",
    "_uuid": "8f2839f25d086af736a60e9eeb907d3b93b6e0e5",
    "execution": {
     "iopub.execute_input": "2024-12-31T21:06:19.564545Z",
     "iopub.status.busy": "2024-12-31T21:06:19.564211Z",
     "iopub.status.idle": "2024-12-31T21:06:22.014217Z",
     "shell.execute_reply": "2024-12-31T21:06:22.013035Z"
    },
    "papermill": {
     "duration": 2.470652,
     "end_time": "2024-12-31T21:06:22.016340",
     "exception": false,
     "start_time": "2024-12-31T21:06:19.545688",
     "status": "completed"
    },
    "tags": []
   },
   "outputs": [],
   "source": [
    "import numpy as np\n",
    "import pandas as pd\n",
    "\n",
    "from sklearn.datasets import fetch_20newsgroups\n",
    "from sklearn.feature_extraction.text import TfidfVectorizer\n",
    "from sklearn.model_selection import train_test_split\n",
    "from sklearn.naive_bayes import MultinomialNB\n",
    "from sklearn.metrics import classification_report, confusion_matrix\n",
    "\n",
    "import matplotlib.pyplot as plt\n",
    "import seaborn as sns"
   ]
  },
  {
   "cell_type": "markdown",
   "id": "b7d17088",
   "metadata": {
    "papermill": {
     "duration": 0.016437,
     "end_time": "2024-12-31T21:06:22.050393",
     "exception": false,
     "start_time": "2024-12-31T21:06:22.033956",
     "status": "completed"
    },
    "tags": []
   },
   "source": [
    "# Agenda for text classification system for the 20 Newsgroups dataset\n",
    "\n",
    "- Data exploration\n",
    "- Data preperation\n",
    "- Feature Extraction\n",
    "- Classification\n",
    "    - Multinomial Naive Bayes (default)\n",
    "    - Multinomial Logistic Regression\n",
    "- Evaluation\n",
    "\n",
    "\n",
    "The 20 newsgroups dataset is used in classification problems. The fetch_20newsgroups() function allows the loading of filenames and data from the 20 newsgroups dataset. It has 20 classes, 18846 observations, and features in the form of strings.\n",
    "\n",
    "It downloads the dataset from the original 20 newsgroups website and caches it locally."
   ]
  },
  {
   "cell_type": "code",
   "execution_count": 2,
   "id": "2013d2c4",
   "metadata": {
    "execution": {
     "iopub.execute_input": "2024-12-31T21:06:22.085326Z",
     "iopub.status.busy": "2024-12-31T21:06:22.084748Z",
     "iopub.status.idle": "2024-12-31T21:06:32.438345Z",
     "shell.execute_reply": "2024-12-31T21:06:32.436468Z"
    },
    "papermill": {
     "duration": 10.373166,
     "end_time": "2024-12-31T21:06:32.440388",
     "exception": false,
     "start_time": "2024-12-31T21:06:22.067222",
     "status": "completed"
    },
    "tags": []
   },
   "outputs": [],
   "source": [
    "data = fetch_20newsgroups()"
   ]
  },
  {
   "cell_type": "markdown",
   "id": "8ac3cb3f",
   "metadata": {
    "papermill": {
     "duration": 0.016174,
     "end_time": "2024-12-31T21:06:32.473333",
     "exception": false,
     "start_time": "2024-12-31T21:06:32.457159",
     "status": "completed"
    },
    "tags": []
   },
   "source": [
    "# Data exploration"
   ]
  },
  {
   "cell_type": "code",
   "execution_count": 3,
   "id": "7acbc093",
   "metadata": {
    "execution": {
     "iopub.execute_input": "2024-12-31T21:06:32.507641Z",
     "iopub.status.busy": "2024-12-31T21:06:32.507247Z",
     "iopub.status.idle": "2024-12-31T21:06:32.511594Z",
     "shell.execute_reply": "2024-12-31T21:06:32.510432Z"
    },
    "papermill": {
     "duration": 0.023597,
     "end_time": "2024-12-31T21:06:32.513389",
     "exception": false,
     "start_time": "2024-12-31T21:06:32.489792",
     "status": "completed"
    },
    "tags": []
   },
   "outputs": [],
   "source": [
    "category_names = data.target_names"
   ]
  },
  {
   "cell_type": "code",
   "execution_count": 4,
   "id": "d3a4467f",
   "metadata": {
    "execution": {
     "iopub.execute_input": "2024-12-31T21:06:32.547974Z",
     "iopub.status.busy": "2024-12-31T21:06:32.547561Z",
     "iopub.status.idle": "2024-12-31T21:06:32.553958Z",
     "shell.execute_reply": "2024-12-31T21:06:32.552921Z"
    },
    "papermill": {
     "duration": 0.025434,
     "end_time": "2024-12-31T21:06:32.555579",
     "exception": false,
     "start_time": "2024-12-31T21:06:32.530145",
     "status": "completed"
    },
    "tags": []
   },
   "outputs": [
    {
     "data": {
      "text/plain": [
       "20"
      ]
     },
     "execution_count": 4,
     "metadata": {},
     "output_type": "execute_result"
    }
   ],
   "source": [
    "len(category_names)"
   ]
  },
  {
   "cell_type": "code",
   "execution_count": 5,
   "id": "904ffe51",
   "metadata": {
    "execution": {
     "iopub.execute_input": "2024-12-31T21:06:32.592026Z",
     "iopub.status.busy": "2024-12-31T21:06:32.591641Z",
     "iopub.status.idle": "2024-12-31T21:06:32.597286Z",
     "shell.execute_reply": "2024-12-31T21:06:32.596312Z"
    },
    "papermill": {
     "duration": 0.025807,
     "end_time": "2024-12-31T21:06:32.598789",
     "exception": false,
     "start_time": "2024-12-31T21:06:32.572982",
     "status": "completed"
    },
    "tags": []
   },
   "outputs": [
    {
     "data": {
      "text/plain": [
       "['alt.atheism',\n",
       " 'comp.graphics',\n",
       " 'comp.os.ms-windows.misc',\n",
       " 'comp.sys.ibm.pc.hardware',\n",
       " 'comp.sys.mac.hardware',\n",
       " 'comp.windows.x',\n",
       " 'misc.forsale',\n",
       " 'rec.autos',\n",
       " 'rec.motorcycles',\n",
       " 'rec.sport.baseball',\n",
       " 'rec.sport.hockey',\n",
       " 'sci.crypt',\n",
       " 'sci.electronics',\n",
       " 'sci.med',\n",
       " 'sci.space',\n",
       " 'soc.religion.christian',\n",
       " 'talk.politics.guns',\n",
       " 'talk.politics.mideast',\n",
       " 'talk.politics.misc',\n",
       " 'talk.religion.misc']"
      ]
     },
     "execution_count": 5,
     "metadata": {},
     "output_type": "execute_result"
    }
   ],
   "source": [
    "category_names"
   ]
  },
  {
   "cell_type": "code",
   "execution_count": 6,
   "id": "df38333e",
   "metadata": {
    "execution": {
     "iopub.execute_input": "2024-12-31T21:06:32.634012Z",
     "iopub.status.busy": "2024-12-31T21:06:32.633562Z",
     "iopub.status.idle": "2024-12-31T21:06:32.640426Z",
     "shell.execute_reply": "2024-12-31T21:06:32.638470Z"
    },
    "papermill": {
     "duration": 0.026778,
     "end_time": "2024-12-31T21:06:32.642502",
     "exception": false,
     "start_time": "2024-12-31T21:06:32.615724",
     "status": "completed"
    },
    "tags": []
   },
   "outputs": [
    {
     "name": "stdout",
     "output_type": "stream",
     "text": [
      ".. _20newsgroups_dataset:\n",
      "\n",
      "The 20 newsgroups text dataset\n",
      "------------------------------\n",
      "\n",
      "The 20 newsgroups dataset comprises around 18000 newsgroups posts on\n",
      "20 topics split in two subsets: one for training (or development)\n",
      "and the other one for testing (or for performance evaluation). The split\n",
      "between the train and test set is based upon a messages posted before\n",
      "and after a specific date.\n",
      "\n",
      "This module contains two loaders. The first one,\n",
      ":func:`sklearn.datasets.fetch_20newsgroups`,\n",
      "returns a list of the raw texts that can be fed to text feature\n",
      "extractors such as :class:`~sklearn.feature_extraction.text.CountVectorizer`\n",
      "with custom parameters so as to extract feature vectors.\n",
      "The second one, :func:`sklearn.datasets.fetch_20newsgroups_vectorized`,\n",
      "returns ready-to-use features, i.e., it is not necessary to use a feature\n",
      "extractor.\n",
      "\n",
      "**Data Set Characteristics:**\n",
      "\n",
      "    =================   ==========\n",
      "    Classes                     20\n",
      "    Samples total            18846\n",
      "    Dimensionality               1\n",
      "    Features                  text\n",
      "    =================   ==========\n",
      "\n",
      "Usage\n",
      "~~~~~\n",
      "\n",
      "The :func:`sklearn.datasets.fetch_20newsgroups` function is a data\n",
      "fetching / caching functions that downloads the data archive from\n",
      "the original `20 newsgroups website`_, extracts the archive contents\n",
      "in the ``~/scikit_learn_data/20news_home`` folder and calls the\n",
      ":func:`sklearn.datasets.load_files` on either the training or\n",
      "testing set folder, or both of them::\n",
      "\n",
      "  >>> from sklearn.datasets import fetch_20newsgroups\n",
      "  >>> newsgroups_train = fetch_20newsgroups(subset='train')\n",
      "\n",
      "  >>> from pprint import pprint\n",
      "  >>> pprint(list(newsgroups_train.target_names))\n",
      "  ['alt.atheism',\n",
      "   'comp.graphics',\n",
      "   'comp.os.ms-windows.misc',\n",
      "   'comp.sys.ibm.pc.hardware',\n",
      "   'comp.sys.mac.hardware',\n",
      "   'comp.windows.x',\n",
      "   'misc.forsale',\n",
      "   'rec.autos',\n",
      "   'rec.motorcycles',\n",
      "   'rec.sport.baseball',\n",
      "   'rec.sport.hockey',\n",
      "   'sci.crypt',\n",
      "   'sci.electronics',\n",
      "   'sci.med',\n",
      "   'sci.space',\n",
      "   'soc.religion.christian',\n",
      "   'talk.politics.guns',\n",
      "   'talk.politics.mideast',\n",
      "   'talk.politics.misc',\n",
      "   'talk.religion.misc']\n",
      "\n",
      "The real data lies in the ``filenames`` and ``target`` attributes. The target\n",
      "attribute is the integer index of the category::\n",
      "\n",
      "  >>> newsgroups_train.filenames.shape\n",
      "  (11314,)\n",
      "  >>> newsgroups_train.target.shape\n",
      "  (11314,)\n",
      "  >>> newsgroups_train.target[:10]\n",
      "  array([ 7,  4,  4,  1, 14, 16, 13,  3,  2,  4])\n",
      "\n",
      "It is possible to load only a sub-selection of the categories by passing the\n",
      "list of the categories to load to the\n",
      ":func:`sklearn.datasets.fetch_20newsgroups` function::\n",
      "\n",
      "  >>> cats = ['alt.atheism', 'sci.space']\n",
      "  >>> newsgroups_train = fetch_20newsgroups(subset='train', categories=cats)\n",
      "\n",
      "  >>> list(newsgroups_train.target_names)\n",
      "  ['alt.atheism', 'sci.space']\n",
      "  >>> newsgroups_train.filenames.shape\n",
      "  (1073,)\n",
      "  >>> newsgroups_train.target.shape\n",
      "  (1073,)\n",
      "  >>> newsgroups_train.target[:10]\n",
      "  array([0, 1, 1, 1, 0, 1, 1, 0, 0, 0])\n",
      "\n",
      "Converting text to vectors\n",
      "~~~~~~~~~~~~~~~~~~~~~~~~~~\n",
      "\n",
      "In order to feed predictive or clustering models with the text data,\n",
      "one first need to turn the text into vectors of numerical values suitable\n",
      "for statistical analysis. This can be achieved with the utilities of the\n",
      "``sklearn.feature_extraction.text`` as demonstrated in the following\n",
      "example that extract `TF-IDF`_ vectors of unigram tokens\n",
      "from a subset of 20news::\n",
      "\n",
      "  >>> from sklearn.feature_extraction.text import TfidfVectorizer\n",
      "  >>> categories = ['alt.atheism', 'talk.religion.misc',\n",
      "  ...               'comp.graphics', 'sci.space']\n",
      "  >>> newsgroups_train = fetch_20newsgroups(subset='train',\n",
      "  ...                                       categories=categories)\n",
      "  >>> vectorizer = TfidfVectorizer()\n",
      "  >>> vectors = vectorizer.fit_transform(newsgroups_train.data)\n",
      "  >>> vectors.shape\n",
      "  (2034, 34118)\n",
      "\n",
      "The extracted TF-IDF vectors are very sparse, with an average of 159 non-zero\n",
      "components by sample in a more than 30000-dimensional space\n",
      "(less than .5% non-zero features)::\n",
      "\n",
      "  >>> vectors.nnz / float(vectors.shape[0])\n",
      "  159.01327...\n",
      "\n",
      ":func:`sklearn.datasets.fetch_20newsgroups_vectorized` is a function which\n",
      "returns ready-to-use token counts features instead of file names.\n",
      "\n",
      ".. _`20 newsgroups website`: http://people.csail.mit.edu/jrennie/20Newsgroups/\n",
      ".. _`TF-IDF`: https://en.wikipedia.org/wiki/Tf-idf\n",
      "\n",
      "\n",
      "Filtering text for more realistic training\n",
      "~~~~~~~~~~~~~~~~~~~~~~~~~~~~~~~~~~~~~~~~~~\n",
      "\n",
      "It is easy for a classifier to overfit on particular things that appear in the\n",
      "20 Newsgroups data, such as newsgroup headers. Many classifiers achieve very\n",
      "high F-scores, but their results would not generalize to other documents that\n",
      "aren't from this window of time.\n",
      "\n",
      "For example, let's look at the results of a multinomial Naive Bayes classifier,\n",
      "which is fast to train and achieves a decent F-score::\n",
      "\n",
      "  >>> from sklearn.naive_bayes import MultinomialNB\n",
      "  >>> from sklearn import metrics\n",
      "  >>> newsgroups_test = fetch_20newsgroups(subset='test',\n",
      "  ...                                      categories=categories)\n",
      "  >>> vectors_test = vectorizer.transform(newsgroups_test.data)\n",
      "  >>> clf = MultinomialNB(alpha=.01)\n",
      "  >>> clf.fit(vectors, newsgroups_train.target)\n",
      "  MultinomialNB(alpha=0.01, class_prior=None, fit_prior=True)\n",
      "\n",
      "  >>> pred = clf.predict(vectors_test)\n",
      "  >>> metrics.f1_score(newsgroups_test.target, pred, average='macro')\n",
      "  0.88213...\n",
      "\n",
      "(The example :ref:`sphx_glr_auto_examples_text_plot_document_classification_20newsgroups.py` shuffles\n",
      "the training and test data, instead of segmenting by time, and in that case\n",
      "multinomial Naive Bayes gets a much higher F-score of 0.88. Are you suspicious\n",
      "yet of what's going on inside this classifier?)\n",
      "\n",
      "Let's take a look at what the most informative features are:\n",
      "\n",
      "  >>> import numpy as np\n",
      "  >>> def show_top10(classifier, vectorizer, categories):\n",
      "  ...     feature_names = vectorizer.get_feature_names_out()\n",
      "  ...     for i, category in enumerate(categories):\n",
      "  ...         top10 = np.argsort(classifier.coef_[i])[-10:]\n",
      "  ...         print(\"%s: %s\" % (category, \" \".join(feature_names[top10])))\n",
      "  ...\n",
      "  >>> show_top10(clf, vectorizer, newsgroups_train.target_names)\n",
      "  alt.atheism: edu it and in you that is of to the\n",
      "  comp.graphics: edu in graphics it is for and of to the\n",
      "  sci.space: edu it that is in and space to of the\n",
      "  talk.religion.misc: not it you in is that and to of the\n",
      "\n",
      "\n",
      "You can now see many things that these features have overfit to:\n",
      "\n",
      "- Almost every group is distinguished by whether headers such as\n",
      "  ``NNTP-Posting-Host:`` and ``Distribution:`` appear more or less often.\n",
      "- Another significant feature involves whether the sender is affiliated with\n",
      "  a university, as indicated either by their headers or their signature.\n",
      "- The word \"article\" is a significant feature, based on how often people quote\n",
      "  previous posts like this: \"In article [article ID], [name] <[e-mail address]>\n",
      "  wrote:\"\n",
      "- Other features match the names and e-mail addresses of particular people who\n",
      "  were posting at the time.\n",
      "\n",
      "With such an abundance of clues that distinguish newsgroups, the classifiers\n",
      "barely have to identify topics from text at all, and they all perform at the\n",
      "same high level.\n",
      "\n",
      "For this reason, the functions that load 20 Newsgroups data provide a\n",
      "parameter called **remove**, telling it what kinds of information to strip out\n",
      "of each file. **remove** should be a tuple containing any subset of\n",
      "``('headers', 'footers', 'quotes')``, telling it to remove headers, signature\n",
      "blocks, and quotation blocks respectively.\n",
      "\n",
      "  >>> newsgroups_test = fetch_20newsgroups(subset='test',\n",
      "  ...                                      remove=('headers', 'footers', 'quotes'),\n",
      "  ...                                      categories=categories)\n",
      "  >>> vectors_test = vectorizer.transform(newsgroups_test.data)\n",
      "  >>> pred = clf.predict(vectors_test)\n",
      "  >>> metrics.f1_score(pred, newsgroups_test.target, average='macro')\n",
      "  0.77310...\n",
      "\n",
      "This classifier lost over a lot of its F-score, just because we removed\n",
      "metadata that has little to do with topic classification.\n",
      "It loses even more if we also strip this metadata from the training data:\n",
      "\n",
      "  >>> newsgroups_train = fetch_20newsgroups(subset='train',\n",
      "  ...                                       remove=('headers', 'footers', 'quotes'),\n",
      "  ...                                       categories=categories)\n",
      "  >>> vectors = vectorizer.fit_transform(newsgroups_train.data)\n",
      "  >>> clf = MultinomialNB(alpha=.01)\n",
      "  >>> clf.fit(vectors, newsgroups_train.target)\n",
      "  MultinomialNB(alpha=0.01, class_prior=None, fit_prior=True)\n",
      "\n",
      "  >>> vectors_test = vectorizer.transform(newsgroups_test.data)\n",
      "  >>> pred = clf.predict(vectors_test)\n",
      "  >>> metrics.f1_score(newsgroups_test.target, pred, average='macro')\n",
      "  0.76995...\n",
      "\n",
      "Some other classifiers cope better with this harder version of the task. Try the\n",
      ":ref:`sphx_glr_auto_examples_model_selection_plot_grid_search_text_feature_extraction.py`\n",
      "example with and without the `remove` option to compare the results.\n",
      "\n",
      ".. topic:: Data Considerations\n",
      "\n",
      "  The Cleveland Indians is a major league baseball team based in Cleveland,\n",
      "  Ohio, USA. In December 2020, it was reported that \"After several months of\n",
      "  discussion sparked by the death of George Floyd and a national reckoning over\n",
      "  race and colonialism, the Cleveland Indians have decided to change their\n",
      "  name.\" Team owner Paul Dolan \"did make it clear that the team will not make\n",
      "  its informal nickname -- the Tribe -- its new team name.\" \"It's not going to\n",
      "  be a half-step away from the Indians,\" Dolan said.\"We will not have a Native\n",
      "  American-themed name.\"\n",
      "\n",
      "  https://www.mlb.com/news/cleveland-indians-team-name-change\n",
      "\n",
      ".. topic:: Recommendation\n",
      "\n",
      "  - When evaluating text classifiers on the 20 Newsgroups data, you\n",
      "    should strip newsgroup-related metadata. In scikit-learn, you can do this\n",
      "    by setting ``remove=('headers', 'footers', 'quotes')``. The F-score will be\n",
      "    lower because it is more realistic.\n",
      "  - This text dataset contains data which may be inappropriate for certain NLP\n",
      "    applications. An example is listed in the \"Data Considerations\" section\n",
      "    above. The challenge with using current text datasets in NLP for tasks such\n",
      "    as sentence completion, clustering, and other applications is that text\n",
      "    that is culturally biased and inflammatory will propagate biases. This\n",
      "    should be taken into consideration when using the dataset, reviewing the\n",
      "    output, and the bias should be documented.\n",
      "\n",
      ".. topic:: Examples\n",
      "\n",
      "   * :ref:`sphx_glr_auto_examples_model_selection_plot_grid_search_text_feature_extraction.py`\n",
      "\n",
      "   * :ref:`sphx_glr_auto_examples_text_plot_document_classification_20newsgroups.py`\n",
      "\n",
      "   * :ref:`sphx_glr_auto_examples_text_plot_hashing_vs_dict_vectorizer.py`\n",
      "\n",
      "   * :ref:`sphx_glr_auto_examples_text_plot_document_clustering.py`\n",
      "\n"
     ]
    }
   ],
   "source": [
    "print(data['DESCR'])"
   ]
  },
  {
   "cell_type": "code",
   "execution_count": 7,
   "id": "eab13281",
   "metadata": {
    "execution": {
     "iopub.execute_input": "2024-12-31T21:06:32.680727Z",
     "iopub.status.busy": "2024-12-31T21:06:32.680396Z",
     "iopub.status.idle": "2024-12-31T21:06:32.686011Z",
     "shell.execute_reply": "2024-12-31T21:06:32.684981Z"
    },
    "papermill": {
     "duration": 0.025311,
     "end_time": "2024-12-31T21:06:32.687635",
     "exception": false,
     "start_time": "2024-12-31T21:06:32.662324",
     "status": "completed"
    },
    "tags": []
   },
   "outputs": [
    {
     "data": {
      "text/plain": [
       "11314"
      ]
     },
     "execution_count": 7,
     "metadata": {},
     "output_type": "execute_result"
    }
   ],
   "source": [
    "len(data.data)"
   ]
  },
  {
   "cell_type": "code",
   "execution_count": 8,
   "id": "193b7fc9",
   "metadata": {
    "execution": {
     "iopub.execute_input": "2024-12-31T21:06:32.724157Z",
     "iopub.status.busy": "2024-12-31T21:06:32.723759Z",
     "iopub.status.idle": "2024-12-31T21:06:32.923576Z",
     "shell.execute_reply": "2024-12-31T21:06:32.922174Z"
    },
    "papermill": {
     "duration": 0.219783,
     "end_time": "2024-12-31T21:06:32.925321",
     "exception": false,
     "start_time": "2024-12-31T21:06:32.705538",
     "status": "completed"
    },
    "tags": []
   },
   "outputs": [
    {
     "name": "stdout",
     "output_type": "stream",
     "text": [
      "Total number of documents: 11314\n",
      "Average document length: 287.47 words\n"
     ]
    }
   ],
   "source": [
    "print(f\"Total number of documents: {len(data.data)}\")\n",
    "print(f\"Average document length: {np.mean([len(doc.split()) for doc in data.data]):.2f} words\")"
   ]
  },
  {
   "cell_type": "code",
   "execution_count": 9,
   "id": "0dc43f99",
   "metadata": {
    "execution": {
     "iopub.execute_input": "2024-12-31T21:06:32.962201Z",
     "iopub.status.busy": "2024-12-31T21:06:32.961733Z",
     "iopub.status.idle": "2024-12-31T21:06:32.990630Z",
     "shell.execute_reply": "2024-12-31T21:06:32.988286Z"
    },
    "papermill": {
     "duration": 0.04922,
     "end_time": "2024-12-31T21:06:32.992718",
     "exception": false,
     "start_time": "2024-12-31T21:06:32.943498",
     "status": "completed"
    },
    "tags": []
   },
   "outputs": [
    {
     "name": "stdout",
     "output_type": "stream",
     "text": [
      "480, \t alt.atheism\n",
      "584, \t comp.graphics\n",
      "591, \t comp.os.ms-windows.misc\n",
      "590, \t comp.sys.ibm.pc.hardware\n",
      "578, \t comp.sys.mac.hardware\n",
      "593, \t comp.windows.x\n",
      "585, \t misc.forsale\n",
      "594, \t rec.autos\n",
      "598, \t rec.motorcycles\n",
      "597, \t rec.sport.baseball\n",
      "600, \t rec.sport.hockey\n",
      "595, \t sci.crypt\n",
      "591, \t sci.electronics\n",
      "594, \t sci.med\n",
      "593, \t sci.space\n",
      "599, \t soc.religion.christian\n",
      "546, \t talk.politics.guns\n",
      "564, \t talk.politics.mideast\n",
      "465, \t talk.politics.misc\n",
      "377, \t talk.religion.misc\n"
     ]
    }
   ],
   "source": [
    "category_dist = pd.Series(data.target).value_counts().sort_index()\n",
    "\n",
    "for category, count in zip(category_names, category_dist.values):\n",
    "    print(f\"{count}, \\t {category}\")"
   ]
  },
  {
   "cell_type": "code",
   "execution_count": 10,
   "id": "ddc83670",
   "metadata": {
    "execution": {
     "iopub.execute_input": "2024-12-31T21:06:33.031360Z",
     "iopub.status.busy": "2024-12-31T21:06:33.031006Z",
     "iopub.status.idle": "2024-12-31T21:06:33.560353Z",
     "shell.execute_reply": "2024-12-31T21:06:33.559284Z"
    },
    "papermill": {
     "duration": 0.55017,
     "end_time": "2024-12-31T21:06:33.562090",
     "exception": false,
     "start_time": "2024-12-31T21:06:33.011920",
     "status": "completed"
    },
    "tags": []
   },
   "outputs": [
    {
     "data": {
      "image/png": "[encoded data removed]",
      "text/plain": [
       "<Figure size 1500x500 with 1 Axes>"
      ]
     },
     "metadata": {},
     "output_type": "display_data"
    }
   ],
   "source": [
    "plt.figure(figsize=(15, 5))\n",
    "category_dist = pd.Series(data.target).value_counts().sort_index()\n",
    "sns.barplot(x=category_dist.index, y=category_dist.values)\n",
    "plt.xticks(range(len(category_names)), category_names, rotation=45)\n",
    "plt.title('Distribution of Categories in the Dataset')\n",
    "plt.xlabel('Category')\n",
    "plt.ylabel('Number of Documents')\n",
    "plt.tight_layout()\n",
    "plt.show()"
   ]
  },
  {
   "cell_type": "code",
   "execution_count": 11,
   "id": "72047d5a",
   "metadata": {
    "execution": {
     "iopub.execute_input": "2024-12-31T21:06:33.604413Z",
     "iopub.status.busy": "2024-12-31T21:06:33.603997Z",
     "iopub.status.idle": "2024-12-31T21:06:33.608840Z",
     "shell.execute_reply": "2024-12-31T21:06:33.607807Z"
    },
    "papermill": {
     "duration": 0.027501,
     "end_time": "2024-12-31T21:06:33.610620",
     "exception": false,
     "start_time": "2024-12-31T21:06:33.583119",
     "status": "completed"
    },
    "tags": []
   },
   "outputs": [],
   "source": [
    "def display_sample_doc(doc_id=1):\n",
    "    print(f\"\\n\\nCategory: {category_names[doc_id]}\")\n",
    "    print(\"-\" * 50)    \n",
    "    print(f\"\\nSample document:\\n\\n{data.data[doc_id][:600]}...\")\n",
    "    print(\"-\" * 30)"
   ]
  },
  {
   "cell_type": "code",
   "execution_count": 12,
   "id": "57d9101a",
   "metadata": {
    "execution": {
     "iopub.execute_input": "2024-12-31T21:06:33.651321Z",
     "iopub.status.busy": "2024-12-31T21:06:33.650932Z",
     "iopub.status.idle": "2024-12-31T21:06:33.656914Z",
     "shell.execute_reply": "2024-12-31T21:06:33.655794Z"
    },
    "papermill": {
     "duration": 0.028078,
     "end_time": "2024-12-31T21:06:33.658505",
     "exception": false,
     "start_time": "2024-12-31T21:06:33.630427",
     "status": "completed"
    },
    "tags": []
   },
   "outputs": [
    {
     "name": "stdout",
     "output_type": "stream",
     "text": [
      "\n",
      "\n",
      "Category: comp.graphics\n",
      "--------------------------------------------------\n",
      "\n",
      "Sample document:\n",
      "\n",
      "From: guykuo@carson.u.washington.edu (Guy Kuo)\n",
      "Subject: SI Clock Poll - Final Call\n",
      "Summary: Final call for SI clock reports\n",
      "Keywords: SI,acceleration,clock,upgrade\n",
      "Article-I.D.: shelley.1qvfo9INNc3s\n",
      "Organization: University of Washington\n",
      "Lines: 11\n",
      "NNTP-Posting-Host: carson.u.washington.edu\n",
      "\n",
      "A fair number of brave souls who upgraded their SI clock oscillator have\n",
      "shared their experiences for this poll. Please send a brief message detailing\n",
      "your experiences with the procedure. Top speed attained, CPU rated speed,\n",
      "add on cards and adapters, heat sinks, hour of usage per day, floppy disk\n",
      "functiona...\n",
      "------------------------------\n"
     ]
    }
   ],
   "source": [
    "display_sample_doc(1)"
   ]
  },
  {
   "cell_type": "code",
   "execution_count": 13,
   "id": "98035cd2",
   "metadata": {
    "execution": {
     "iopub.execute_input": "2024-12-31T21:06:33.699011Z",
     "iopub.status.busy": "2024-12-31T21:06:33.698596Z",
     "iopub.status.idle": "2024-12-31T21:06:33.704384Z",
     "shell.execute_reply": "2024-12-31T21:06:33.702742Z"
    },
    "papermill": {
     "duration": 0.027937,
     "end_time": "2024-12-31T21:06:33.706006",
     "exception": false,
     "start_time": "2024-12-31T21:06:33.678069",
     "status": "completed"
    },
    "tags": []
   },
   "outputs": [
    {
     "name": "stdout",
     "output_type": "stream",
     "text": [
      "\n",
      "\n",
      "Category: rec.autos\n",
      "--------------------------------------------------\n",
      "\n",
      "Sample document:\n",
      "\n",
      "From: bgrubb@dante.nmsu.edu (GRUBB)\n",
      "Subject: Re: IDE vs SCSI\n",
      "Organization: New Mexico State University, Las Cruces, NM\n",
      "Lines: 44\n",
      "Distribution: world\n",
      "NNTP-Posting-Host: dante.nmsu.edu\n",
      "\n",
      "DXB132@psuvm.psu.edu writes:\n",
      ">In article <1qlbrlINN7rk@dns1.NMSU.Edu>, bgrubb@dante.nmsu.edu (GRUBB) says:\n",
      ">>In PC Magazine April 27, 1993:29 \"Although SCSI is twice as fasst as ESDI,\n",
      ">>20% faster than IDE, and support up to 7 devices its acceptance ...has   \n",
      ">>long been stalled by incompatability problems and installation headaches.\"\n",
      "                                                                      \n",
      ">I love ...\n",
      "------------------------------\n"
     ]
    }
   ],
   "source": [
    "display_sample_doc(7)"
   ]
  },
  {
   "cell_type": "markdown",
   "id": "5df9dc8c",
   "metadata": {
    "papermill": {
     "duration": 0.019565,
     "end_time": "2024-12-31T21:06:33.745891",
     "exception": false,
     "start_time": "2024-12-31T21:06:33.726326",
     "status": "completed"
    },
    "tags": []
   },
   "source": [
    "# Data preperation for modelling\n",
    "\n",
    "Now let's prepare the data for modeling:"
   ]
  },
  {
   "cell_type": "code",
   "execution_count": 14,
   "id": "36745c62",
   "metadata": {
    "execution": {
     "iopub.execute_input": "2024-12-31T21:06:33.786587Z",
     "iopub.status.busy": "2024-12-31T21:06:33.786236Z",
     "iopub.status.idle": "2024-12-31T21:06:33.792446Z",
     "shell.execute_reply": "2024-12-31T21:06:33.791312Z"
    },
    "papermill": {
     "duration": 0.028707,
     "end_time": "2024-12-31T21:06:33.794189",
     "exception": false,
     "start_time": "2024-12-31T21:06:33.765482",
     "status": "completed"
    },
    "tags": []
   },
   "outputs": [
    {
     "data": {
      "text/plain": [
       "\"From: lerxst@wam.umd.edu (where's my thing)\\nSubject: WHAT car is this!?\\nNntp-Posting-Host: rac3.wam.umd.edu\\nOrganization: University of Maryland, College Park\\nLines: 15\\n\\n I was wondering if anyone out there could enlighten me on this car I saw\\nthe other day. It was a 2-door sports car, looked to be from the late 60s/\\nearly 70s. It was called a Bricklin. The doors were really small. In addition,\\nthe front bumper was separate from the rest of the body. This is \\nall I know. If anyone can tellme a m\""
      ]
     },
     "execution_count": 14,
     "metadata": {},
     "output_type": "execute_result"
    }
   ],
   "source": [
    "data.data[0][:500]"
   ]
  },
  {
   "cell_type": "code",
   "execution_count": 15,
   "id": "cc21ee2b",
   "metadata": {
    "execution": {
     "iopub.execute_input": "2024-12-31T21:06:33.835345Z",
     "iopub.status.busy": "2024-12-31T21:06:33.834999Z",
     "iopub.status.idle": "2024-12-31T21:06:33.840600Z",
     "shell.execute_reply": "2024-12-31T21:06:33.839410Z"
    },
    "papermill": {
     "duration": 0.028384,
     "end_time": "2024-12-31T21:06:33.842443",
     "exception": false,
     "start_time": "2024-12-31T21:06:33.814059",
     "status": "completed"
    },
    "tags": []
   },
   "outputs": [
    {
     "name": "stdout",
     "output_type": "stream",
     "text": [
      "From: lerxst@wam.umd.edu (where's my thing)\n",
      "Subject: WHAT car is this!?\n",
      "Nntp-Posting-Host: rac3.wam.umd.edu\n",
      "Organization: University of Maryland, College Park\n",
      "Lines: 15\n",
      "\n",
      " I was wondering if anyone out there could enlighten me on this car I saw\n",
      "the other day. It was a 2-door sports car, looked to be from the late 60s/\n",
      "early 70s. It was called a Bricklin. The doors were really small. In addition,\n",
      "the front bumper was separate from the rest of the body. This is \n",
      "all I know. If anyone can tellme a m\n"
     ]
    }
   ],
   "source": [
    "print(data.data[0][:500])"
   ]
  },
  {
   "cell_type": "markdown",
   "id": "de3227ca",
   "metadata": {
    "papermill": {
     "duration": 0.02053,
     "end_time": "2024-12-31T21:06:33.883895",
     "exception": false,
     "start_time": "2024-12-31T21:06:33.863365",
     "status": "completed"
    },
    "tags": []
   },
   "source": [
    "### Observations:\n",
    "\n",
    "- The dataset consists mostly of emails, and to achieve good scores, we need to filter out the body of the emails.\n",
    "\n",
    "### `remove` Parameter in fetch_20newsgroups()\n",
    "\n",
    "The `remove` parameter is a tuple with the following options:\n",
    "\n",
    "- **Default:** `removetuple=()`\n",
    "- May contain any subset of:\n",
    "  - `'headers'`: Removes newsgroup headers.\n",
    "  - `'footers'`: Removes blocks at the ends of posts that resemble signatures.\n",
    "  - `'quotes'`: Removes lines that appear to quote another post.\n",
    "\n",
    "### Notes:\n",
    "\n",
    "1. **Purpose of Removal**:\n",
    "   - Prevent classifiers from overfitting to metadata instead of focusing on the content.\n",
    "\n",
    "2. **Behavior**:\n",
    "   - `'headers'`: Detected and removed using an exact standard.\n",
    "   - `'footers'` & `'quotes'`: Filtered heuristically and may not always be accurate.\n",
    "\n",
    "### Example Usage in Code:\n",
    "\n",
    "```python\n",
    "from sklearn.datasets import fetch_20newsgroups\n",
    "\n",
    "# Removing headers, footers, and quotes from the dataset\n",
    "categories = ['alt.atheism', 'sci.space']\n",
    "newsgroups_train = fetch_20newsgroups(subset='train',\n",
    "                                      categories=categories,\n",
    "                                      remove=('headers', 'footers', 'quotes'))\n",
    "\n",
    "print(\"Sample Data:\", newsgroups_train.data[:1])\n",
    "```"
   ]
  },
  {
   "cell_type": "code",
   "execution_count": 16,
   "id": "b144b01e",
   "metadata": {
    "execution": {
     "iopub.execute_input": "2024-12-31T21:06:33.926000Z",
     "iopub.status.busy": "2024-12-31T21:06:33.925615Z",
     "iopub.status.idle": "2024-12-31T21:06:35.345739Z",
     "shell.execute_reply": "2024-12-31T21:06:35.344723Z"
    },
    "papermill": {
     "duration": 1.443318,
     "end_time": "2024-12-31T21:06:35.347942",
     "exception": false,
     "start_time": "2024-12-31T21:06:33.904624",
     "status": "completed"
    },
    "tags": []
   },
   "outputs": [],
   "source": [
    "data = fetch_20newsgroups(remove=('headers', 'footers', 'quotes'))"
   ]
  },
  {
   "cell_type": "code",
   "execution_count": 17,
   "id": "21ef9fce",
   "metadata": {
    "execution": {
     "iopub.execute_input": "2024-12-31T21:06:35.390914Z",
     "iopub.status.busy": "2024-12-31T21:06:35.390493Z",
     "iopub.status.idle": "2024-12-31T21:06:35.395253Z",
     "shell.execute_reply": "2024-12-31T21:06:35.394083Z"
    },
    "papermill": {
     "duration": 0.028371,
     "end_time": "2024-12-31T21:06:35.396946",
     "exception": false,
     "start_time": "2024-12-31T21:06:35.368575",
     "status": "completed"
    },
    "tags": []
   },
   "outputs": [],
   "source": [
    "def display_sample_doc(doc_id=1):\n",
    "    print(f\"\\n\\nCategory: {category_names[doc_id]}\")\n",
    "    print(\"-\" * 50)    \n",
    "    print(f\"\\nSample document:\\n\\n{data.data[doc_id][:600]}...\")\n",
    "    print(\"-\" * 30)"
   ]
  },
  {
   "cell_type": "code",
   "execution_count": 18,
   "id": "2a3e3787",
   "metadata": {
    "execution": {
     "iopub.execute_input": "2024-12-31T21:06:35.438128Z",
     "iopub.status.busy": "2024-12-31T21:06:35.437726Z",
     "iopub.status.idle": "2024-12-31T21:06:35.443364Z",
     "shell.execute_reply": "2024-12-31T21:06:35.441920Z"
    },
    "papermill": {
     "duration": 0.028185,
     "end_time": "2024-12-31T21:06:35.445152",
     "exception": false,
     "start_time": "2024-12-31T21:06:35.416967",
     "status": "completed"
    },
    "tags": []
   },
   "outputs": [
    {
     "name": "stdout",
     "output_type": "stream",
     "text": [
      "\n",
      "\n",
      "Category: comp.graphics\n",
      "--------------------------------------------------\n",
      "\n",
      "Sample document:\n",
      "\n",
      "A fair number of brave souls who upgraded their SI clock oscillator have\n",
      "shared their experiences for this poll. Please send a brief message detailing\n",
      "your experiences with the procedure. Top speed attained, CPU rated speed,\n",
      "add on cards and adapters, heat sinks, hour of usage per day, floppy disk\n",
      "functionality with 800 and 1.4 m floppies are especially requested.\n",
      "\n",
      "I will be summarizing in the next two days, so please add to the network\n",
      "knowledge base if you have done the clock upgrade and haven't answered this\n",
      "poll. Thanks....\n",
      "------------------------------\n"
     ]
    }
   ],
   "source": [
    "display_sample_doc(1)"
   ]
  },
  {
   "cell_type": "code",
   "execution_count": 19,
   "id": "994d4e93",
   "metadata": {
    "execution": {
     "iopub.execute_input": "2024-12-31T21:06:35.486465Z",
     "iopub.status.busy": "2024-12-31T21:06:35.486070Z",
     "iopub.status.idle": "2024-12-31T21:06:35.496082Z",
     "shell.execute_reply": "2024-12-31T21:06:35.494942Z"
    },
    "papermill": {
     "duration": 0.032623,
     "end_time": "2024-12-31T21:06:35.497997",
     "exception": false,
     "start_time": "2024-12-31T21:06:35.465374",
     "status": "completed"
    },
    "tags": []
   },
   "outputs": [],
   "source": [
    "X_train, X_test, y_train, y_test = train_test_split(\n",
    "    data.data, \n",
    "    data.target,\n",
    "    test_size=0.2,\n",
    ")"
   ]
  },
  {
   "cell_type": "markdown",
   "id": "a386b904",
   "metadata": {
    "papermill": {
     "duration": 0.026477,
     "end_time": "2024-12-31T21:06:35.545608",
     "exception": false,
     "start_time": "2024-12-31T21:06:35.519131",
     "status": "completed"
    },
    "tags": []
   },
   "source": [
    "# Feature Extraction"
   ]
  },
  {
   "cell_type": "markdown",
   "id": "ecc0b7bf",
   "metadata": {
    "papermill": {
     "duration": 0.020699,
     "end_time": "2024-12-31T21:06:35.585988",
     "exception": false,
     "start_time": "2024-12-31T21:06:35.565289",
     "status": "completed"
    },
    "tags": []
   },
   "source": [
    "## What is TF-IDF\n",
    "\n",
    "TF-IDF stands for term frequency-inverse document frequency, and it's a measure of how important a word is to a document in a collection of documents. It's used in information retrieval and machine learning to quantify the relevance of words, phrases, and lemmas in a document.\n",
    "\n",
    "TF-IDF is useful because it adjusts for the fact that some words appear more frequently than others. For example, if you only used term frequency to measure importance, you might over-emphasize terms like \"a\", \"the\", and \"of\" that appear often but don't carry much information. "
   ]
  },
  {
   "cell_type": "code",
   "execution_count": 20,
   "id": "7466020d",
   "metadata": {
    "execution": {
     "iopub.execute_input": "2024-12-31T21:06:35.627571Z",
     "iopub.status.busy": "2024-12-31T21:06:35.627183Z",
     "iopub.status.idle": "2024-12-31T21:06:35.631946Z",
     "shell.execute_reply": "2024-12-31T21:06:35.630847Z"
    },
    "papermill": {
     "duration": 0.0274,
     "end_time": "2024-12-31T21:06:35.633587",
     "exception": false,
     "start_time": "2024-12-31T21:06:35.606187",
     "status": "completed"
    },
    "tags": []
   },
   "outputs": [],
   "source": [
    "tfidf = TfidfVectorizer(\n",
    "    max_features=5000,\n",
    "    stop_words='english',\n",
    "    ngram_range=(1, 2),\n",
    "    min_df=2\n",
    ")"
   ]
  },
  {
   "cell_type": "markdown",
   "id": "54a41b98",
   "metadata": {
    "papermill": {
     "duration": 0.019507,
     "end_time": "2024-12-31T21:06:35.673154",
     "exception": false,
     "start_time": "2024-12-31T21:06:35.653647",
     "status": "completed"
    },
    "tags": []
   },
   "source": [
    "Here’s what each parameter in `TfidfVectorizer` does:\n",
    "\n",
    "- `max_features=5000`: Limits the number of features (unique words or n-grams) to the top 5000 based on term frequency across the dataset.\n",
    "- `stop_words='english'`: Removes common English stop words (e.g., \"the,\" \"and,\" \"is\") from the vocabulary.\n",
    "- `ngram_range=(1, 2)`: Considers both unigrams (single words) and bigrams (two consecutive words) as features.\n",
    "- `min_df=2`: Ignores terms that appear in fewer than 2 documents to reduce noise."
   ]
  },
  {
   "cell_type": "code",
   "execution_count": 21,
   "id": "7afc4930",
   "metadata": {
    "execution": {
     "iopub.execute_input": "2024-12-31T21:06:35.728015Z",
     "iopub.status.busy": "2024-12-31T21:06:35.727460Z",
     "iopub.status.idle": "2024-12-31T21:06:41.960808Z",
     "shell.execute_reply": "2024-12-31T21:06:41.959750Z"
    },
    "papermill": {
     "duration": 6.263753,
     "end_time": "2024-12-31T21:06:41.962748",
     "exception": false,
     "start_time": "2024-12-31T21:06:35.698995",
     "status": "completed"
    },
    "tags": []
   },
   "outputs": [],
   "source": [
    "X_train_tfidf = tfidf.fit_transform(X_train)\n",
    "X_test_tfidf = tfidf.transform(X_test)"
   ]
  },
  {
   "cell_type": "markdown",
   "id": "281252ad",
   "metadata": {
    "papermill": {
     "duration": 0.020206,
     "end_time": "2024-12-31T21:06:42.003428",
     "exception": false,
     "start_time": "2024-12-31T21:06:41.983222",
     "status": "completed"
    },
    "tags": []
   },
   "source": [
    "1. This step first \"fits\" the TfidfVectorizer on the training data X_train, meaning it learns the vocabulary (based on the parameters defined such as max_features, stop_words, ngram_range, and min_df). Then, it transforms the X_train data into a TF-IDF matrix, where each document is represented as a vector of TF-IDF scores for the selected features\n",
    "2. After fitting the vectorizer on the training data, we use the transform method to apply the same transformation to the test data X_test. This ensures that the test data is represented using the same vocabulary and feature extraction scheme as the training data (but without \"fitting\" the vectorizer again, so no data leakage occurs).\n",
    "\n",
    "Once we’ve trained a model and used the `TfidfVectorizer` to transform this training data, we must use the same vectorizer to transform any new data (like test data or live data). This ensures that the model sees the same features during testing or inference that it saw during training.\n",
    "\n",
    "### Why use the same vectorizer?\n",
    "Vocabulary consistency: The vectorizer learns the vocabulary from the training data (after applying parameters like max_features, stop_words, etc.). If you use a different vectorizer or refit it on the test data, it might have a different vocabulary, which could lead to mismatched features for the model.\n",
    "\n",
    "Avoiding data leakage: By using the same vectorizer (without refitting it), you avoid leaking information from the test data into the training process, which can lead to overfitting."
   ]
  },
  {
   "cell_type": "code",
   "execution_count": 22,
   "id": "7bccc649",
   "metadata": {
    "execution": {
     "iopub.execute_input": "2024-12-31T21:06:42.045809Z",
     "iopub.status.busy": "2024-12-31T21:06:42.045449Z",
     "iopub.status.idle": "2024-12-31T21:06:42.052878Z",
     "shell.execute_reply": "2024-12-31T21:06:42.051630Z"
    },
    "papermill": {
     "duration": 0.030479,
     "end_time": "2024-12-31T21:06:42.054537",
     "exception": false,
     "start_time": "2024-12-31T21:06:42.024058",
     "status": "completed"
    },
    "tags": []
   },
   "outputs": [
    {
     "name": "stdout",
     "output_type": "stream",
     "text": [
      "Vocabulary size: 5000\n",
      "\n",
      "Sample features:\n",
      "['dc', 'today', 'isn', 'suitable', 'funds', 'rocket', 'goal', 'did', 'lot', 'going']\n"
     ]
    }
   ],
   "source": [
    "print(f\"Vocabulary size: {len(tfidf.vocabulary_)}\")\n",
    "print(\"\\nSample features:\")\n",
    "print(list(tfidf.vocabulary_.keys())[:10])"
   ]
  },
  {
   "cell_type": "code",
   "execution_count": 23,
   "id": "30f8e1b9",
   "metadata": {
    "execution": {
     "iopub.execute_input": "2024-12-31T21:06:42.097671Z",
     "iopub.status.busy": "2024-12-31T21:06:42.097201Z",
     "iopub.status.idle": "2024-12-31T21:06:42.103584Z",
     "shell.execute_reply": "2024-12-31T21:06:42.102180Z"
    },
    "papermill": {
     "duration": 0.030172,
     "end_time": "2024-12-31T21:06:42.105396",
     "exception": false,
     "start_time": "2024-12-31T21:06:42.075224",
     "status": "completed"
    },
    "tags": []
   },
   "outputs": [
    {
     "name": "stdout",
     "output_type": "stream",
     "text": [
      "Training data shape: (9051, 5000)\n",
      "Testing data shape: (2263, 5000)\n"
     ]
    }
   ],
   "source": [
    "print(f\"Training data shape: {X_train_tfidf.shape}\")\n",
    "print(f\"Testing data shape: {X_test_tfidf.shape}\")"
   ]
  },
  {
   "cell_type": "code",
   "execution_count": 24,
   "id": "4abb7431",
   "metadata": {
    "execution": {
     "iopub.execute_input": "2024-12-31T21:06:42.204388Z",
     "iopub.status.busy": "2024-12-31T21:06:42.203933Z",
     "iopub.status.idle": "2024-12-31T21:06:42.214271Z",
     "shell.execute_reply": "2024-12-31T21:06:42.213254Z"
    },
    "papermill": {
     "duration": 0.033881,
     "end_time": "2024-12-31T21:06:42.216134",
     "exception": false,
     "start_time": "2024-12-31T21:06:42.182253",
     "status": "completed"
    },
    "tags": []
   },
   "outputs": [
    {
     "data": {
      "text/plain": [
       "['dc',\n",
       " 'today',\n",
       " 'isn',\n",
       " 'suitable',\n",
       " 'funds',\n",
       " 'rocket',\n",
       " 'goal',\n",
       " 'did',\n",
       " 'lot',\n",
       " 'going',\n",
       " 'reports',\n",
       " 'soon',\n",
       " 'bush',\n",
       " 'right',\n",
       " 'people',\n",
       " 'paying',\n",
       " 'public',\n",
       " 'support',\n",
       " 'critical',\n",
       " 'politics']"
      ]
     },
     "execution_count": 24,
     "metadata": {},
     "output_type": "execute_result"
    }
   ],
   "source": [
    "# First 20 words in our vocabluary\n",
    "list(tfidf.vocabulary_.keys())[:20]"
   ]
  },
  {
   "cell_type": "markdown",
   "id": "eac92f64",
   "metadata": {
    "papermill": {
     "duration": 0.020387,
     "end_time": "2024-12-31T21:06:42.262733",
     "exception": false,
     "start_time": "2024-12-31T21:06:42.242346",
     "status": "completed"
    },
    "tags": []
   },
   "source": [
    "Example usage of our vectoriser"
   ]
  },
  {
   "cell_type": "code",
   "execution_count": 25,
   "id": "cf9a1dd2",
   "metadata": {
    "execution": {
     "iopub.execute_input": "2024-12-31T21:06:42.305088Z",
     "iopub.status.busy": "2024-12-31T21:06:42.304572Z",
     "iopub.status.idle": "2024-12-31T21:06:42.313448Z",
     "shell.execute_reply": "2024-12-31T21:06:42.312294Z"
    },
    "papermill": {
     "duration": 0.032106,
     "end_time": "2024-12-31T21:06:42.315186",
     "exception": false,
     "start_time": "2024-12-31T21:06:42.283080",
     "status": "completed"
    },
    "tags": []
   },
   "outputs": [
    {
     "data": {
      "text/plain": [
       "<1x5000 sparse matrix of type '<class 'numpy.float64'>'\n",
       "\twith 0 stored elements in Compressed Sparse Row format>"
      ]
     },
     "execution_count": 25,
     "metadata": {},
     "output_type": "execute_result"
    }
   ],
   "source": [
    "tfidf.transform([\"Aditya\"])"
   ]
  },
  {
   "cell_type": "markdown",
   "id": "139b687d",
   "metadata": {
    "papermill": {
     "duration": 0.019974,
     "end_time": "2024-12-31T21:06:42.356760",
     "exception": false,
     "start_time": "2024-12-31T21:06:42.336786",
     "status": "completed"
    },
    "tags": []
   },
   "source": [
    "The output `<1x5000 sparse matrix with 0 stored elements>` means that the vectorizer did not find any matching features (terms or n-grams) from the word `\"Aditya\"` in the vocabulary it learned from the training data."
   ]
  },
  {
   "cell_type": "code",
   "execution_count": 26,
   "id": "5936091a",
   "metadata": {
    "execution": {
     "iopub.execute_input": "2024-12-31T21:06:42.399528Z",
     "iopub.status.busy": "2024-12-31T21:06:42.399190Z",
     "iopub.status.idle": "2024-12-31T21:06:42.406687Z",
     "shell.execute_reply": "2024-12-31T21:06:42.405641Z"
    },
    "papermill": {
     "duration": 0.031623,
     "end_time": "2024-12-31T21:06:42.408619",
     "exception": false,
     "start_time": "2024-12-31T21:06:42.376996",
     "status": "completed"
    },
    "tags": []
   },
   "outputs": [
    {
     "data": {
      "text/plain": [
       "<1x5000 sparse matrix of type '<class 'numpy.float64'>'\n",
       "\twith 1 stored elements in Compressed Sparse Row format>"
      ]
     },
     "execution_count": 26,
     "metadata": {},
     "output_type": "execute_result"
    }
   ],
   "source": [
    "tfidf.transform([\"Signals\"])"
   ]
  },
  {
   "cell_type": "markdown",
   "id": "8c427732",
   "metadata": {
    "papermill": {
     "duration": 0.020232,
     "end_time": "2024-12-31T21:06:42.458508",
     "exception": false,
     "start_time": "2024-12-31T21:06:42.438276",
     "status": "completed"
    },
    "tags": []
   },
   "source": [
    "The output <1x5000 sparse matrix with 1 stored elements> means that the vectorizer has transformed the word \"Signals\" into a sparse matrix with 1 non-zero element.\n",
    "\n",
    "- 1x5000 Sparse Matrix: The transformed data is a sparse matrix with 1 row and 5000 columns. Each of these 5000 columns corresponds to one of the top 5000 features (words or n-grams) in the vocabulary learned by the TfidfVectorizer. Since the input is just a single word \"Signals\", there will only be one non-zero value in the matrix (if the word exists in the vocabulary).\n",
    "\n",
    "- 1 Stored Element: This means that only one element in the matrix has a non-zero value, which indicates that the word \"Signals\" is part of the learned vocabulary, and the matrix stores its TF-IDF score at the corresponding feature index.\n",
    "\n",
    "- Sparse Matrix: Since the vectorizer learned a vocabulary with 5000 features, most of the entries for this single document will be zero (i.e., the matrix will be mostly empty), and only the value corresponding to the feature for \"Signals\" will have a non-zero value."
   ]
  },
  {
   "cell_type": "code",
   "execution_count": 27,
   "id": "688df548",
   "metadata": {
    "execution": {
     "iopub.execute_input": "2024-12-31T21:06:42.501621Z",
     "iopub.status.busy": "2024-12-31T21:06:42.501132Z",
     "iopub.status.idle": "2024-12-31T21:06:42.510475Z",
     "shell.execute_reply": "2024-12-31T21:06:42.509464Z"
    },
    "papermill": {
     "duration": 0.033139,
     "end_time": "2024-12-31T21:06:42.512416",
     "exception": false,
     "start_time": "2024-12-31T21:06:42.479277",
     "status": "completed"
    },
    "tags": []
   },
   "outputs": [
    {
     "data": {
      "text/plain": [
       "array([[0., 0., 0., ..., 0., 0., 0.]])"
      ]
     },
     "execution_count": 27,
     "metadata": {},
     "output_type": "execute_result"
    }
   ],
   "source": [
    "X_signals_tfidf = tfidf.transform([\"Signals\"])\n",
    "dense_matrix = X_signals_tfidf.toarray()\n",
    "dense_matrix\n",
    "\n",
    "# This will show the TF-IDF score for \"Signals\" along with zeros for all the other terms. The position of the non-zero value corresponds to the feature index for \"Signals\" in the learned vocabulary."
   ]
  },
  {
   "cell_type": "code",
   "execution_count": 28,
   "id": "f69c4a95",
   "metadata": {
    "execution": {
     "iopub.execute_input": "2024-12-31T21:06:42.556101Z",
     "iopub.status.busy": "2024-12-31T21:06:42.555614Z",
     "iopub.status.idle": "2024-12-31T21:06:42.562202Z",
     "shell.execute_reply": "2024-12-31T21:06:42.560951Z"
    },
    "papermill": {
     "duration": 0.03041,
     "end_time": "2024-12-31T21:06:42.564121",
     "exception": false,
     "start_time": "2024-12-31T21:06:42.533711",
     "status": "completed"
    },
    "tags": []
   },
   "outputs": [],
   "source": [
    "def print_tfidf_non_zero_values(text):\n",
    "    X_tfidf = tfidf.transform([text])\n",
    "    dense_matrix = X_tfidf.toarray()\n",
    "    non_zero_indices = dense_matrix.nonzero()[1]\n",
    "    for idx in non_zero_indices:\n",
    "        word = list(tfidf.vocabulary_.keys())[idx]\n",
    "        value = dense_matrix[0][idx]\n",
    "        print(f\"Word: '{word}' | TF-IDF Value: {value}\")"
   ]
  },
  {
   "cell_type": "code",
   "execution_count": 29,
   "id": "6839fe52",
   "metadata": {
    "execution": {
     "iopub.execute_input": "2024-12-31T21:06:42.610608Z",
     "iopub.status.busy": "2024-12-31T21:06:42.610128Z",
     "iopub.status.idle": "2024-12-31T21:06:42.620413Z",
     "shell.execute_reply": "2024-12-31T21:06:42.619107Z"
    },
    "papermill": {
     "duration": 0.036579,
     "end_time": "2024-12-31T21:06:42.622319",
     "exception": false,
     "start_time": "2024-12-31T21:06:42.585740",
     "status": "completed"
    },
    "tags": []
   },
   "outputs": [
    {
     "name": "stdout",
     "output_type": "stream",
     "text": [
      "Word: 'core' | TF-IDF Value: 1.0\n"
     ]
    }
   ],
   "source": [
    "print_tfidf_non_zero_values(\"My bad\")"
   ]
  },
  {
   "cell_type": "code",
   "execution_count": 30,
   "id": "7dd095f6",
   "metadata": {
    "execution": {
     "iopub.execute_input": "2024-12-31T21:06:42.674059Z",
     "iopub.status.busy": "2024-12-31T21:06:42.673541Z",
     "iopub.status.idle": "2024-12-31T21:06:42.684498Z",
     "shell.execute_reply": "2024-12-31T21:06:42.683331Z"
    },
    "papermill": {
     "duration": 0.034614,
     "end_time": "2024-12-31T21:06:42.686409",
     "exception": false,
     "start_time": "2024-12-31T21:06:42.651795",
     "status": "completed"
    },
    "tags": []
   },
   "outputs": [
    {
     "name": "stdout",
     "output_type": "stream",
     "text": [
      "Word: 'military' | TF-IDF Value: 1.0\n"
     ]
    }
   ],
   "source": [
    "print_tfidf_non_zero_values(\"Computer\")"
   ]
  },
  {
   "cell_type": "markdown",
   "id": "98e464d8",
   "metadata": {
    "papermill": {
     "duration": 0.020827,
     "end_time": "2024-12-31T21:06:42.730370",
     "exception": false,
     "start_time": "2024-12-31T21:06:42.709543",
     "status": "completed"
    },
    "tags": []
   },
   "source": [
    "## What is MultinomialNB\n",
    "\n",
    "The multinomial Naive Bayes classifier is suitable for classification with discrete features (e.g., word counts for text classification). The multinomial distribution normally requires integer feature counts. However, in practice, fractional counts such as tf-idf may also work.\n",
    "\n",
    "- Works well with text data where features are word counts\n",
    "- Fast training and prediction\n",
    "- Performs well even with small training datasets\n",
    "- Good with high-dimensional data (many words)"
   ]
  },
  {
   "cell_type": "code",
   "execution_count": 31,
   "id": "063f3567",
   "metadata": {
    "execution": {
     "iopub.execute_input": "2024-12-31T21:06:42.773871Z",
     "iopub.status.busy": "2024-12-31T21:06:42.773495Z",
     "iopub.status.idle": "2024-12-31T21:06:42.778975Z",
     "shell.execute_reply": "2024-12-31T21:06:42.777956Z"
    },
    "papermill": {
     "duration": 0.028935,
     "end_time": "2024-12-31T21:06:42.780588",
     "exception": false,
     "start_time": "2024-12-31T21:06:42.751653",
     "status": "completed"
    },
    "tags": []
   },
   "outputs": [],
   "source": [
    "from sklearn.feature_extraction.text import CountVectorizer\n",
    "\n",
    "example_reviews = [\n",
    "    # College (0)\n",
    "    \"Students should learn DevOps first before learning MLOps\",\n",
    "    \"Final year projects are crucial for gaining practical experience in computer science\",\n",
    "    \"Campus placements help students secure jobs before graduation\",\n",
    "    \"The library resources are essential for research and academic success\",\n",
    "    \"Attending programming workshops enhances technical skills\",\n",
    "    \n",
    "    # AISSMS IOIT (1)\n",
    "    \"AISSMS IOIT in Pune offers excellent computer engineering program\",\n",
    "    \"AISSMS IOIT's annual tech fest TENET attracts participants from all over Maharashtra\",\n",
    "    \"The placement cell at AISSMS IOIT consistently achieves good placement records, but its down this year\",\n",
    "    \"AISSMS IOIT's Kennedy Road campus has modern computer laboratories\",\n",
    "    \n",
    "    # Movies (2)\n",
    "    \"The new superhero movie has amazing special effects and action sequences\",\n",
    "    \"This romantic comedy perfectly captures modern dating struggles\",\n",
    "    \"The documentary about climate change was eye-opening and informative\",\n",
    "    \"The thriller kept me on the edge of my seat until the very end\",\n",
    "    \"The animation quality in the latest Pixar film is groundbreaking\",\n",
    "    \n",
    "    # Music (3)\n",
    "    \"The new indie band's acoustic album has beautiful harmonies\",\n",
    "    \"This rap artist's lyrics tackle important social issues\",\n",
    "    \"The classical concert at the symphony hall was breathtaking\",\n",
    "    \"La la land is the best musical movie from 21st century\",\n",
    "    \"The Joker 2024 is the worst musical movie of the 21st century\"\n",
    "]\n",
    "\n",
    "# Labels: 0=College, 1=AISSMS, 2=Movies, 3=Music\n",
    "example_labels = [0, 0, 0, 0, 0, \n",
    "                 1, 1, 1, 1, \n",
    "                 2, 2, 2, 2, 2, \n",
    "                 3, 3, 3, 3, 3]"
   ]
  },
  {
   "cell_type": "code",
   "execution_count": 32,
   "id": "cfbf1925",
   "metadata": {
    "execution": {
     "iopub.execute_input": "2024-12-31T21:06:42.824208Z",
     "iopub.status.busy": "2024-12-31T21:06:42.823747Z",
     "iopub.status.idle": "2024-12-31T21:06:42.832075Z",
     "shell.execute_reply": "2024-12-31T21:06:42.831039Z"
    },
    "papermill": {
     "duration": 0.031832,
     "end_time": "2024-12-31T21:06:42.833692",
     "exception": false,
     "start_time": "2024-12-31T21:06:42.801860",
     "status": "completed"
    },
    "tags": []
   },
   "outputs": [],
   "source": [
    "example_vectorizer = CountVectorizer()\n",
    "example_X = example_vectorizer.fit_transform(example_reviews)"
   ]
  },
  {
   "cell_type": "code",
   "execution_count": 33,
   "id": "c7301726",
   "metadata": {
    "execution": {
     "iopub.execute_input": "2024-12-31T21:06:42.878552Z",
     "iopub.status.busy": "2024-12-31T21:06:42.878220Z",
     "iopub.status.idle": "2024-12-31T21:06:42.893094Z",
     "shell.execute_reply": "2024-12-31T21:06:42.892006Z"
    },
    "papermill": {
     "duration": 0.039798,
     "end_time": "2024-12-31T21:06:42.894671",
     "exception": false,
     "start_time": "2024-12-31T21:06:42.854873",
     "status": "completed"
    },
    "tags": []
   },
   "outputs": [
    {
     "data": {
      "text/html": [
       "<style>#sk-container-id-1 {color: black;background-color: white;}#sk-container-id-1 pre{padding: 0;}#sk-container-id-1 div.sk-toggleable {background-color: white;}#sk-container-id-1 label.sk-toggleable__label {cursor: pointer;display: block;width: 100%;margin-bottom: 0;padding: 0.3em;box-sizing: border-box;text-align: center;}#sk-container-id-1 label.sk-toggleable__label-arrow:before {content: \"▸\";float: left;margin-right: 0.25em;color: #696969;}#sk-container-id-1 label.sk-toggleable__label-arrow:hover:before {color: black;}#sk-container-id-1 div.sk-estimator:hover label.sk-toggleable__label-arrow:before {color: black;}#sk-container-id-1 div.sk-toggleable__content {max-height: 0;max-width: 0;overflow: hidden;text-align: left;background-color: #f0f8ff;}#sk-container-id-1 div.sk-toggleable__content pre {margin: 0.2em;color: black;border-radius: 0.25em;background-color: #f0f8ff;}#sk-container-id-1 input.sk-toggleable__control:checked~div.sk-toggleable__content {max-height: 200px;max-width: 100%;overflow: auto;}#sk-container-id-1 input.sk-toggleable__control:checked~label.sk-toggleable__label-arrow:before {content: \"▾\";}#sk-container-id-1 div.sk-estimator input.sk-toggleable__control:checked~label.sk-toggleable__label {background-color: #d4ebff;}#sk-container-id-1 div.sk-label input.sk-toggleable__control:checked~label.sk-toggleable__label {background-color: #d4ebff;}#sk-container-id-1 input.sk-hidden--visually {border: 0;clip: rect(1px 1px 1px 1px);clip: rect(1px, 1px, 1px, 1px);height: 1px;margin: -1px;overflow: hidden;padding: 0;position: absolute;width: 1px;}#sk-container-id-1 div.sk-estimator {font-family: monospace;background-color: #f0f8ff;border: 1px dotted black;border-radius: 0.25em;box-sizing: border-box;margin-bottom: 0.5em;}#sk-container-id-1 div.sk-estimator:hover {background-color: #d4ebff;}#sk-container-id-1 div.sk-parallel-item::after {content: \"\";width: 100%;border-bottom: 1px solid gray;flex-grow: 1;}#sk-container-id-1 div.sk-label:hover label.sk-toggleable__label {background-color: #d4ebff;}#sk-container-id-1 div.sk-serial::before {content: \"\";position: absolute;border-left: 1px solid gray;box-sizing: border-box;top: 0;bottom: 0;left: 50%;z-index: 0;}#sk-container-id-1 div.sk-serial {display: flex;flex-direction: column;align-items: center;background-color: white;padding-right: 0.2em;padding-left: 0.2em;position: relative;}#sk-container-id-1 div.sk-item {position: relative;z-index: 1;}#sk-container-id-1 div.sk-parallel {display: flex;align-items: stretch;justify-content: center;background-color: white;position: relative;}#sk-container-id-1 div.sk-item::before, #sk-container-id-1 div.sk-parallel-item::before {content: \"\";position: absolute;border-left: 1px solid gray;box-sizing: border-box;top: 0;bottom: 0;left: 50%;z-index: -1;}#sk-container-id-1 div.sk-parallel-item {display: flex;flex-direction: column;z-index: 1;position: relative;background-color: white;}#sk-container-id-1 div.sk-parallel-item:first-child::after {align-self: flex-end;width: 50%;}#sk-container-id-1 div.sk-parallel-item:last-child::after {align-self: flex-start;width: 50%;}#sk-container-id-1 div.sk-parallel-item:only-child::after {width: 0;}#sk-container-id-1 div.sk-dashed-wrapped {border: 1px dashed gray;margin: 0 0.4em 0.5em 0.4em;box-sizing: border-box;padding-bottom: 0.4em;background-color: white;}#sk-container-id-1 div.sk-label label {font-family: monospace;font-weight: bold;display: inline-block;line-height: 1.2em;}#sk-container-id-1 div.sk-label-container {text-align: center;}#sk-container-id-1 div.sk-container {/* jupyter's `normalize.less` sets `[hidden] { display: none; }` but bootstrap.min.css set `[hidden] { display: none !important; }` so we also need the `!important` here to be able to override the default hidden behavior on the sphinx rendered scikit-learn.org. See: https://github.com/scikit-learn/scikit-learn/issues/21755 */display: inline-block !important;position: relative;}#sk-container-id-1 div.sk-text-repr-fallback {display: none;}</style><div id=\"sk-container-id-1\" class=\"sk-top-container\"><div class=\"sk-text-repr-fallback\"><pre>MultinomialNB()</pre><b>In a Jupyter environment, please rerun this cell to show the HTML representation or trust the notebook. <br />On GitHub, the HTML representation is unable to render, please try loading this page with nbviewer.org.</b></div><div class=\"sk-container\" hidden><div class=\"sk-item\"><div class=\"sk-estimator sk-toggleable\"><input class=\"sk-toggleable__control sk-hidden--visually\" id=\"sk-estimator-id-1\" type=\"checkbox\" checked><label for=\"sk-estimator-id-1\" class=\"sk-toggleable__label sk-toggleable__label-arrow\">MultinomialNB</label><div class=\"sk-toggleable__content\"><pre>MultinomialNB()</pre></div></div></div></div></div>"
      ],
      "text/plain": [
       "MultinomialNB()"
      ]
     },
     "execution_count": 33,
     "metadata": {},
     "output_type": "execute_result"
    }
   ],
   "source": [
    "example_model = MultinomialNB()\n",
    "example_model.fit(example_X, example_labels)"
   ]
  },
  {
   "cell_type": "code",
   "execution_count": 34,
   "id": "331f141f",
   "metadata": {
    "execution": {
     "iopub.execute_input": "2024-12-31T21:06:42.937476Z",
     "iopub.status.busy": "2024-12-31T21:06:42.937135Z",
     "iopub.status.idle": "2024-12-31T21:06:42.942317Z",
     "shell.execute_reply": "2024-12-31T21:06:42.941426Z"
    },
    "papermill": {
     "duration": 0.028203,
     "end_time": "2024-12-31T21:06:42.943737",
     "exception": false,
     "start_time": "2024-12-31T21:06:42.915534",
     "status": "completed"
    },
    "tags": []
   },
   "outputs": [],
   "source": [
    "new_review = [\"Aditya godse studies in AISSMS IOIT\"]\n",
    "example_X_new = example_vectorizer.transform(new_review)\n",
    "\n",
    "prediction = example_model.predict(example_X_new)\n",
    "probabilities = example_model.predict_proba(example_X_new)"
   ]
  },
  {
   "cell_type": "code",
   "execution_count": 35,
   "id": "53c41074",
   "metadata": {
    "execution": {
     "iopub.execute_input": "2024-12-31T21:06:42.987041Z",
     "iopub.status.busy": "2024-12-31T21:06:42.986621Z",
     "iopub.status.idle": "2024-12-31T21:06:42.992482Z",
     "shell.execute_reply": "2024-12-31T21:06:42.991462Z"
    },
    "papermill": {
     "duration": 0.029655,
     "end_time": "2024-12-31T21:06:42.994208",
     "exception": false,
     "start_time": "2024-12-31T21:06:42.964553",
     "status": "completed"
    },
    "tags": []
   },
   "outputs": [
    {
     "data": {
      "text/plain": [
       "array([1])"
      ]
     },
     "execution_count": 35,
     "metadata": {},
     "output_type": "execute_result"
    }
   ],
   "source": [
    "prediction"
   ]
  },
  {
   "cell_type": "code",
   "execution_count": 36,
   "id": "77fae539",
   "metadata": {
    "execution": {
     "iopub.execute_input": "2024-12-31T21:06:43.038336Z",
     "iopub.status.busy": "2024-12-31T21:06:43.037983Z",
     "iopub.status.idle": "2024-12-31T21:06:43.044185Z",
     "shell.execute_reply": "2024-12-31T21:06:43.043159Z"
    },
    "papermill": {
     "duration": 0.030517,
     "end_time": "2024-12-31T21:06:43.045861",
     "exception": false,
     "start_time": "2024-12-31T21:06:43.015344",
     "status": "completed"
    },
    "tags": []
   },
   "outputs": [
    {
     "name": "stdout",
     "output_type": "stream",
     "text": [
      "\n",
      "Probabilities for each category:\n",
      "Category 0: 0.046\n",
      "Category 1: 0.893\n",
      "Category 2: 0.040\n",
      "Category 3: 0.021\n"
     ]
    }
   ],
   "source": [
    "print(\"\\nProbabilities for each category:\")\n",
    "for i, prob in enumerate(probabilities[0]):\n",
    "    print(f\"Category {i}: {prob:.3f}\")"
   ]
  },
  {
   "cell_type": "markdown",
   "id": "969e9ced",
   "metadata": {
    "papermill": {
     "duration": 0.022028,
     "end_time": "2024-12-31T21:06:43.089316",
     "exception": false,
     "start_time": "2024-12-31T21:06:43.067288",
     "status": "completed"
    },
    "tags": []
   },
   "source": [
    "This shows the probability that the model thinks in which category this new example belongs"
   ]
  },
  {
   "cell_type": "markdown",
   "id": "bae4a6d1",
   "metadata": {
    "papermill": {
     "duration": 0.02074,
     "end_time": "2024-12-31T21:06:43.131306",
     "exception": false,
     "start_time": "2024-12-31T21:06:43.110566",
     "status": "completed"
    },
    "tags": []
   },
   "source": [
    "# Modelling\n",
    "\n",
    "Multinomial Naive Bayes is a probabilistic classifier to calculate the probability distribution of text data, which makes it well-suited for data with features that represent discrete frequencies or counts of events in various natural language processing (NLP) tasks."
   ]
  },
  {
   "cell_type": "code",
   "execution_count": 37,
   "id": "b119e27f",
   "metadata": {
    "execution": {
     "iopub.execute_input": "2024-12-31T21:06:43.174491Z",
     "iopub.status.busy": "2024-12-31T21:06:43.174090Z",
     "iopub.status.idle": "2024-12-31T21:06:43.194773Z",
     "shell.execute_reply": "2024-12-31T21:06:43.193598Z"
    },
    "papermill": {
     "duration": 0.044499,
     "end_time": "2024-12-31T21:06:43.196753",
     "exception": false,
     "start_time": "2024-12-31T21:06:43.152254",
     "status": "completed"
    },
    "tags": []
   },
   "outputs": [
    {
     "data": {
      "text/html": [
       "<style>#sk-container-id-2 {color: black;background-color: white;}#sk-container-id-2 pre{padding: 0;}#sk-container-id-2 div.sk-toggleable {background-color: white;}#sk-container-id-2 label.sk-toggleable__label {cursor: pointer;display: block;width: 100%;margin-bottom: 0;padding: 0.3em;box-sizing: border-box;text-align: center;}#sk-container-id-2 label.sk-toggleable__label-arrow:before {content: \"▸\";float: left;margin-right: 0.25em;color: #696969;}#sk-container-id-2 label.sk-toggleable__label-arrow:hover:before {color: black;}#sk-container-id-2 div.sk-estimator:hover label.sk-toggleable__label-arrow:before {color: black;}#sk-container-id-2 div.sk-toggleable__content {max-height: 0;max-width: 0;overflow: hidden;text-align: left;background-color: #f0f8ff;}#sk-container-id-2 div.sk-toggleable__content pre {margin: 0.2em;color: black;border-radius: 0.25em;background-color: #f0f8ff;}#sk-container-id-2 input.sk-toggleable__control:checked~div.sk-toggleable__content {max-height: 200px;max-width: 100%;overflow: auto;}#sk-container-id-2 input.sk-toggleable__control:checked~label.sk-toggleable__label-arrow:before {content: \"▾\";}#sk-container-id-2 div.sk-estimator input.sk-toggleable__control:checked~label.sk-toggleable__label {background-color: #d4ebff;}#sk-container-id-2 div.sk-label input.sk-toggleable__control:checked~label.sk-toggleable__label {background-color: #d4ebff;}#sk-container-id-2 input.sk-hidden--visually {border: 0;clip: rect(1px 1px 1px 1px);clip: rect(1px, 1px, 1px, 1px);height: 1px;margin: -1px;overflow: hidden;padding: 0;position: absolute;width: 1px;}#sk-container-id-2 div.sk-estimator {font-family: monospace;background-color: #f0f8ff;border: 1px dotted black;border-radius: 0.25em;box-sizing: border-box;margin-bottom: 0.5em;}#sk-container-id-2 div.sk-estimator:hover {background-color: #d4ebff;}#sk-container-id-2 div.sk-parallel-item::after {content: \"\";width: 100%;border-bottom: 1px solid gray;flex-grow: 1;}#sk-container-id-2 div.sk-label:hover label.sk-toggleable__label {background-color: #d4ebff;}#sk-container-id-2 div.sk-serial::before {content: \"\";position: absolute;border-left: 1px solid gray;box-sizing: border-box;top: 0;bottom: 0;left: 50%;z-index: 0;}#sk-container-id-2 div.sk-serial {display: flex;flex-direction: column;align-items: center;background-color: white;padding-right: 0.2em;padding-left: 0.2em;position: relative;}#sk-container-id-2 div.sk-item {position: relative;z-index: 1;}#sk-container-id-2 div.sk-parallel {display: flex;align-items: stretch;justify-content: center;background-color: white;position: relative;}#sk-container-id-2 div.sk-item::before, #sk-container-id-2 div.sk-parallel-item::before {content: \"\";position: absolute;border-left: 1px solid gray;box-sizing: border-box;top: 0;bottom: 0;left: 50%;z-index: -1;}#sk-container-id-2 div.sk-parallel-item {display: flex;flex-direction: column;z-index: 1;position: relative;background-color: white;}#sk-container-id-2 div.sk-parallel-item:first-child::after {align-self: flex-end;width: 50%;}#sk-container-id-2 div.sk-parallel-item:last-child::after {align-self: flex-start;width: 50%;}#sk-container-id-2 div.sk-parallel-item:only-child::after {width: 0;}#sk-container-id-2 div.sk-dashed-wrapped {border: 1px dashed gray;margin: 0 0.4em 0.5em 0.4em;box-sizing: border-box;padding-bottom: 0.4em;background-color: white;}#sk-container-id-2 div.sk-label label {font-family: monospace;font-weight: bold;display: inline-block;line-height: 1.2em;}#sk-container-id-2 div.sk-label-container {text-align: center;}#sk-container-id-2 div.sk-container {/* jupyter's `normalize.less` sets `[hidden] { display: none; }` but bootstrap.min.css set `[hidden] { display: none !important; }` so we also need the `!important` here to be able to override the default hidden behavior on the sphinx rendered scikit-learn.org. See: https://github.com/scikit-learn/scikit-learn/issues/21755 */display: inline-block !important;position: relative;}#sk-container-id-2 div.sk-text-repr-fallback {display: none;}</style><div id=\"sk-container-id-2\" class=\"sk-top-container\"><div class=\"sk-text-repr-fallback\"><pre>MultinomialNB()</pre><b>In a Jupyter environment, please rerun this cell to show the HTML representation or trust the notebook. <br />On GitHub, the HTML representation is unable to render, please try loading this page with nbviewer.org.</b></div><div class=\"sk-container\" hidden><div class=\"sk-item\"><div class=\"sk-estimator sk-toggleable\"><input class=\"sk-toggleable__control sk-hidden--visually\" id=\"sk-estimator-id-2\" type=\"checkbox\" checked><label for=\"sk-estimator-id-2\" class=\"sk-toggleable__label sk-toggleable__label-arrow\">MultinomialNB</label><div class=\"sk-toggleable__content\"><pre>MultinomialNB()</pre></div></div></div></div></div>"
      ],
      "text/plain": [
       "MultinomialNB()"
      ]
     },
     "execution_count": 37,
     "metadata": {},
     "output_type": "execute_result"
    }
   ],
   "source": [
    "model = MultinomialNB()\n",
    "model.fit(X_train_tfidf, y_train)"
   ]
  },
  {
   "cell_type": "code",
   "execution_count": 38,
   "id": "6df0592e",
   "metadata": {
    "execution": {
     "iopub.execute_input": "2024-12-31T21:06:43.242409Z",
     "iopub.status.busy": "2024-12-31T21:06:43.242028Z",
     "iopub.status.idle": "2024-12-31T21:06:43.251292Z",
     "shell.execute_reply": "2024-12-31T21:06:43.250145Z"
    },
    "papermill": {
     "duration": 0.034558,
     "end_time": "2024-12-31T21:06:43.253312",
     "exception": false,
     "start_time": "2024-12-31T21:06:43.218754",
     "status": "completed"
    },
    "tags": []
   },
   "outputs": [
    {
     "data": {
      "text/plain": [
       "array([12, 16, 15, ..., 11,  1, 15])"
      ]
     },
     "execution_count": 38,
     "metadata": {},
     "output_type": "execute_result"
    }
   ],
   "source": [
    "y_pred = model.predict(X_test_tfidf)\n",
    "y_pred"
   ]
  },
  {
   "cell_type": "markdown",
   "id": "d0f81e1c",
   "metadata": {
    "papermill": {
     "duration": 0.021153,
     "end_time": "2024-12-31T21:06:43.296494",
     "exception": false,
     "start_time": "2024-12-31T21:06:43.275341",
     "status": "completed"
    },
    "tags": []
   },
   "source": [
    "# Evaluation"
   ]
  },
  {
   "cell_type": "code",
   "execution_count": 39,
   "id": "a0292805",
   "metadata": {
    "execution": {
     "iopub.execute_input": "2024-12-31T21:06:43.341216Z",
     "iopub.status.busy": "2024-12-31T21:06:43.340809Z",
     "iopub.status.idle": "2024-12-31T21:06:43.347367Z",
     "shell.execute_reply": "2024-12-31T21:06:43.346128Z"
    },
    "papermill": {
     "duration": 0.03102,
     "end_time": "2024-12-31T21:06:43.349337",
     "exception": false,
     "start_time": "2024-12-31T21:06:43.318317",
     "status": "completed"
    },
    "tags": []
   },
   "outputs": [],
   "source": [
    "text_vectorized = tfidf.transform([\"I love my computer\"])\n",
    "sampleprediction = model.predict(text_vectorized)"
   ]
  },
  {
   "cell_type": "code",
   "execution_count": 40,
   "id": "17e9cb5d",
   "metadata": {
    "execution": {
     "iopub.execute_input": "2024-12-31T21:06:43.393804Z",
     "iopub.status.busy": "2024-12-31T21:06:43.393450Z",
     "iopub.status.idle": "2024-12-31T21:06:43.399244Z",
     "shell.execute_reply": "2024-12-31T21:06:43.398417Z"
    },
    "papermill": {
     "duration": 0.029803,
     "end_time": "2024-12-31T21:06:43.400851",
     "exception": false,
     "start_time": "2024-12-31T21:06:43.371048",
     "status": "completed"
    },
    "tags": []
   },
   "outputs": [
    {
     "data": {
      "text/plain": [
       "array([1])"
      ]
     },
     "execution_count": 40,
     "metadata": {},
     "output_type": "execute_result"
    }
   ],
   "source": [
    "sampleprediction"
   ]
  },
  {
   "cell_type": "code",
   "execution_count": 41,
   "id": "ebb60604",
   "metadata": {
    "execution": {
     "iopub.execute_input": "2024-12-31T21:06:43.445139Z",
     "iopub.status.busy": "2024-12-31T21:06:43.444696Z",
     "iopub.status.idle": "2024-12-31T21:06:43.450950Z",
     "shell.execute_reply": "2024-12-31T21:06:43.449944Z"
    },
    "papermill": {
     "duration": 0.030245,
     "end_time": "2024-12-31T21:06:43.452686",
     "exception": false,
     "start_time": "2024-12-31T21:06:43.422441",
     "status": "completed"
    },
    "tags": []
   },
   "outputs": [
    {
     "data": {
      "text/plain": [
       "'comp.graphics'"
      ]
     },
     "execution_count": 41,
     "metadata": {},
     "output_type": "execute_result"
    }
   ],
   "source": [
    "data.target_names[sampleprediction[0]]"
   ]
  },
  {
   "cell_type": "code",
   "execution_count": 42,
   "id": "ff00ce04",
   "metadata": {
    "execution": {
     "iopub.execute_input": "2024-12-31T21:06:43.497072Z",
     "iopub.status.busy": "2024-12-31T21:06:43.496660Z",
     "iopub.status.idle": "2024-12-31T21:06:43.501769Z",
     "shell.execute_reply": "2024-12-31T21:06:43.500342Z"
    },
    "papermill": {
     "duration": 0.029376,
     "end_time": "2024-12-31T21:06:43.503564",
     "exception": false,
     "start_time": "2024-12-31T21:06:43.474188",
     "status": "completed"
    },
    "tags": []
   },
   "outputs": [],
   "source": [
    "def predictcategory(inputstring):\n",
    "    inputstring = [inputstring]\n",
    "    vectorised_text = tfidf.transform(inputstring)\n",
    "    modelprediction = model.predict(vectorised_text)\n",
    "    return data.target_names[modelprediction[0]]"
   ]
  },
  {
   "cell_type": "code",
   "execution_count": 43,
   "id": "db835e17",
   "metadata": {
    "execution": {
     "iopub.execute_input": "2024-12-31T21:06:43.549178Z",
     "iopub.status.busy": "2024-12-31T21:06:43.548749Z",
     "iopub.status.idle": "2024-12-31T21:06:43.556045Z",
     "shell.execute_reply": "2024-12-31T21:06:43.555144Z"
    },
    "papermill": {
     "duration": 0.031496,
     "end_time": "2024-12-31T21:06:43.557666",
     "exception": false,
     "start_time": "2024-12-31T21:06:43.526170",
     "status": "completed"
    },
    "tags": []
   },
   "outputs": [
    {
     "data": {
      "text/plain": [
       "'soc.religion.christian'"
      ]
     },
     "execution_count": 43,
     "metadata": {},
     "output_type": "execute_result"
    }
   ],
   "source": [
    "predictcategory(\"I do not have faith in god, I have faith in myself. I do not believe someone is comming to save us from our miseries\")"
   ]
  },
  {
   "cell_type": "code",
   "execution_count": 44,
   "id": "bbe73c9e",
   "metadata": {
    "execution": {
     "iopub.execute_input": "2024-12-31T21:06:43.602769Z",
     "iopub.status.busy": "2024-12-31T21:06:43.602398Z",
     "iopub.status.idle": "2024-12-31T21:06:43.610513Z",
     "shell.execute_reply": "2024-12-31T21:06:43.609135Z"
    },
    "papermill": {
     "duration": 0.032681,
     "end_time": "2024-12-31T21:06:43.612381",
     "exception": false,
     "start_time": "2024-12-31T21:06:43.579700",
     "status": "completed"
    },
    "tags": []
   },
   "outputs": [
    {
     "data": {
      "text/plain": [
       "'comp.sys.ibm.pc.hardware'"
      ]
     },
     "execution_count": 44,
     "metadata": {},
     "output_type": "execute_result"
    }
   ],
   "source": [
    "predictcategory(\"My name is aditya godse and I use macos computer\")"
   ]
  },
  {
   "cell_type": "code",
   "execution_count": 45,
   "id": "d31cced3",
   "metadata": {
    "execution": {
     "iopub.execute_input": "2024-12-31T21:06:43.657882Z",
     "iopub.status.busy": "2024-12-31T21:06:43.657493Z",
     "iopub.status.idle": "2024-12-31T21:06:43.675339Z",
     "shell.execute_reply": "2024-12-31T21:06:43.674296Z"
    },
    "papermill": {
     "duration": 0.042493,
     "end_time": "2024-12-31T21:06:43.677112",
     "exception": false,
     "start_time": "2024-12-31T21:06:43.634619",
     "status": "completed"
    },
    "tags": []
   },
   "outputs": [
    {
     "name": "stdout",
     "output_type": "stream",
     "text": [
      "                          precision    recall  f1-score   support\n",
      "\n",
      "             alt.atheism       0.54      0.34      0.42        94\n",
      "           comp.graphics       0.53      0.59      0.56       103\n",
      " comp.os.ms-windows.misc       0.65      0.67      0.66       116\n",
      "comp.sys.ibm.pc.hardware       0.62      0.66      0.64       117\n",
      "   comp.sys.mac.hardware       0.81      0.66      0.73       119\n",
      "          comp.windows.x       0.74      0.74      0.74       119\n",
      "            misc.forsale       0.76      0.71      0.73       128\n",
      "               rec.autos       0.61      0.64      0.63       121\n",
      "         rec.motorcycles       0.64      0.62      0.63       109\n",
      "      rec.sport.baseball       0.80      0.76      0.78       123\n",
      "        rec.sport.hockey       0.50      0.89      0.64       110\n",
      "               sci.crypt       0.77      0.78      0.77       125\n",
      "         sci.electronics       0.70      0.59      0.64       120\n",
      "                 sci.med       0.78      0.73      0.75       122\n",
      "               sci.space       0.84      0.70      0.76       126\n",
      "  soc.religion.christian       0.47      0.90      0.61       126\n",
      "      talk.politics.guns       0.69      0.76      0.72       110\n",
      "   talk.politics.mideast       0.84      0.72      0.78       104\n",
      "      talk.politics.misc       0.79      0.44      0.56       101\n",
      "      talk.religion.misc       0.75      0.04      0.08        70\n",
      "\n",
      "                accuracy                           0.67      2263\n",
      "               macro avg       0.69      0.65      0.64      2263\n",
      "            weighted avg       0.69      0.67      0.66      2263\n",
      "\n"
     ]
    }
   ],
   "source": [
    "print(classification_report(y_test, y_pred, target_names=category_names))"
   ]
  },
  {
   "cell_type": "code",
   "execution_count": 46,
   "id": "4893e857",
   "metadata": {
    "execution": {
     "iopub.execute_input": "2024-12-31T21:06:43.722677Z",
     "iopub.status.busy": "2024-12-31T21:06:43.722345Z",
     "iopub.status.idle": "2024-12-31T21:06:45.451760Z",
     "shell.execute_reply": "2024-12-31T21:06:45.450686Z"
    },
    "papermill": {
     "duration": 1.755369,
     "end_time": "2024-12-31T21:06:45.454645",
     "exception": false,
     "start_time": "2024-12-31T21:06:43.699276",
     "status": "completed"
    },
    "tags": []
   },
   "outputs": [
    {
     "data": {
      "image/png": "[encoded data removed]",
      "text/plain": [
       "<Figure size 1500x1500 with 2 Axes>"
      ]
     },
     "metadata": {},
     "output_type": "display_data"
    }
   ],
   "source": [
    "plt.figure(figsize=(15, 15))\n",
    "cm = confusion_matrix(y_test, y_pred)\n",
    "sns.heatmap(cm, annot=True, fmt='d',\n",
    "            xticklabels=category_names,\n",
    "            yticklabels=category_names)\n",
    "plt.xticks(rotation=45)\n",
    "plt.yticks(rotation=0)\n",
    "plt.tight_layout()"
   ]
  },
  {
   "cell_type": "code",
   "execution_count": 47,
   "id": "e4a86492",
   "metadata": {
    "execution": {
     "iopub.execute_input": "2024-12-31T21:06:45.507691Z",
     "iopub.status.busy": "2024-12-31T21:06:45.507309Z",
     "iopub.status.idle": "2024-12-31T21:06:45.665425Z",
     "shell.execute_reply": "2024-12-31T21:06:45.664441Z"
    },
    "papermill": {
     "duration": 0.188527,
     "end_time": "2024-12-31T21:06:45.668738",
     "exception": false,
     "start_time": "2024-12-31T21:06:45.480211",
     "status": "completed"
    },
    "tags": []
   },
   "outputs": [
    {
     "name": "stdout",
     "output_type": "stream",
     "text": [
      "\n",
      "Top features for category 'alt.atheism':\n",
      "god: 0.0024\n",
      "don: 0.0018\n",
      "people: 0.0018\n",
      "think: 0.0017\n",
      "atheism: 0.0016\n",
      "religion: 0.0016\n",
      "just: 0.0015\n",
      "say: 0.0013\n",
      "does: 0.0013\n",
      "islam: 0.0013\n",
      "\n",
      "Top features for category 'comp.graphics':\n",
      "graphics: 0.0029\n",
      "thanks: 0.0021\n",
      "image: 0.0020\n",
      "files: 0.0019\n",
      "file: 0.0018\n",
      "program: 0.0016\n",
      "know: 0.0015\n",
      "format: 0.0015\n",
      "looking: 0.0015\n",
      "does: 0.0014\n",
      "\n",
      "Top features for category 'comp.os.ms-windows.misc':\n",
      "windows: 0.0063\n",
      "file: 0.0028\n",
      "dos: 0.0023\n",
      "files: 0.0022\n",
      "drivers: 0.0019\n",
      "thanks: 0.0018\n",
      "use: 0.0018\n",
      "card: 0.0018\n",
      "driver: 0.0018\n",
      "using: 0.0016\n",
      "\n",
      "Top features for category 'comp.sys.ibm.pc.hardware':\n",
      "drive: 0.0031\n",
      "card: 0.0026\n",
      "scsi: 0.0026\n",
      "controller: 0.0022\n",
      "bus: 0.0020\n",
      "ide: 0.0020\n",
      "pc: 0.0019\n",
      "thanks: 0.0018\n",
      "monitor: 0.0017\n",
      "drives: 0.0016\n",
      "\n",
      "Top features for category 'comp.sys.mac.hardware':\n",
      "mac: 0.0036\n",
      "apple: 0.0028\n",
      "drive: 0.0022\n",
      "quadra: 0.0016\n",
      "thanks: 0.0016\n",
      "problem: 0.0016\n",
      "simms: 0.0016\n",
      "use: 0.0015\n",
      "does: 0.0015\n",
      "know: 0.0015\n",
      "\n",
      "Top features for category 'comp.windows.x':\n",
      "window: 0.0036\n",
      "server: 0.0027\n",
      "motif: 0.0026\n",
      "widget: 0.0020\n",
      "use: 0.0019\n",
      "thanks: 0.0019\n",
      "x11r5: 0.0016\n",
      "application: 0.0016\n",
      "program: 0.0016\n",
      "using: 0.0015\n",
      "\n",
      "Top features for category 'misc.forsale':\n",
      "sale: 0.0037\n",
      "shipping: 0.0026\n",
      "offer: 0.0026\n",
      "00: 0.0025\n",
      "condition: 0.0024\n",
      "new: 0.0022\n",
      "sell: 0.0019\n",
      "asking: 0.0018\n",
      "interested: 0.0018\n",
      "email: 0.0018\n",
      "\n",
      "Top features for category 'rec.autos':\n",
      "car: 0.0060\n",
      "cars: 0.0026\n",
      "like: 0.0017\n",
      "engine: 0.0017\n",
      "just: 0.0016\n",
      "new: 0.0014\n",
      "dealer: 0.0014\n",
      "don: 0.0014\n",
      "good: 0.0013\n",
      "oil: 0.0013\n",
      "\n",
      "Top features for category 'rec.motorcycles':\n",
      "bike: 0.0048\n",
      "dod: 0.0022\n",
      "bikes: 0.0019\n",
      "ride: 0.0019\n",
      "motorcycle: 0.0017\n",
      "just: 0.0016\n",
      "riding: 0.0016\n",
      "like: 0.0016\n",
      "helmet: 0.0015\n",
      "bmw: 0.0014\n",
      "\n",
      "Top features for category 'rec.sport.baseball':\n",
      "year: 0.0028\n",
      "baseball: 0.0024\n",
      "team: 0.0024\n",
      "game: 0.0021\n",
      "games: 0.0018\n",
      "think: 0.0017\n",
      "pitching: 0.0017\n",
      "runs: 0.0016\n",
      "players: 0.0016\n",
      "hit: 0.0016\n",
      "\n",
      "Top features for category 'rec.sport.hockey':\n",
      "game: 0.0033\n",
      "team: 0.0033\n",
      "hockey: 0.0031\n",
      "players: 0.0022\n",
      "play: 0.0021\n",
      "nhl: 0.0021\n",
      "season: 0.0021\n",
      "games: 0.0020\n",
      "leafs: 0.0015\n",
      "year: 0.0015\n",
      "\n",
      "Top features for category 'sci.crypt':\n",
      "key: 0.0043\n",
      "encryption: 0.0034\n",
      "clipper: 0.0030\n",
      "chip: 0.0029\n",
      "government: 0.0024\n",
      "keys: 0.0022\n",
      "nsa: 0.0020\n",
      "people: 0.0016\n",
      "escrow: 0.0016\n",
      "use: 0.0015\n",
      "\n",
      "Top features for category 'sci.electronics':\n",
      "use: 0.0017\n",
      "circuit: 0.0016\n",
      "power: 0.0015\n",
      "does: 0.0015\n",
      "like: 0.0013\n",
      "know: 0.0013\n",
      "electronics: 0.0013\n",
      "thanks: 0.0013\n",
      "good: 0.0013\n",
      "ground: 0.0013\n",
      "\n",
      "Top features for category 'sci.med':\n",
      "msg: 0.0019\n",
      "disease: 0.0017\n",
      "gordon banks: 0.0016\n",
      "gordon: 0.0016\n",
      "geb: 0.0016\n",
      "doctor: 0.0015\n",
      "pitt edu: 0.0015\n",
      "pitt: 0.0015\n",
      "edu: 0.0015\n",
      "pain: 0.0015\n",
      "\n",
      "Top features for category 'sci.space':\n",
      "space: 0.0045\n",
      "nasa: 0.0023\n",
      "moon: 0.0017\n",
      "orbit: 0.0016\n",
      "launch: 0.0016\n",
      "like: 0.0014\n",
      "earth: 0.0013\n",
      "just: 0.0013\n",
      "lunar: 0.0013\n",
      "shuttle: 0.0012\n",
      "\n",
      "Top features for category 'soc.religion.christian':\n",
      "god: 0.0058\n",
      "jesus: 0.0031\n",
      "church: 0.0025\n",
      "christ: 0.0021\n",
      "people: 0.0020\n",
      "christians: 0.0020\n",
      "bible: 0.0019\n",
      "christian: 0.0018\n",
      "believe: 0.0017\n",
      "faith: 0.0017\n",
      "\n",
      "Top features for category 'talk.politics.guns':\n",
      "gun: 0.0036\n",
      "guns: 0.0025\n",
      "people: 0.0019\n",
      "weapons: 0.0016\n",
      "don: 0.0016\n",
      "fbi: 0.0015\n",
      "firearms: 0.0014\n",
      "government: 0.0014\n",
      "law: 0.0013\n",
      "just: 0.0012\n",
      "\n",
      "Top features for category 'talk.politics.mideast':\n",
      "israel: 0.0040\n",
      "israeli: 0.0029\n",
      "jews: 0.0024\n",
      "armenian: 0.0023\n",
      "turkish: 0.0020\n",
      "armenians: 0.0020\n",
      "people: 0.0020\n",
      "arab: 0.0019\n",
      "jewish: 0.0014\n",
      "arabs: 0.0014\n",
      "\n",
      "Top features for category 'talk.politics.misc':\n",
      "people: 0.0021\n",
      "government: 0.0018\n",
      "don: 0.0014\n",
      "just: 0.0013\n",
      "clinton: 0.0012\n",
      "tax: 0.0012\n",
      "think: 0.0012\n",
      "president: 0.0011\n",
      "gay: 0.0010\n",
      "drugs: 0.0010\n",
      "\n",
      "Top features for category 'talk.religion.misc':\n",
      "god: 0.0026\n",
      "jesus: 0.0018\n",
      "christian: 0.0014\n",
      "people: 0.0014\n",
      "bible: 0.0012\n",
      "christians: 0.0011\n",
      "don: 0.0011\n",
      "say: 0.0011\n",
      "just: 0.0010\n",
      "think: 0.0010\n"
     ]
    }
   ],
   "source": [
    "def print_top_features(category_id, n_features=10):\n",
    "    feature_names = np.array(tfidf.get_feature_names_out())\n",
    "    log_probs = model.feature_log_prob_[category_id]\n",
    "    top_indices = np.argsort(log_probs)[-n_features:]\n",
    "    \n",
    "    print(f\"\\nTop features for category '{category_names[category_id]}':\")\n",
    "    for idx in reversed(top_indices):\n",
    "        print(f\"{feature_names[idx]}: {np.exp(log_probs[idx]):.4f}\")\n",
    "\n",
    "for category_id in range(len(category_names)):\n",
    "    print_top_features(category_id)"
   ]
  },
  {
   "cell_type": "code",
   "execution_count": 48,
   "id": "363e3e0c",
   "metadata": {
    "execution": {
     "iopub.execute_input": "2024-12-31T21:06:45.739945Z",
     "iopub.status.busy": "2024-12-31T21:06:45.739411Z",
     "iopub.status.idle": "2024-12-31T21:06:45.746100Z",
     "shell.execute_reply": "2024-12-31T21:06:45.744619Z"
    },
    "papermill": {
     "duration": 0.046025,
     "end_time": "2024-12-31T21:06:45.747883",
     "exception": false,
     "start_time": "2024-12-31T21:06:45.701858",
     "status": "completed"
    },
    "tags": []
   },
   "outputs": [
    {
     "name": "stdout",
     "output_type": "stream",
     "text": [
      "I have a line on a Ducati 900GTS 1978 model with 17k on the clock.  Runs\n",
      "very well, paint is the bronze/brown/orange faded out, leaks a bit of oil\n",
      "and pops out of 1st with hard accel.  The shop will fix trans and oil \n",
      "leak.  They sold the bike to the 1 and only owner.  They want $3495, and\n",
      "I am thinking more like $3K.  Any opinions out there?  Please email me.\n",
      "Thanks.  It would be a nice stable mate to the Beemer.  Then I'll get\n",
      "a jap bike and call myself Axis Motors!\n",
      "\n",
      "-- \n",
      "-----------------------------------------------------------------------\n",
      "\"Tuba\" (Irwin)      \"I honk therefore I am\"     CompuTrac-Richardson,Tx\n",
      "irwin@cmptrc.lonestar.org    DoD #0826          (R75/6)\n"
     ]
    }
   ],
   "source": [
    "print(data.data[10])"
   ]
  },
  {
   "cell_type": "code",
   "execution_count": 49,
   "id": "ef7269f2",
   "metadata": {
    "execution": {
     "iopub.execute_input": "2024-12-31T21:06:45.808566Z",
     "iopub.status.busy": "2024-12-31T21:06:45.808204Z",
     "iopub.status.idle": "2024-12-31T21:06:45.815594Z",
     "shell.execute_reply": "2024-12-31T21:06:45.814566Z"
    },
    "papermill": {
     "duration": 0.036254,
     "end_time": "2024-12-31T21:06:45.817291",
     "exception": false,
     "start_time": "2024-12-31T21:06:45.781037",
     "status": "completed"
    },
    "tags": []
   },
   "outputs": [
    {
     "data": {
      "text/plain": [
       "'talk.politics.guns'"
      ]
     },
     "execution_count": 49,
     "metadata": {},
     "output_type": "execute_result"
    }
   ],
   "source": [
    "predictcategory(\"Politics\")"
   ]
  },
  {
   "cell_type": "markdown",
   "id": "765c88f4",
   "metadata": {
    "papermill": {
     "duration": 0.025985,
     "end_time": "2024-12-31T21:06:45.869952",
     "exception": false,
     "start_time": "2024-12-31T21:06:45.843967",
     "status": "completed"
    },
    "tags": []
   },
   "source": [
    "# Exporting model for [website](https://adimail.github.io/fetch_20newsgroups-document-classification)"
   ]
  },
  {
   "cell_type": "code",
   "execution_count": 50,
   "id": "63676932",
   "metadata": {
    "execution": {
     "iopub.execute_input": "2024-12-31T21:06:45.923802Z",
     "iopub.status.busy": "2024-12-31T21:06:45.923460Z",
     "iopub.status.idle": "2024-12-31T21:06:49.211772Z",
     "shell.execute_reply": "2024-12-31T21:06:49.210568Z"
    },
    "papermill": {
     "duration": 3.317044,
     "end_time": "2024-12-31T21:06:49.213747",
     "exception": false,
     "start_time": "2024-12-31T21:06:45.896703",
     "status": "completed"
    },
    "tags": []
   },
   "outputs": [
    {
     "name": "stdout",
     "output_type": "stream",
     "text": [
      "Model and vectorizer saved successfully.\n"
     ]
    }
   ],
   "source": [
    "import joblib\n",
    "import os\n",
    "\n",
    "save_dir = './model_data'\n",
    "if not os.path.exists(save_dir):\n",
    "    os.makedirs(save_dir)\n",
    "\n",
    "joblib.dump(model, os.path.join(save_dir, 'model.pkl'))\n",
    "joblib.dump(tfidf, os.path.join(save_dir, 'vectorizer.pkl'))\n",
    "\n",
    "print(\"Model and vectorizer saved successfully.\")"
   ]
  },
  {
   "cell_type": "code",
   "execution_count": 51,
   "id": "19eef3cf",
   "metadata": {
    "execution": {
     "iopub.execute_input": "2024-12-31T21:06:49.267918Z",
     "iopub.status.busy": "2024-12-31T21:06:49.267517Z",
     "iopub.status.idle": "2024-12-31T21:06:49.286003Z",
     "shell.execute_reply": "2024-12-31T21:06:49.284757Z"
    },
    "papermill": {
     "duration": 0.047369,
     "end_time": "2024-12-31T21:06:49.287694",
     "exception": false,
     "start_time": "2024-12-31T21:06:49.240325",
     "status": "completed"
    },
    "tags": []
   },
   "outputs": [
    {
     "name": "stdout",
     "output_type": "stream",
     "text": [
      "Vocabulary and classes exported as JSON.\n"
     ]
    }
   ],
   "source": [
    "import json\n",
    "\n",
    "vocab = {str(key): int(value) for key, value in tfidf.vocabulary_.items()}\n",
    "classes = [int(cls) for cls in model.classes_]\n",
    "\n",
    "with open(os.path.join(save_dir, 'vocab.json'), 'w') as f:\n",
    "    json.dump(vocab, f)\n",
    "\n",
    "with open(os.path.join(save_dir, 'classes.json'), 'w') as f:\n",
    "    json.dump(classes, f)\n",
    "\n",
    "print(\"Vocabulary and classes exported as JSON.\")"
   ]
  },
  {
   "cell_type": "markdown",
   "id": "1130dcf4",
   "metadata": {
    "papermill": {
     "duration": 0.026179,
     "end_time": "2024-12-31T21:06:49.340593",
     "exception": false,
     "start_time": "2024-12-31T21:06:49.314414",
     "status": "completed"
    },
    "tags": []
   },
   "source": [
    "## Testing the exported model in python environment"
   ]
  },
  {
   "cell_type": "code",
   "execution_count": 52,
   "id": "2a406765",
   "metadata": {
    "execution": {
     "iopub.execute_input": "2024-12-31T21:06:49.394585Z",
     "iopub.status.busy": "2024-12-31T21:06:49.394247Z",
     "iopub.status.idle": "2024-12-31T21:06:51.177128Z",
     "shell.execute_reply": "2024-12-31T21:06:51.175974Z"
    },
    "papermill": {
     "duration": 1.812183,
     "end_time": "2024-12-31T21:06:51.179072",
     "exception": false,
     "start_time": "2024-12-31T21:06:49.366889",
     "status": "completed"
    },
    "tags": []
   },
   "outputs": [],
   "source": [
    "loaded_model = joblib.load(os.path.join(save_dir, 'model.pkl'))\n",
    "loaded_vectorizer = joblib.load(os.path.join(save_dir, 'vectorizer.pkl'))"
   ]
  },
  {
   "cell_type": "code",
   "execution_count": 53,
   "id": "b4df333c",
   "metadata": {
    "execution": {
     "iopub.execute_input": "2024-12-31T21:06:51.232902Z",
     "iopub.status.busy": "2024-12-31T21:06:51.232504Z",
     "iopub.status.idle": "2024-12-31T21:06:51.240508Z",
     "shell.execute_reply": "2024-12-31T21:06:51.239448Z"
    },
    "papermill": {
     "duration": 0.036784,
     "end_time": "2024-12-31T21:06:51.242092",
     "exception": false,
     "start_time": "2024-12-31T21:06:51.205308",
     "status": "completed"
    },
    "tags": []
   },
   "outputs": [
    {
     "name": "stdout",
     "output_type": "stream",
     "text": [
      "Predicted category: rec.motorcycles\n"
     ]
    }
   ],
   "source": [
    "text = [\"My name is aditya and I like bikes\"]\n",
    "vectorized_text = loaded_vectorizer.transform(text)\n",
    "prediction = loaded_model.predict(vectorized_text)\n",
    "\n",
    "print(\"Predicted category:\", category_names[prediction[0]])"
   ]
  },
  {
   "cell_type": "markdown",
   "id": "8dc18a78",
   "metadata": {
    "papermill": {
     "duration": 0.026069,
     "end_time": "2024-12-31T21:06:51.294446",
     "exception": false,
     "start_time": "2024-12-31T21:06:51.268377",
     "status": "completed"
    },
    "tags": []
   },
   "source": [
    "# Keras model"
   ]
  },
  {
   "cell_type": "markdown",
   "id": "515370a7",
   "metadata": {
    "papermill": {
     "duration": 0.026514,
     "end_time": "2024-12-31T21:06:51.347250",
     "exception": false,
     "start_time": "2024-12-31T21:06:51.320736",
     "status": "completed"
    },
    "tags": []
   },
   "source": [
    "## With GlobalAveragePooling1D"
   ]
  },
  {
   "cell_type": "code",
   "execution_count": 54,
   "id": "344468ce",
   "metadata": {
    "execution": {
     "iopub.execute_input": "2024-12-31T21:06:51.401556Z",
     "iopub.status.busy": "2024-12-31T21:06:51.401184Z",
     "iopub.status.idle": "2024-12-31T21:07:04.208007Z",
     "shell.execute_reply": "2024-12-31T21:07:04.207021Z"
    },
    "papermill": {
     "duration": 12.836344,
     "end_time": "2024-12-31T21:07:04.210062",
     "exception": false,
     "start_time": "2024-12-31T21:06:51.373718",
     "status": "completed"
    },
    "tags": []
   },
   "outputs": [],
   "source": [
    "from tensorflow.keras.preprocessing.text import Tokenizer\n",
    "from tensorflow.keras.preprocessing.sequence import pad_sequences\n",
    "from sklearn.model_selection import train_test_split\n",
    "\n",
    "tokenizer = Tokenizer(num_words=5000)  # Limit vocabulary size to 5000\n",
    "tokenizer.fit_on_texts(X_train)\n",
    "\n",
    "X_train_seq = tokenizer.texts_to_sequences(X_train)\n",
    "X_test_seq = tokenizer.texts_to_sequences(X_test)\n",
    "\n",
    "max_sequence_length = 100  # maximum length of each sequence\n",
    "X_train_pad = pad_sequences(X_train_seq, maxlen=max_sequence_length)\n",
    "X_test_pad = pad_sequences(X_test_seq, maxlen=max_sequence_length)"
   ]
  },
  {
   "cell_type": "code",
   "execution_count": 55,
   "id": "fdf9db14",
   "metadata": {
    "execution": {
     "iopub.execute_input": "2024-12-31T21:07:04.264437Z",
     "iopub.status.busy": "2024-12-31T21:07:04.263703Z",
     "iopub.status.idle": "2024-12-31T21:07:04.330010Z",
     "shell.execute_reply": "2024-12-31T21:07:04.328810Z"
    },
    "papermill": {
     "duration": 0.095665,
     "end_time": "2024-12-31T21:07:04.332005",
     "exception": false,
     "start_time": "2024-12-31T21:07:04.236340",
     "status": "completed"
    },
    "tags": []
   },
   "outputs": [
    {
     "name": "stderr",
     "output_type": "stream",
     "text": [
      "/usr/local/lib/python3.10/dist-packages/keras/src/layers/core/embedding.py:90: UserWarning: Argument `input_length` is deprecated. Just remove it.\n",
      "  warnings.warn(\n"
     ]
    }
   ],
   "source": [
    "from keras.models import Sequential\n",
    "from keras.layers import Embedding, Dense, GlobalAveragePooling1D\n",
    "from keras.optimizers import Adam\n",
    "\n",
    "model = Sequential()\n",
    "model.add(Embedding(input_dim=5000,  # Size of the vocabulary\n",
    "                    output_dim=128,  # Size of the embedding vectors\n",
    "                    input_length=max_sequence_length))  # Length of input sequences\n",
    "\n",
    "# Use Global Average Pooling for testig purposes\n",
    "model.add(GlobalAveragePooling1D())  # Reduces sequence dimensions to 1D\n",
    "model.add(Dense(128, activation='relu'))  # Hidden layer\n",
    "model.add(Dense(len(classes), activation='softmax'))  # Output layer (softmax for multi-class)\n",
    "\n",
    "model.compile(optimizer=Adam(), \n",
    "              loss='sparse_categorical_crossentropy',\n",
    "              metrics=['accuracy'])\n"
   ]
  },
  {
   "cell_type": "code",
   "execution_count": 56,
   "id": "094d9520",
   "metadata": {
    "execution": {
     "iopub.execute_input": "2024-12-31T21:07:04.386341Z",
     "iopub.status.busy": "2024-12-31T21:07:04.385974Z",
     "iopub.status.idle": "2024-12-31T21:07:15.194946Z",
     "shell.execute_reply": "2024-12-31T21:07:15.193911Z"
    },
    "papermill": {
     "duration": 10.837978,
     "end_time": "2024-12-31T21:07:15.196628",
     "exception": false,
     "start_time": "2024-12-31T21:07:04.358650",
     "status": "completed"
    },
    "tags": []
   },
   "outputs": [
    {
     "name": "stdout",
     "output_type": "stream",
     "text": [
      "Epoch 1/5\n",
      "\u001b[1m283/283\u001b[0m \u001b[32m━━━━━━━━━━━━━━━━━━━━\u001b[0m\u001b[37m\u001b[0m \u001b[1m3s\u001b[0m 7ms/step - accuracy: 0.0896 - loss: 2.9472 - val_accuracy: 0.2435 - val_loss: 2.5112\n",
      "Epoch 2/5\n",
      "\u001b[1m283/283\u001b[0m \u001b[32m━━━━━━━━━━━━━━━━━━━━\u001b[0m\u001b[37m\u001b[0m \u001b[1m2s\u001b[0m 6ms/step - accuracy: 0.2986 - loss: 2.3078 - val_accuracy: 0.4096 - val_loss: 1.9374\n",
      "Epoch 3/5\n",
      "\u001b[1m283/283\u001b[0m \u001b[32m━━━━━━━━━━━━━━━━━━━━\u001b[0m\u001b[37m\u001b[0m \u001b[1m2s\u001b[0m 6ms/step - accuracy: 0.4897 - loss: 1.7065 - val_accuracy: 0.4878 - val_loss: 1.7166\n",
      "Epoch 4/5\n",
      "\u001b[1m283/283\u001b[0m \u001b[32m━━━━━━━━━━━━━━━━━━━━\u001b[0m\u001b[37m\u001b[0m \u001b[1m2s\u001b[0m 7ms/step - accuracy: 0.5936 - loss: 1.3656 - val_accuracy: 0.5493 - val_loss: 1.5209\n",
      "Epoch 5/5\n",
      "\u001b[1m283/283\u001b[0m \u001b[32m━━━━━━━━━━━━━━━━━━━━\u001b[0m\u001b[37m\u001b[0m \u001b[1m2s\u001b[0m 7ms/step - accuracy: 0.6899 - loss: 1.1231 - val_accuracy: 0.5378 - val_loss: 1.5619\n"
     ]
    }
   ],
   "source": [
    "history = model.fit(X_train_pad, y_train, epochs=5, batch_size=32, validation_data=(X_test_pad, y_test))"
   ]
  },
  {
   "cell_type": "code",
   "execution_count": 57,
   "id": "4870a1e6",
   "metadata": {
    "execution": {
     "iopub.execute_input": "2024-12-31T21:07:15.272182Z",
     "iopub.status.busy": "2024-12-31T21:07:15.271741Z",
     "iopub.status.idle": "2024-12-31T21:07:15.476966Z",
     "shell.execute_reply": "2024-12-31T21:07:15.475634Z"
    },
    "papermill": {
     "duration": 0.245214,
     "end_time": "2024-12-31T21:07:15.478936",
     "exception": false,
     "start_time": "2024-12-31T21:07:15.233722",
     "status": "completed"
    },
    "tags": []
   },
   "outputs": [
    {
     "name": "stdout",
     "output_type": "stream",
     "text": [
      "\u001b[1m71/71\u001b[0m \u001b[32m━━━━━━━━━━━━━━━━━━━━\u001b[0m\u001b[37m\u001b[0m \u001b[1m0s\u001b[0m 2ms/step - accuracy: 0.5246 - loss: 1.5996\n",
      "Test Loss: 1.5618706941604614\n",
      "Test Accuracy: 0.5377817153930664\n"
     ]
    }
   ],
   "source": [
    "score = model.evaluate(X_test_pad, y_test, batch_size=32)\n",
    "print(f\"Test Loss: {score[0]}\")\n",
    "print(f\"Test Accuracy: {score[1]}\")"
   ]
  },
  {
   "cell_type": "markdown",
   "id": "6a5b4d2d",
   "metadata": {
    "papermill": {
     "duration": 0.041766,
     "end_time": "2024-12-31T21:07:15.558038",
     "exception": false,
     "start_time": "2024-12-31T21:07:15.516272",
     "status": "completed"
    },
    "tags": []
   },
   "source": [
    "## with LSTM\n",
    "\n",
    "LSTM (Long Short-Term Memory) is a type of Recurrent Neural Network (RNN) that is particularly effective in learning from sequential data. RNNs, in general, are used to process sequences (e.g., time series, text, speech), where the output of the model at each time step depends not only on the current input but also on the previous time steps (the \"memory\" of the sequence).\n",
    "\n",
    "Why Use LSTM?\n",
    "\n",
    "LSTM networks excel at tasks where long-term dependencies matter. In text or sequence modeling (such as language translation, sentiment analysis, and document classification), LSTM is commonly used because:\n",
    "\n",
    "- Sequential Data: LSTMs are designed to handle sequences effectively (like sentences, time series, or speech).\n",
    "- Learning Dependencies: LSTMs can learn both short- and long-term dependencies in the input sequence.\n",
    "\n",
    "Example Use Cases:\n",
    "- Text Generation: Predicting the next word in a sentence given the previous ones.\n",
    "- Sentiment Analysis: Classifying the sentiment of a sentence or document.\n",
    "- Machine Translation: Translating text from one language to another."
   ]
  },
  {
   "cell_type": "code",
   "execution_count": 58,
   "id": "916048fe",
   "metadata": {
    "execution": {
     "iopub.execute_input": "2024-12-31T21:07:15.633644Z",
     "iopub.status.busy": "2024-12-31T21:07:15.633309Z",
     "iopub.status.idle": "2024-12-31T21:07:15.653127Z",
     "shell.execute_reply": "2024-12-31T21:07:15.652044Z"
    },
    "papermill": {
     "duration": 0.060174,
     "end_time": "2024-12-31T21:07:15.654965",
     "exception": false,
     "start_time": "2024-12-31T21:07:15.594791",
     "status": "completed"
    },
    "tags": []
   },
   "outputs": [],
   "source": [
    "from keras.layers import LSTM\n",
    "\n",
    "# LSTM layer (instead of GlobalAveragePooling1D)\n",
    "model = Sequential()\n",
    "model.add(Embedding(input_dim=5000, output_dim=128, input_length=max_sequence_length))\n",
    "model.add(LSTM(128, return_sequences=False))\n",
    "model.add(Dense(128, activation='relu'))\n",
    "model.add(Dense(len(classes), activation='softmax'))\n",
    "\n",
    "model.compile(optimizer=Adam(), loss='sparse_categorical_crossentropy', metrics=['accuracy'])"
   ]
  },
  {
   "cell_type": "code",
   "execution_count": 59,
   "id": "8b4c44e4",
   "metadata": {
    "execution": {
     "iopub.execute_input": "2024-12-31T21:07:15.751531Z",
     "iopub.status.busy": "2024-12-31T21:07:15.751134Z",
     "iopub.status.idle": "2024-12-31T21:09:57.661456Z",
     "shell.execute_reply": "2024-12-31T21:09:57.660034Z"
    },
    "papermill": {
     "duration": 161.967112,
     "end_time": "2024-12-31T21:09:57.663716",
     "exception": false,
     "start_time": "2024-12-31T21:07:15.696604",
     "status": "completed"
    },
    "tags": []
   },
   "outputs": [
    {
     "name": "stdout",
     "output_type": "stream",
     "text": [
      "Epoch 1/5\n",
      "\u001b[1m283/283\u001b[0m \u001b[32m━━━━━━━━━━━━━━━━━━━━\u001b[0m\u001b[37m\u001b[0m \u001b[1m34s\u001b[0m 112ms/step - accuracy: 0.0806 - loss: 2.8661 - val_accuracy: 0.1745 - val_loss: 2.4186\n",
      "Epoch 2/5\n",
      "\u001b[1m283/283\u001b[0m \u001b[32m━━━━━━━━━━━━━━━━━━━━\u001b[0m\u001b[37m\u001b[0m \u001b[1m31s\u001b[0m 111ms/step - accuracy: 0.2447 - loss: 2.1790 - val_accuracy: 0.2961 - val_loss: 2.0743\n",
      "Epoch 3/5\n",
      "\u001b[1m283/283\u001b[0m \u001b[32m━━━━━━━━━━━━━━━━━━━━\u001b[0m\u001b[37m\u001b[0m \u001b[1m31s\u001b[0m 111ms/step - accuracy: 0.4058 - loss: 1.7105 - val_accuracy: 0.3522 - val_loss: 1.9863\n",
      "Epoch 4/5\n",
      "\u001b[1m283/283\u001b[0m \u001b[32m━━━━━━━━━━━━━━━━━━━━\u001b[0m\u001b[37m\u001b[0m \u001b[1m31s\u001b[0m 111ms/step - accuracy: 0.5365 - loss: 1.3395 - val_accuracy: 0.4308 - val_loss: 1.8493\n",
      "Epoch 5/5\n",
      "\u001b[1m283/283\u001b[0m \u001b[32m━━━━━━━━━━━━━━━━━━━━\u001b[0m\u001b[37m\u001b[0m \u001b[1m34s\u001b[0m 119ms/step - accuracy: 0.6409 - loss: 1.0543 - val_accuracy: 0.4476 - val_loss: 1.9259\n"
     ]
    }
   ],
   "source": [
    "history = model.fit(X_train_pad, y_train, epochs=5, batch_size=32, validation_data=(X_test_pad, y_test))"
   ]
  },
  {
   "cell_type": "code",
   "execution_count": 60,
   "id": "908ec02f",
   "metadata": {
    "execution": {
     "iopub.execute_input": "2024-12-31T21:09:57.902479Z",
     "iopub.status.busy": "2024-12-31T21:09:57.902097Z",
     "iopub.status.idle": "2024-12-31T21:09:58.413722Z",
     "shell.execute_reply": "2024-12-31T21:09:58.412650Z"
    },
    "papermill": {
     "duration": 0.633076,
     "end_time": "2024-12-31T21:09:58.415740",
     "exception": false,
     "start_time": "2024-12-31T21:09:57.782664",
     "status": "completed"
    },
    "tags": []
   },
   "outputs": [
    {
     "data": {
      "image/png": "[encoded data removed]",
      "text/plain": [
       "<Figure size 1000x600 with 2 Axes>"
      ]
     },
     "metadata": {},
     "output_type": "display_data"
    }
   ],
   "source": [
    "history_dict = history.history\n",
    "\n",
    "plt.figure(figsize=(10, 6))\n",
    "plt.subplot(1, 2, 1)\n",
    "plt.plot(history_dict['loss'], label='Training Loss')\n",
    "plt.plot(history_dict['val_loss'], label='Validation Loss')\n",
    "plt.title('Training and Validation Loss')\n",
    "plt.xlabel('Epochs')\n",
    "plt.ylabel('Loss')\n",
    "plt.legend()\n",
    "\n",
    "if 'accuracy' in history_dict and 'val_accuracy' in history_dict:\n",
    "    plt.subplot(1, 2, 2)\n",
    "    plt.plot(history_dict['accuracy'], label='Training Accuracy')\n",
    "    plt.plot(history_dict['val_accuracy'], label='Validation Accuracy')\n",
    "    plt.title('Training and Validation Accuracy')\n",
    "    plt.xlabel('Epochs')\n",
    "    plt.ylabel('Accuracy')\n",
    "    plt.legend()\n",
    "\n",
    "plt.tight_layout()\n",
    "plt.show()"
   ]
  },
  {
   "cell_type": "code",
   "execution_count": 61,
   "id": "343ccdb2",
   "metadata": {
    "execution": {
     "iopub.execute_input": "2024-12-31T21:09:58.655131Z",
     "iopub.status.busy": "2024-12-31T21:09:58.654722Z",
     "iopub.status.idle": "2024-12-31T21:09:58.660087Z",
     "shell.execute_reply": "2024-12-31T21:09:58.658917Z"
    },
    "papermill": {
     "duration": 0.126791,
     "end_time": "2024-12-31T21:09:58.661751",
     "exception": false,
     "start_time": "2024-12-31T21:09:58.534960",
     "status": "completed"
    },
    "tags": []
   },
   "outputs": [],
   "source": [
    "def predict_category(text):\n",
    "    text_tokenized = tokenizer.texts_to_sequences([text])\n",
    "    text_padded = pad_sequences(text_tokenized, maxlen=100)\n",
    "    prediction = model.predict(text_padded)\n",
    "    predicted_class = np.argmax(prediction, axis=1)\n",
    "    predicted_category = category_names[predicted_class[0]]\n",
    "    \n",
    "    return predicted_category"
   ]
  },
  {
   "cell_type": "code",
   "execution_count": 62,
   "id": "3f978dbc",
   "metadata": {
    "execution": {
     "iopub.execute_input": "2024-12-31T21:09:58.899221Z",
     "iopub.status.busy": "2024-12-31T21:09:58.898849Z",
     "iopub.status.idle": "2024-12-31T21:09:59.150221Z",
     "shell.execute_reply": "2024-12-31T21:09:59.149038Z"
    },
    "papermill": {
     "duration": 0.372285,
     "end_time": "2024-12-31T21:09:59.152262",
     "exception": false,
     "start_time": "2024-12-31T21:09:58.779977",
     "status": "completed"
    },
    "tags": []
   },
   "outputs": [
    {
     "name": "stdout",
     "output_type": "stream",
     "text": [
      "\u001b[1m1/1\u001b[0m \u001b[32m━━━━━━━━━━━━━━━━━━━━\u001b[0m\u001b[37m\u001b[0m \u001b[1m0s\u001b[0m 194ms/step\n"
     ]
    },
    {
     "data": {
      "text/plain": [
       "'comp.sys.mac.hardware'"
      ]
     },
     "execution_count": 62,
     "metadata": {},
     "output_type": "execute_result"
    }
   ],
   "source": [
    "predict_category(\"My name is adity and I love computers\")"
   ]
  },
  {
   "cell_type": "code",
   "execution_count": 63,
   "id": "e4e06989",
   "metadata": {
    "execution": {
     "iopub.execute_input": "2024-12-31T21:09:59.392649Z",
     "iopub.status.busy": "2024-12-31T21:09:59.392257Z",
     "iopub.status.idle": "2024-12-31T21:09:59.480806Z",
     "shell.execute_reply": "2024-12-31T21:09:59.479737Z"
    },
    "papermill": {
     "duration": 0.212667,
     "end_time": "2024-12-31T21:09:59.482470",
     "exception": false,
     "start_time": "2024-12-31T21:09:59.269803",
     "status": "completed"
    },
    "tags": []
   },
   "outputs": [
    {
     "name": "stdout",
     "output_type": "stream",
     "text": [
      "\u001b[1m1/1\u001b[0m \u001b[32m━━━━━━━━━━━━━━━━━━━━\u001b[0m\u001b[37m\u001b[0m \u001b[1m0s\u001b[0m 34ms/step\n"
     ]
    },
    {
     "data": {
      "text/plain": [
       "'talk.religion.misc'"
      ]
     },
     "execution_count": 63,
     "metadata": {},
     "output_type": "execute_result"
    }
   ],
   "source": [
    "predict_category(\"Does god exists?\")"
   ]
  },
  {
   "cell_type": "code",
   "execution_count": 64,
   "id": "8cf8c6cc",
   "metadata": {
    "execution": {
     "iopub.execute_input": "2024-12-31T21:09:59.784037Z",
     "iopub.status.busy": "2024-12-31T21:09:59.783599Z",
     "iopub.status.idle": "2024-12-31T21:09:59.873367Z",
     "shell.execute_reply": "2024-12-31T21:09:59.872394Z"
    },
    "papermill": {
     "duration": 0.21215,
     "end_time": "2024-12-31T21:09:59.874951",
     "exception": false,
     "start_time": "2024-12-31T21:09:59.662801",
     "status": "completed"
    },
    "tags": []
   },
   "outputs": [
    {
     "name": "stdout",
     "output_type": "stream",
     "text": [
      "\u001b[1m1/1\u001b[0m \u001b[32m━━━━━━━━━━━━━━━━━━━━\u001b[0m\u001b[37m\u001b[0m \u001b[1m0s\u001b[0m 35ms/step\n"
     ]
    },
    {
     "data": {
      "text/plain": [
       "'rec.motorcycles'"
      ]
     },
     "execution_count": 64,
     "metadata": {},
     "output_type": "execute_result"
    }
   ],
   "source": [
    "predict_category(\"I want to own a bike and travel india\")"
   ]
  },
  {
   "cell_type": "code",
   "execution_count": 65,
   "id": "a1a3f413",
   "metadata": {
    "execution": {
     "iopub.execute_input": "2024-12-31T21:10:00.116648Z",
     "iopub.status.busy": "2024-12-31T21:10:00.116302Z",
     "iopub.status.idle": "2024-12-31T21:10:00.207492Z",
     "shell.execute_reply": "2024-12-31T21:10:00.206455Z"
    },
    "papermill": {
     "duration": 0.21588,
     "end_time": "2024-12-31T21:10:00.209198",
     "exception": false,
     "start_time": "2024-12-31T21:09:59.993318",
     "status": "completed"
    },
    "tags": []
   },
   "outputs": [
    {
     "name": "stdout",
     "output_type": "stream",
     "text": [
      "\u001b[1m1/1\u001b[0m \u001b[32m━━━━━━━━━━━━━━━━━━━━\u001b[0m\u001b[37m\u001b[0m \u001b[1m0s\u001b[0m 35ms/step\n"
     ]
    },
    {
     "data": {
      "text/plain": [
       "'sci.space'"
      ]
     },
     "execution_count": 65,
     "metadata": {},
     "output_type": "execute_result"
    }
   ],
   "source": [
    "predict_category(\"The Super Bowl is known for its halftime performances.\")"
   ]
  },
  {
   "cell_type": "code",
   "execution_count": 66,
   "id": "ebe4c46f",
   "metadata": {
    "execution": {
     "iopub.execute_input": "2024-12-31T21:10:00.450992Z",
     "iopub.status.busy": "2024-12-31T21:10:00.450575Z",
     "iopub.status.idle": "2024-12-31T21:10:00.546127Z",
     "shell.execute_reply": "2024-12-31T21:10:00.544786Z"
    },
    "papermill": {
     "duration": 0.220375,
     "end_time": "2024-12-31T21:10:00.548170",
     "exception": false,
     "start_time": "2024-12-31T21:10:00.327795",
     "status": "completed"
    },
    "tags": []
   },
   "outputs": [
    {
     "name": "stdout",
     "output_type": "stream",
     "text": [
      "\u001b[1m1/1\u001b[0m \u001b[32m━━━━━━━━━━━━━━━━━━━━\u001b[0m\u001b[37m\u001b[0m \u001b[1m0s\u001b[0m 40ms/step\n"
     ]
    },
    {
     "data": {
      "text/plain": [
       "'rec.sport.baseball'"
      ]
     },
     "execution_count": 66,
     "metadata": {},
     "output_type": "execute_result"
    }
   ],
   "source": [
    "predict_category(\"The Super Bowl is one of the most-watched single sporting events in the world. It's also often the most-watched American broadcast of the year.\")"
   ]
  },
  {
   "cell_type": "markdown",
   "id": "755bf2f9",
   "metadata": {
    "papermill": {
     "duration": 0.118647,
     "end_time": "2024-12-31T21:10:00.786176",
     "exception": false,
     "start_time": "2024-12-31T21:10:00.667529",
     "status": "completed"
    },
    "tags": []
   },
   "source": [
    "## Save keras model"
   ]
  },
  {
   "cell_type": "code",
   "execution_count": 67,
   "id": "af8e7a45",
   "metadata": {
    "execution": {
     "iopub.execute_input": "2024-12-31T21:10:01.026321Z",
     "iopub.status.busy": "2024-12-31T21:10:01.025908Z",
     "iopub.status.idle": "2024-12-31T21:10:01.124017Z",
     "shell.execute_reply": "2024-12-31T21:10:01.123005Z"
    },
    "papermill": {
     "duration": 0.220353,
     "end_time": "2024-12-31T21:10:01.125976",
     "exception": false,
     "start_time": "2024-12-31T21:10:00.905623",
     "status": "completed"
    },
    "tags": []
   },
   "outputs": [],
   "source": [
    "model.save('./model_data/model.keras')"
   ]
  },
  {
   "cell_type": "code",
   "execution_count": 68,
   "id": "5615f50f",
   "metadata": {
    "execution": {
     "iopub.execute_input": "2024-12-31T21:10:01.366280Z",
     "iopub.status.busy": "2024-12-31T21:10:01.365897Z",
     "iopub.status.idle": "2024-12-31T21:10:01.410609Z",
     "shell.execute_reply": "2024-12-31T21:10:01.409537Z"
    },
    "papermill": {
     "duration": 0.169468,
     "end_time": "2024-12-31T21:10:01.412860",
     "exception": false,
     "start_time": "2024-12-31T21:10:01.243392",
     "status": "completed"
    },
    "tags": []
   },
   "outputs": [],
   "source": [
    "model.save('./model_data/model.h5')"
   ]
  },
  {
   "cell_type": "markdown",
   "id": "b8c8c029",
   "metadata": {
    "papermill": {
     "duration": 0.117821,
     "end_time": "2024-12-31T21:10:01.649193",
     "exception": false,
     "start_time": "2024-12-31T21:10:01.531372",
     "status": "completed"
    },
    "tags": []
   },
   "source": [
    "## Test loaded model"
   ]
  },
  {
   "cell_type": "code",
   "execution_count": 69,
   "id": "b728f744",
   "metadata": {
    "execution": {
     "iopub.execute_input": "2024-12-31T21:10:01.886455Z",
     "iopub.status.busy": "2024-12-31T21:10:01.886074Z",
     "iopub.status.idle": "2024-12-31T21:10:02.059023Z",
     "shell.execute_reply": "2024-12-31T21:10:02.057920Z"
    },
    "papermill": {
     "duration": 0.294646,
     "end_time": "2024-12-31T21:10:02.061129",
     "exception": false,
     "start_time": "2024-12-31T21:10:01.766483",
     "status": "completed"
    },
    "tags": []
   },
   "outputs": [],
   "source": [
    "import tensorflow as tf\n",
    "keras_loaded_model = tf.keras.models.load_model('./model_data/model.keras')"
   ]
  },
  {
   "cell_type": "code",
   "execution_count": 70,
   "id": "29b0ef6b",
   "metadata": {
    "execution": {
     "iopub.execute_input": "2024-12-31T21:10:02.299855Z",
     "iopub.status.busy": "2024-12-31T21:10:02.299472Z",
     "iopub.status.idle": "2024-12-31T21:10:02.320761Z",
     "shell.execute_reply": "2024-12-31T21:10:02.319600Z"
    },
    "papermill": {
     "duration": 0.14161,
     "end_time": "2024-12-31T21:10:02.322459",
     "exception": false,
     "start_time": "2024-12-31T21:10:02.180849",
     "status": "completed"
    },
    "tags": []
   },
   "outputs": [
    {
     "data": {
      "text/html": [
       "<pre style=\"white-space:pre;overflow-x:auto;line-height:normal;font-family:Menlo,'DejaVu Sans Mono',consolas,'Courier New',monospace\"><span style=\"font-weight: bold\">Model: \"sequential_1\"</span>\n",
       "</pre>\n"
      ],
      "text/plain": [
       "\u001b[1mModel: \"sequential_1\"\u001b[0m\n"
      ]
     },
     "metadata": {},
     "output_type": "display_data"
    },
    {
     "data": {
      "text/html": [
       "<pre style=\"white-space:pre;overflow-x:auto;line-height:normal;font-family:Menlo,'DejaVu Sans Mono',consolas,'Courier New',monospace\">┏━━━━━━━━━━━━━━━━━━━━━━━━━━━━━━━━━━━━━━┳━━━━━━━━━━━━━━━━━━━━━━━━━━━━━┳━━━━━━━━━━━━━━━━━┓\n",
       "┃<span style=\"font-weight: bold\"> Layer (type)                         </span>┃<span style=\"font-weight: bold\"> Output Shape                </span>┃<span style=\"font-weight: bold\">         Param # </span>┃\n",
       "┡━━━━━━━━━━━━━━━━━━━━━━━━━━━━━━━━━━━━━━╇━━━━━━━━━━━━━━━━━━━━━━━━━━━━━╇━━━━━━━━━━━━━━━━━┩\n",
       "│ embedding_1 (<span style=\"color: #0087ff; text-decoration-color: #0087ff\">Embedding</span>)              │ (<span style=\"color: #00d7ff; text-decoration-color: #00d7ff\">None</span>, <span style=\"color: #00af00; text-decoration-color: #00af00\">100</span>, <span style=\"color: #00af00; text-decoration-color: #00af00\">128</span>)            │         <span style=\"color: #00af00; text-decoration-color: #00af00\">640,000</span> │\n",
       "├──────────────────────────────────────┼─────────────────────────────┼─────────────────┤\n",
       "│ lstm (<span style=\"color: #0087ff; text-decoration-color: #0087ff\">LSTM</span>)                          │ (<span style=\"color: #00d7ff; text-decoration-color: #00d7ff\">None</span>, <span style=\"color: #00af00; text-decoration-color: #00af00\">128</span>)                 │         <span style=\"color: #00af00; text-decoration-color: #00af00\">131,584</span> │\n",
       "├──────────────────────────────────────┼─────────────────────────────┼─────────────────┤\n",
       "│ dense_2 (<span style=\"color: #0087ff; text-decoration-color: #0087ff\">Dense</span>)                      │ (<span style=\"color: #00d7ff; text-decoration-color: #00d7ff\">None</span>, <span style=\"color: #00af00; text-decoration-color: #00af00\">128</span>)                 │          <span style=\"color: #00af00; text-decoration-color: #00af00\">16,512</span> │\n",
       "├──────────────────────────────────────┼─────────────────────────────┼─────────────────┤\n",
       "│ dense_3 (<span style=\"color: #0087ff; text-decoration-color: #0087ff\">Dense</span>)                      │ (<span style=\"color: #00d7ff; text-decoration-color: #00d7ff\">None</span>, <span style=\"color: #00af00; text-decoration-color: #00af00\">20</span>)                  │           <span style=\"color: #00af00; text-decoration-color: #00af00\">2,580</span> │\n",
       "└──────────────────────────────────────┴─────────────────────────────┴─────────────────┘\n",
       "</pre>\n"
      ],
      "text/plain": [
       "┏━━━━━━━━━━━━━━━━━━━━━━━━━━━━━━━━━━━━━━┳━━━━━━━━━━━━━━━━━━━━━━━━━━━━━┳━━━━━━━━━━━━━━━━━┓\n",
       "┃\u001b[1m \u001b[0m\u001b[1mLayer (type)                        \u001b[0m\u001b[1m \u001b[0m┃\u001b[1m \u001b[0m\u001b[1mOutput Shape               \u001b[0m\u001b[1m \u001b[0m┃\u001b[1m \u001b[0m\u001b[1m        Param #\u001b[0m\u001b[1m \u001b[0m┃\n",
       "┡━━━━━━━━━━━━━━━━━━━━━━━━━━━━━━━━━━━━━━╇━━━━━━━━━━━━━━━━━━━━━━━━━━━━━╇━━━━━━━━━━━━━━━━━┩\n",
       "│ embedding_1 (\u001b[38;5;33mEmbedding\u001b[0m)              │ (\u001b[38;5;45mNone\u001b[0m, \u001b[38;5;34m100\u001b[0m, \u001b[38;5;34m128\u001b[0m)            │         \u001b[38;5;34m640,000\u001b[0m │\n",
       "├──────────────────────────────────────┼─────────────────────────────┼─────────────────┤\n",
       "│ lstm (\u001b[38;5;33mLSTM\u001b[0m)                          │ (\u001b[38;5;45mNone\u001b[0m, \u001b[38;5;34m128\u001b[0m)                 │         \u001b[38;5;34m131,584\u001b[0m │\n",
       "├──────────────────────────────────────┼─────────────────────────────┼─────────────────┤\n",
       "│ dense_2 (\u001b[38;5;33mDense\u001b[0m)                      │ (\u001b[38;5;45mNone\u001b[0m, \u001b[38;5;34m128\u001b[0m)                 │          \u001b[38;5;34m16,512\u001b[0m │\n",
       "├──────────────────────────────────────┼─────────────────────────────┼─────────────────┤\n",
       "│ dense_3 (\u001b[38;5;33mDense\u001b[0m)                      │ (\u001b[38;5;45mNone\u001b[0m, \u001b[38;5;34m20\u001b[0m)                  │           \u001b[38;5;34m2,580\u001b[0m │\n",
       "└──────────────────────────────────────┴─────────────────────────────┴─────────────────┘\n"
      ]
     },
     "metadata": {},
     "output_type": "display_data"
    },
    {
     "data": {
      "text/html": [
       "<pre style=\"white-space:pre;overflow-x:auto;line-height:normal;font-family:Menlo,'DejaVu Sans Mono',consolas,'Courier New',monospace\"><span style=\"font-weight: bold\"> Total params: </span><span style=\"color: #00af00; text-decoration-color: #00af00\">2,372,030</span> (9.05 MB)\n",
       "</pre>\n"
      ],
      "text/plain": [
       "\u001b[1m Total params: \u001b[0m\u001b[38;5;34m2,372,030\u001b[0m (9.05 MB)\n"
      ]
     },
     "metadata": {},
     "output_type": "display_data"
    },
    {
     "data": {
      "text/html": [
       "<pre style=\"white-space:pre;overflow-x:auto;line-height:normal;font-family:Menlo,'DejaVu Sans Mono',consolas,'Courier New',monospace\"><span style=\"font-weight: bold\"> Trainable params: </span><span style=\"color: #00af00; text-decoration-color: #00af00\">790,676</span> (3.02 MB)\n",
       "</pre>\n"
      ],
      "text/plain": [
       "\u001b[1m Trainable params: \u001b[0m\u001b[38;5;34m790,676\u001b[0m (3.02 MB)\n"
      ]
     },
     "metadata": {},
     "output_type": "display_data"
    },
    {
     "data": {
      "text/html": [
       "<pre style=\"white-space:pre;overflow-x:auto;line-height:normal;font-family:Menlo,'DejaVu Sans Mono',consolas,'Courier New',monospace\"><span style=\"font-weight: bold\"> Non-trainable params: </span><span style=\"color: #00af00; text-decoration-color: #00af00\">0</span> (0.00 B)\n",
       "</pre>\n"
      ],
      "text/plain": [
       "\u001b[1m Non-trainable params: \u001b[0m\u001b[38;5;34m0\u001b[0m (0.00 B)\n"
      ]
     },
     "metadata": {},
     "output_type": "display_data"
    },
    {
     "data": {
      "text/html": [
       "<pre style=\"white-space:pre;overflow-x:auto;line-height:normal;font-family:Menlo,'DejaVu Sans Mono',consolas,'Courier New',monospace\"><span style=\"font-weight: bold\"> Optimizer params: </span><span style=\"color: #00af00; text-decoration-color: #00af00\">1,581,354</span> (6.03 MB)\n",
       "</pre>\n"
      ],
      "text/plain": [
       "\u001b[1m Optimizer params: \u001b[0m\u001b[38;5;34m1,581,354\u001b[0m (6.03 MB)\n"
      ]
     },
     "metadata": {},
     "output_type": "display_data"
    }
   ],
   "source": [
    "keras_loaded_model.summary()"
   ]
  },
  {
   "cell_type": "code",
   "execution_count": 71,
   "id": "e21af3d9",
   "metadata": {
    "execution": {
     "iopub.execute_input": "2024-12-31T21:10:02.566193Z",
     "iopub.status.busy": "2024-12-31T21:10:02.565754Z",
     "iopub.status.idle": "2024-12-31T21:10:02.571355Z",
     "shell.execute_reply": "2024-12-31T21:10:02.570245Z"
    },
    "papermill": {
     "duration": 0.128485,
     "end_time": "2024-12-31T21:10:02.573129",
     "exception": false,
     "start_time": "2024-12-31T21:10:02.444644",
     "status": "completed"
    },
    "tags": []
   },
   "outputs": [],
   "source": [
    "text = \"I love solving writing computer software\"\n",
    "\n",
    "text_tokenized = tokenizer.texts_to_sequences([text])\n",
    "text_padded = pad_sequences(text_tokenized, maxlen=100)"
   ]
  },
  {
   "cell_type": "code",
   "execution_count": 72,
   "id": "ceccfe64",
   "metadata": {
    "execution": {
     "iopub.execute_input": "2024-12-31T21:10:02.873055Z",
     "iopub.status.busy": "2024-12-31T21:10:02.872423Z",
     "iopub.status.idle": "2024-12-31T21:10:02.956087Z",
     "shell.execute_reply": "2024-12-31T21:10:02.955027Z"
    },
    "papermill": {
     "duration": 0.207228,
     "end_time": "2024-12-31T21:10:02.957680",
     "exception": false,
     "start_time": "2024-12-31T21:10:02.750452",
     "status": "completed"
    },
    "tags": []
   },
   "outputs": [
    {
     "name": "stdout",
     "output_type": "stream",
     "text": [
      "\u001b[1m1/1\u001b[0m \u001b[32m━━━━━━━━━━━━━━━━━━━━\u001b[0m\u001b[37m\u001b[0m \u001b[1m0s\u001b[0m 31ms/step\n"
     ]
    },
    {
     "data": {
      "text/plain": [
       "'comp.os.ms-windows.misc'"
      ]
     },
     "execution_count": 72,
     "metadata": {},
     "output_type": "execute_result"
    }
   ],
   "source": [
    "prediction = model.predict(text_padded)\n",
    "predicted_class = np.argmax(prediction, axis=1)\n",
    "category_names[predicted_class[0]]"
   ]
  },
  {
   "cell_type": "code",
   "execution_count": 73,
   "id": "daf6a729",
   "metadata": {
    "execution": {
     "iopub.execute_input": "2024-12-31T21:10:03.201353Z",
     "iopub.status.busy": "2024-12-31T21:10:03.200998Z",
     "iopub.status.idle": "2024-12-31T21:10:03.208383Z",
     "shell.execute_reply": "2024-12-31T21:10:03.207287Z"
    },
    "papermill": {
     "duration": 0.132746,
     "end_time": "2024-12-31T21:10:03.210294",
     "exception": false,
     "start_time": "2024-12-31T21:10:03.077548",
     "status": "completed"
    },
    "tags": []
   },
   "outputs": [
    {
     "name": "stdout",
     "output_type": "stream",
     "text": [
      "Total parameters: 790676\n",
      "Trainable parameters: 790676\n",
      "Non-trainable parameters: 0.0\n"
     ]
    }
   ],
   "source": [
    "total_params = keras_loaded_model.count_params()\n",
    "trainable_params = np.sum([np.prod(w.shape) for w in keras_loaded_model.trainable_weights])\n",
    "non_trainable_params = np.sum([np.prod(w.shape) for w in keras_loaded_model.non_trainable_weights])\n",
    "\n",
    "print(f\"Total parameters: {total_params}\")\n",
    "print(f\"Trainable parameters: {trainable_params}\")\n",
    "print(f\"Non-trainable parameters: {non_trainable_params}\")"
   ]
  },
  {
   "cell_type": "markdown",
   "id": "edcfc788",
   "metadata": {
    "papermill": {
     "duration": 0.121999,
     "end_time": "2024-12-31T21:10:03.452402",
     "exception": false,
     "start_time": "2024-12-31T21:10:03.330403",
     "status": "completed"
    },
    "tags": []
   },
   "source": [
    "## Exporting keras tokenizer"
   ]
  },
  {
   "cell_type": "code",
   "execution_count": 74,
   "id": "f87314d9",
   "metadata": {
    "execution": {
     "iopub.execute_input": "2024-12-31T21:10:03.689945Z",
     "iopub.status.busy": "2024-12-31T21:10:03.689456Z",
     "iopub.status.idle": "2024-12-31T21:10:04.837314Z",
     "shell.execute_reply": "2024-12-31T21:10:04.835879Z"
    },
    "papermill": {
     "duration": 1.269072,
     "end_time": "2024-12-31T21:10:04.839459",
     "exception": false,
     "start_time": "2024-12-31T21:10:03.570387",
     "status": "completed"
    },
    "tags": []
   },
   "outputs": [],
   "source": [
    "tokenizer_config = tokenizer.to_json()\n",
    "\n",
    "with open('./model_data/tokenizer.json', 'w') as f:\n",
    "    json.dump(tokenizer_config, f)"
   ]
  },
  {
   "cell_type": "markdown",
   "id": "9f7b5bb3",
   "metadata": {
    "papermill": {
     "duration": 0.119308,
     "end_time": "2024-12-31T21:10:05.078977",
     "exception": false,
     "start_time": "2024-12-31T21:10:04.959669",
     "status": "completed"
    },
    "tags": []
   },
   "source": [
    "## Testing full loaded model and tokenizer"
   ]
  },
  {
   "cell_type": "code",
   "execution_count": 75,
   "id": "005f4d5c",
   "metadata": {
    "execution": {
     "iopub.execute_input": "2024-12-31T21:10:05.319361Z",
     "iopub.status.busy": "2024-12-31T21:10:05.319001Z",
     "iopub.status.idle": "2024-12-31T21:10:05.323381Z",
     "shell.execute_reply": "2024-12-31T21:10:05.322259Z"
    },
    "papermill": {
     "duration": 0.127171,
     "end_time": "2024-12-31T21:10:05.325116",
     "exception": false,
     "start_time": "2024-12-31T21:10:05.197945",
     "status": "completed"
    },
    "tags": []
   },
   "outputs": [],
   "source": [
    "from tensorflow.keras.preprocessing.text import tokenizer_from_json\n",
    "import json"
   ]
  },
  {
   "cell_type": "code",
   "execution_count": 76,
   "id": "2f6b286e",
   "metadata": {
    "execution": {
     "iopub.execute_input": "2024-12-31T21:10:05.572238Z",
     "iopub.status.busy": "2024-12-31T21:10:05.571765Z",
     "iopub.status.idle": "2024-12-31T21:10:05.984349Z",
     "shell.execute_reply": "2024-12-31T21:10:05.983210Z"
    },
    "papermill": {
     "duration": 0.540329,
     "end_time": "2024-12-31T21:10:05.986338",
     "exception": false,
     "start_time": "2024-12-31T21:10:05.446009",
     "status": "completed"
    },
    "tags": []
   },
   "outputs": [],
   "source": [
    "with open('./model_data/tokenizer.json', 'r') as f:\n",
    "    tokenizer_config = json.load(f)\n",
    "\n",
    "loaded_tokenizer = tokenizer_from_json(tokenizer_config)"
   ]
  },
  {
   "cell_type": "code",
   "execution_count": 77,
   "id": "c4c9d484",
   "metadata": {
    "execution": {
     "iopub.execute_input": "2024-12-31T21:10:06.227849Z",
     "iopub.status.busy": "2024-12-31T21:10:06.227445Z",
     "iopub.status.idle": "2024-12-31T21:10:06.483473Z",
     "shell.execute_reply": "2024-12-31T21:10:06.482383Z"
    },
    "papermill": {
     "duration": 0.37966,
     "end_time": "2024-12-31T21:10:06.485191",
     "exception": false,
     "start_time": "2024-12-31T21:10:06.105531",
     "status": "completed"
    },
    "tags": []
   },
   "outputs": [
    {
     "name": "stdout",
     "output_type": "stream",
     "text": [
      "\u001b[1m1/1\u001b[0m \u001b[32m━━━━━━━━━━━━━━━━━━━━\u001b[0m\u001b[37m\u001b[0m \u001b[1m0s\u001b[0m 199ms/step\n"
     ]
    },
    {
     "data": {
      "text/plain": [
       "'comp.os.ms-windows.misc'"
      ]
     },
     "execution_count": 77,
     "metadata": {},
     "output_type": "execute_result"
    }
   ],
   "source": [
    "text = \"I love solving writing computer software\"\n",
    "\n",
    "text_tokenized = loaded_tokenizer.texts_to_sequences([text])\n",
    "text_padded = pad_sequences(text_tokenized, maxlen=100)\n",
    "\n",
    "prediction = keras_loaded_model.predict(text_padded)\n",
    "predicted_class = np.argmax(prediction, axis=1)\n",
    "category_names[predicted_class[0]]"
   ]
  },
  {
   "cell_type": "code",
   "execution_count": 78,
   "id": "5d47d9ae",
   "metadata": {
    "execution": {
     "iopub.execute_input": "2024-12-31T21:10:06.728004Z",
     "iopub.status.busy": "2024-12-31T21:10:06.727624Z",
     "iopub.status.idle": "2024-12-31T21:10:06.733664Z",
     "shell.execute_reply": "2024-12-31T21:10:06.732684Z"
    },
    "papermill": {
     "duration": 0.128087,
     "end_time": "2024-12-31T21:10:06.735301",
     "exception": false,
     "start_time": "2024-12-31T21:10:06.607214",
     "status": "completed"
    },
    "tags": []
   },
   "outputs": [
    {
     "data": {
      "text/plain": [
       "['alt.atheism',\n",
       " 'comp.graphics',\n",
       " 'comp.os.ms-windows.misc',\n",
       " 'comp.sys.ibm.pc.hardware',\n",
       " 'comp.sys.mac.hardware',\n",
       " 'comp.windows.x',\n",
       " 'misc.forsale',\n",
       " 'rec.autos',\n",
       " 'rec.motorcycles',\n",
       " 'rec.sport.baseball',\n",
       " 'rec.sport.hockey',\n",
       " 'sci.crypt',\n",
       " 'sci.electronics',\n",
       " 'sci.med',\n",
       " 'sci.space',\n",
       " 'soc.religion.christian',\n",
       " 'talk.politics.guns',\n",
       " 'talk.politics.mideast',\n",
       " 'talk.politics.misc',\n",
       " 'talk.religion.misc']"
      ]
     },
     "execution_count": 78,
     "metadata": {},
     "output_type": "execute_result"
    }
   ],
   "source": [
    "category_names"
   ]
  },
  {
   "cell_type": "markdown",
   "id": "29545a3b",
   "metadata": {
    "papermill": {
     "duration": 0.1181,
     "end_time": "2024-12-31T21:10:06.972709",
     "exception": false,
     "start_time": "2024-12-31T21:10:06.854609",
     "status": "completed"
    },
    "tags": []
   },
   "source": [
    "# How to Import a Keras model into TensorFlow.js"
   ]
  },
  {
   "cell_type": "code",
   "execution_count": 79,
   "id": "15edc260",
   "metadata": {
    "execution": {
     "iopub.execute_input": "2024-12-31T21:10:07.214713Z",
     "iopub.status.busy": "2024-12-31T21:10:07.214232Z",
     "iopub.status.idle": "2024-12-31T21:10:13.904376Z",
     "shell.execute_reply": "2024-12-31T21:10:13.902928Z"
    },
    "papermill": {
     "duration": 6.815159,
     "end_time": "2024-12-31T21:10:13.906662",
     "exception": false,
     "start_time": "2024-12-31T21:10:07.091503",
     "status": "completed"
    },
    "tags": []
   },
   "outputs": [
    {
     "name": "stderr",
     "output_type": "stream",
     "text": [
      "/usr/lib/python3.10/pty.py:89: RuntimeWarning: os.fork() was called. os.fork() is incompatible with multithreaded code, and JAX is multithreaded, so this will likely lead to a deadlock.\n",
      "  pid, fd = os.forkpty()\n"
     ]
    },
    {
     "name": "stdout",
     "output_type": "stream",
     "text": [
      "Collecting tensorflowjs\r\n",
      "  Downloading tensorflowjs-4.22.0-py3-none-any.whl.metadata (3.2 kB)\r\n",
      "Requirement already satisfied: flax>=0.7.2 in /usr/local/lib/python3.10/dist-packages (from tensorflowjs) (0.8.4)\r\n",
      "Requirement already satisfied: importlib_resources>=5.9.0 in /usr/local/lib/python3.10/dist-packages (from tensorflowjs) (6.4.5)\r\n",
      "Requirement already satisfied: jax>=0.4.13 in /usr/local/lib/python3.10/dist-packages (from tensorflowjs) (0.4.26)\r\n",
      "Requirement already satisfied: jaxlib>=0.4.13 in /usr/local/lib/python3.10/dist-packages (from tensorflowjs) (0.4.26+cuda12.cudnn89)\r\n",
      "Requirement already satisfied: tensorflow<3,>=2.13.0 in /usr/local/lib/python3.10/dist-packages (from tensorflowjs) (2.17.0)\r\n",
      "Requirement already satisfied: tf-keras>=2.13.0 in /usr/local/lib/python3.10/dist-packages (from tensorflowjs) (2.17.0)\r\n",
      "Requirement already satisfied: tensorflow-decision-forests>=1.5.0 in /usr/local/lib/python3.10/dist-packages (from tensorflowjs) (1.10.0)\r\n",
      "Requirement already satisfied: six<2,>=1.16.0 in /usr/local/lib/python3.10/dist-packages (from tensorflowjs) (1.16.0)\r\n",
      "Requirement already satisfied: tensorflow-hub>=0.16.1 in /usr/local/lib/python3.10/dist-packages (from tensorflowjs) (0.16.1)\r\n",
      "Collecting packaging~=23.1 (from tensorflowjs)\r\n",
      "  Downloading packaging-23.2-py3-none-any.whl.metadata (3.2 kB)\r\n",
      "Requirement already satisfied: numpy>=1.22 in /usr/local/lib/python3.10/dist-packages (from flax>=0.7.2->tensorflowjs) (1.26.4)\r\n",
      "Requirement already satisfied: msgpack in /usr/local/lib/python3.10/dist-packages (from flax>=0.7.2->tensorflowjs) (1.0.8)\r\n",
      "Requirement already satisfied: optax in /usr/local/lib/python3.10/dist-packages (from flax>=0.7.2->tensorflowjs) (0.2.2)\r\n",
      "Requirement already satisfied: orbax-checkpoint in /usr/local/lib/python3.10/dist-packages (from flax>=0.7.2->tensorflowjs) (0.6.4)\r\n",
      "Requirement already satisfied: tensorstore in /usr/local/lib/python3.10/dist-packages (from flax>=0.7.2->tensorflowjs) (0.1.65)\r\n",
      "Requirement already satisfied: rich>=11.1 in /usr/local/lib/python3.10/dist-packages (from flax>=0.7.2->tensorflowjs) (13.8.1)\r\n",
      "Requirement already satisfied: typing-extensions>=4.2 in /usr/local/lib/python3.10/dist-packages (from flax>=0.7.2->tensorflowjs) (4.12.2)\r\n",
      "Requirement already satisfied: PyYAML>=5.4.1 in /usr/local/lib/python3.10/dist-packages (from flax>=0.7.2->tensorflowjs) (6.0.2)\r\n",
      "Requirement already satisfied: ml-dtypes>=0.2.0 in /usr/local/lib/python3.10/dist-packages (from jax>=0.4.13->tensorflowjs) (0.4.1)\r\n",
      "Requirement already satisfied: opt-einsum in /usr/local/lib/python3.10/dist-packages (from jax>=0.4.13->tensorflowjs) (3.3.0)\r\n",
      "Requirement already satisfied: scipy>=1.9 in /usr/local/lib/python3.10/dist-packages (from jax>=0.4.13->tensorflowjs) (1.13.1)\r\n",
      "Requirement already satisfied: absl-py>=1.0.0 in /usr/local/lib/python3.10/dist-packages (from tensorflow<3,>=2.13.0->tensorflowjs) (1.4.0)\r\n",
      "Requirement already satisfied: astunparse>=1.6.0 in /usr/local/lib/python3.10/dist-packages (from tensorflow<3,>=2.13.0->tensorflowjs) (1.6.3)\r\n",
      "Requirement already satisfied: flatbuffers>=24.3.25 in /usr/local/lib/python3.10/dist-packages (from tensorflow<3,>=2.13.0->tensorflowjs) (24.3.25)\r\n",
      "Requirement already satisfied: gast!=0.5.0,!=0.5.1,!=0.5.2,>=0.2.1 in /usr/local/lib/python3.10/dist-packages (from tensorflow<3,>=2.13.0->tensorflowjs) (0.6.0)\r\n",
      "Requirement already satisfied: google-pasta>=0.1.1 in /usr/local/lib/python3.10/dist-packages (from tensorflow<3,>=2.13.0->tensorflowjs) (0.2.0)\r\n",
      "Requirement already satisfied: h5py>=3.10.0 in /usr/local/lib/python3.10/dist-packages (from tensorflow<3,>=2.13.0->tensorflowjs) (3.11.0)\r\n",
      "Requirement already satisfied: libclang>=13.0.0 in /usr/local/lib/python3.10/dist-packages (from tensorflow<3,>=2.13.0->tensorflowjs) (18.1.1)\r\n",
      "Requirement already satisfied: protobuf!=4.21.0,!=4.21.1,!=4.21.2,!=4.21.3,!=4.21.4,!=4.21.5,<5.0.0dev,>=3.20.3 in /usr/local/lib/python3.10/dist-packages (from tensorflow<3,>=2.13.0->tensorflowjs) (3.20.3)\r\n",
      "Requirement already satisfied: requests<3,>=2.21.0 in /usr/local/lib/python3.10/dist-packages (from tensorflow<3,>=2.13.0->tensorflowjs) (2.32.3)\r\n",
      "Requirement already satisfied: setuptools in /usr/local/lib/python3.10/dist-packages (from tensorflow<3,>=2.13.0->tensorflowjs) (71.0.4)\r\n",
      "Requirement already satisfied: termcolor>=1.1.0 in /usr/local/lib/python3.10/dist-packages (from tensorflow<3,>=2.13.0->tensorflowjs) (2.4.0)\r\n",
      "Requirement already satisfied: wrapt>=1.11.0 in /usr/local/lib/python3.10/dist-packages (from tensorflow<3,>=2.13.0->tensorflowjs) (1.16.0)\r\n",
      "Requirement already satisfied: grpcio<2.0,>=1.24.3 in /usr/local/lib/python3.10/dist-packages (from tensorflow<3,>=2.13.0->tensorflowjs) (1.64.1)\r\n",
      "Requirement already satisfied: tensorboard<2.18,>=2.17 in /usr/local/lib/python3.10/dist-packages (from tensorflow<3,>=2.13.0->tensorflowjs) (2.17.0)\r\n",
      "Requirement already satisfied: keras>=3.2.0 in /usr/local/lib/python3.10/dist-packages (from tensorflow<3,>=2.13.0->tensorflowjs) (3.4.1)\r\n",
      "Requirement already satisfied: tensorflow-io-gcs-filesystem>=0.23.1 in /usr/local/lib/python3.10/dist-packages (from tensorflow<3,>=2.13.0->tensorflowjs) (0.37.1)\r\n",
      "Requirement already satisfied: pandas in /usr/local/lib/python3.10/dist-packages (from tensorflow-decision-forests>=1.5.0->tensorflowjs) (2.1.4)\r\n",
      "Requirement already satisfied: wheel in /usr/local/lib/python3.10/dist-packages (from tensorflow-decision-forests>=1.5.0->tensorflowjs) (0.44.0)\r\n",
      "Requirement already satisfied: wurlitzer in /usr/local/lib/python3.10/dist-packages (from tensorflow-decision-forests>=1.5.0->tensorflowjs) (3.1.1)\r\n",
      "Requirement already satisfied: ydf in /usr/local/lib/python3.10/dist-packages (from tensorflow-decision-forests>=1.5.0->tensorflowjs) (0.9.0)\r\n",
      "Requirement already satisfied: namex in /usr/local/lib/python3.10/dist-packages (from keras>=3.2.0->tensorflow<3,>=2.13.0->tensorflowjs) (0.0.8)\r\n",
      "Requirement already satisfied: optree in /usr/local/lib/python3.10/dist-packages (from keras>=3.2.0->tensorflow<3,>=2.13.0->tensorflowjs) (0.12.1)\r\n",
      "Requirement already satisfied: charset-normalizer<4,>=2 in /usr/local/lib/python3.10/dist-packages (from requests<3,>=2.21.0->tensorflow<3,>=2.13.0->tensorflowjs) (3.3.2)\r\n",
      "Requirement already satisfied: idna<4,>=2.5 in /usr/local/lib/python3.10/dist-packages (from requests<3,>=2.21.0->tensorflow<3,>=2.13.0->tensorflowjs) (3.10)\r\n",
      "Requirement already satisfied: urllib3<3,>=1.21.1 in /usr/local/lib/python3.10/dist-packages (from requests<3,>=2.21.0->tensorflow<3,>=2.13.0->tensorflowjs) (2.2.3)\r\n",
      "Requirement already satisfied: certifi>=2017.4.17 in /usr/local/lib/python3.10/dist-packages (from requests<3,>=2.21.0->tensorflow<3,>=2.13.0->tensorflowjs) (2024.8.30)\r\n",
      "Requirement already satisfied: markdown-it-py>=2.2.0 in /usr/local/lib/python3.10/dist-packages (from rich>=11.1->flax>=0.7.2->tensorflowjs) (3.0.0)\r\n",
      "Requirement already satisfied: pygments<3.0.0,>=2.13.0 in /usr/local/lib/python3.10/dist-packages (from rich>=11.1->flax>=0.7.2->tensorflowjs) (2.18.0)\r\n",
      "Requirement already satisfied: markdown>=2.6.8 in /usr/local/lib/python3.10/dist-packages (from tensorboard<2.18,>=2.17->tensorflow<3,>=2.13.0->tensorflowjs) (3.7)\r\n",
      "Requirement already satisfied: tensorboard-data-server<0.8.0,>=0.7.0 in /usr/local/lib/python3.10/dist-packages (from tensorboard<2.18,>=2.17->tensorflow<3,>=2.13.0->tensorflowjs) (0.7.2)\r\n",
      "Requirement already satisfied: werkzeug>=1.0.1 in /usr/local/lib/python3.10/dist-packages (from tensorboard<2.18,>=2.17->tensorflow<3,>=2.13.0->tensorflowjs) (3.0.4)\r\n",
      "Requirement already satisfied: chex>=0.1.86 in /usr/local/lib/python3.10/dist-packages (from optax->flax>=0.7.2->tensorflowjs) (0.1.86)\r\n",
      "Requirement already satisfied: etils[epath,epy] in /usr/local/lib/python3.10/dist-packages (from orbax-checkpoint->flax>=0.7.2->tensorflowjs) (1.9.4)\r\n",
      "Requirement already satisfied: nest_asyncio in /usr/local/lib/python3.10/dist-packages (from orbax-checkpoint->flax>=0.7.2->tensorflowjs) (1.6.0)\r\n",
      "Requirement already satisfied: humanize in /usr/local/lib/python3.10/dist-packages (from orbax-checkpoint->flax>=0.7.2->tensorflowjs) (4.10.0)\r\n",
      "Requirement already satisfied: python-dateutil>=2.8.2 in /usr/local/lib/python3.10/dist-packages (from pandas->tensorflow-decision-forests>=1.5.0->tensorflowjs) (2.8.2)\r\n",
      "Requirement already satisfied: pytz>=2020.1 in /usr/local/lib/python3.10/dist-packages (from pandas->tensorflow-decision-forests>=1.5.0->tensorflowjs) (2024.2)\r\n",
      "Requirement already satisfied: tzdata>=2022.1 in /usr/local/lib/python3.10/dist-packages (from pandas->tensorflow-decision-forests>=1.5.0->tensorflowjs) (2024.1)\r\n",
      "Requirement already satisfied: toolz>=0.9.0 in /usr/local/lib/python3.10/dist-packages (from chex>=0.1.86->optax->flax>=0.7.2->tensorflowjs) (0.12.1)\r\n",
      "Requirement already satisfied: mdurl~=0.1 in /usr/local/lib/python3.10/dist-packages (from markdown-it-py>=2.2.0->rich>=11.1->flax>=0.7.2->tensorflowjs) (0.1.2)\r\n",
      "Requirement already satisfied: MarkupSafe>=2.1.1 in /usr/local/lib/python3.10/dist-packages (from werkzeug>=1.0.1->tensorboard<2.18,>=2.17->tensorflow<3,>=2.13.0->tensorflowjs) (2.1.5)\r\n",
      "Requirement already satisfied: fsspec in /usr/local/lib/python3.10/dist-packages (from etils[epath,epy]->orbax-checkpoint->flax>=0.7.2->tensorflowjs) (2024.6.1)\r\n",
      "Requirement already satisfied: zipp in /usr/local/lib/python3.10/dist-packages (from etils[epath,epy]->orbax-checkpoint->flax>=0.7.2->tensorflowjs) (3.20.2)\r\n",
      "Downloading tensorflowjs-4.22.0-py3-none-any.whl (89 kB)\r\n",
      "\u001b[2K   \u001b[90m━━━━━━━━━━━━━━━━━━━━━━━━━━━━━━━━━━━━━━━━\u001b[0m \u001b[32m89.1/89.1 kB\u001b[0m \u001b[31m2.6 MB/s\u001b[0m eta \u001b[36m0:00:00\u001b[0m\r\n",
      "\u001b[?25hDownloading packaging-23.2-py3-none-any.whl (53 kB)\r\n",
      "\u001b[2K   \u001b[90m━━━━━━━━━━━━━━━━━━━━━━━━━━━━━━━━━━━━━━━━\u001b[0m \u001b[32m53.0/53.0 kB\u001b[0m \u001b[31m2.8 MB/s\u001b[0m eta \u001b[36m0:00:00\u001b[0m\r\n",
      "\u001b[?25hInstalling collected packages: packaging, tensorflowjs\r\n",
      "  Attempting uninstall: packaging\r\n",
      "    Found existing installation: packaging 24.1\r\n",
      "    Uninstalling packaging-24.1:\r\n",
      "      Successfully uninstalled packaging-24.1\r\n",
      "\u001b[31mERROR: pip's dependency resolver does not currently take into account all the packages that are installed. This behaviour is the source of the following dependency conflicts.\r\n",
      "cudf-cu12 24.4.1 requires pyarrow<15.0.0a0,>=14.0.1, but you have pyarrow 18.1.0 which is incompatible.\r\n",
      "distributed 2024.8.0 requires dask==2024.8.0, but you have dask 2024.12.1 which is incompatible.\r\n",
      "pandas-gbq 0.23.1 requires google-api-core<3.0.0dev,>=2.10.2, but you have google-api-core 1.34.1 which is incompatible.\u001b[0m\u001b[31m\r\n",
      "\u001b[0mSuccessfully installed packaging-23.2 tensorflowjs-4.22.0\r\n"
     ]
    }
   ],
   "source": [
    "!pip install tensorflowjs"
   ]
  },
  {
   "cell_type": "code",
   "execution_count": 80,
   "id": "861e7ddd",
   "metadata": {
    "execution": {
     "iopub.execute_input": "2024-12-31T21:10:14.214031Z",
     "iopub.status.busy": "2024-12-31T21:10:14.213548Z",
     "iopub.status.idle": "2024-12-31T21:10:14.366473Z",
     "shell.execute_reply": "2024-12-31T21:10:14.365008Z"
    },
    "papermill": {
     "duration": 0.278175,
     "end_time": "2024-12-31T21:10:14.368503",
     "exception": false,
     "start_time": "2024-12-31T21:10:14.090328",
     "status": "completed"
    },
    "tags": []
   },
   "outputs": [],
   "source": [
    "!mkdir tfjs_files"
   ]
  },
  {
   "cell_type": "code",
   "execution_count": 81,
   "id": "c28b33a5",
   "metadata": {
    "execution": {
     "iopub.execute_input": "2024-12-31T21:10:14.614231Z",
     "iopub.status.busy": "2024-12-31T21:10:14.613811Z",
     "iopub.status.idle": "2024-12-31T21:10:21.229320Z",
     "shell.execute_reply": "2024-12-31T21:10:21.227922Z"
    },
    "papermill": {
     "duration": 6.739406,
     "end_time": "2024-12-31T21:10:21.231533",
     "exception": false,
     "start_time": "2024-12-31T21:10:14.492127",
     "status": "completed"
    },
    "tags": []
   },
   "outputs": [
    {
     "name": "stdout",
     "output_type": "stream",
     "text": [
      "2024-12-31 21:10:15.284580: E external/local_xla/xla/stream_executor/cuda/cuda_fft.cc:485] Unable to register cuFFT factory: Attempting to register factory for plugin cuFFT when one has already been registered\r\n",
      "2024-12-31 21:10:15.310381: E external/local_xla/xla/stream_executor/cuda/cuda_dnn.cc:8454] Unable to register cuDNN factory: Attempting to register factory for plugin cuDNN when one has already been registered\r\n",
      "2024-12-31 21:10:15.318128: E external/local_xla/xla/stream_executor/cuda/cuda_blas.cc:1452] Unable to register cuBLAS factory: Attempting to register factory for plugin cuBLAS when one has already been registered\r\n",
      "failed to lookup keras version from the file,\r\n",
      "    this is likely a weight only file\r\n"
     ]
    }
   ],
   "source": [
    "!tensorflowjs_converter --input_format=keras ./model_data/model.h5 ./tfjs_files"
   ]
  }
 ],
 "metadata": {
  "kaggle": {
   "accelerator": "none",
   "dataSources": [],
   "dockerImageVersionId": 30822,
   "isGpuEnabled": false,
   "isInternetEnabled": true,
   "language": "python",
   "sourceType": "notebook"
  },
  "kernelspec": {
   "display_name": "Python 3",
   "language": "python",
   "name": "python3"
  },
  "language_info": {
   "codemirror_mode": {
    "name": "ipython",
    "version": 3
   },
   "file_extension": ".py",
   "mimetype": "text/x-python",
   "name": "python",
   "nbconvert_exporter": "python",
   "pygments_lexer": "ipython3",
   "version": "3.10.12"
  },
  "papermill": {
   "default_parameters": {},
   "duration": 246.950238,
   "end_time": "2024-12-31T21:10:24.197015",
   "environment_variables": {},
   "exception": null,
   "input_path": "__notebook__.ipynb",
   "output_path": "__notebook__.ipynb",
   "parameters": {},
   "start_time": "2024-12-31T21:06:17.246777",
   "version": "2.6.0"
  }
 },
 "nbformat": 4,
 "nbformat_minor": 5
}
