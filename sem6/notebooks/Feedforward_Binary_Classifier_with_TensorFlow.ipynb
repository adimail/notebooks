{
  "nbformat": 4,
  "nbformat_minor": 0,
  "metadata": {
    "colab": {
      "provenance": []
    },
    "kernelspec": {
      "name": "python3",
      "display_name": "Python 3"
    },
    "language_info": {
      "name": "python"
    }
  },
  "cells": [
    {
      "cell_type": "markdown",
      "source": [
        "# Feedforward Binary Classifier\n",
        "\n",
        "A **Feedforward Binary Classifier** is a type of neural network that performs binary classification, meaning it predicts one of two possible classes (e.g., 0 or 1, True or False, Cat or Dog).\n",
        "\n",
        "#### **Summary:**\n",
        "1. **Feedforward Neural Network (FFNN):**  \n",
        "   - This is a neural network where information moves in only one direction—from input to output—without loops or cycles.  \n",
        "   - Each layer's neurons pass their outputs to the next layer without feedback connections.\n",
        "\n",
        "2. **Binary Classification:**  \n",
        "   - The model predicts a binary outcome (two classes).  \n",
        "   - It uses a **sigmoid activation function** in the output layer to output a probability between 0 and 1.  \n",
        "   - If the probability is above a threshold (usually 0.5), it predicts one class; otherwise, it predicts the other.\n",
        "\n",
        "#### **Architecture:**\n",
        "- **Input Layer:** Takes 20 features as input.\n",
        "- **Hidden Layers:** Two layers with 64 and 32 neurons using the **sigmoid activation function**.\n",
        "- **Output Layer:** A single neuron with a **sigmoid activation** to output a probability for the binary class.\n",
        "- **Loss Function:** `binary_crossentropy`, which is ideal for binary classification.\n",
        "- **Optimizer:** Adam, which helps efficiently update the weights.\n",
        "\n",
        "#### **Use Cases:**\n",
        "- Spam detection (Spam or Not Spam)\n",
        "- Disease prediction (Positive or Negative)\n",
        "- Sentiment analysis (Positive or Negative)\n",
        "- Fraud detection (Fraudulent or Legitimate)\n",
        "\n",
        "Would you like a deeper breakdown or modifications to improve the model? 🚀"
      ],
      "metadata": {
        "id": "0a5thXzpLIwV"
      }
    },
    {
      "cell_type": "code",
      "execution_count": 32,
      "metadata": {
        "id": "sKNIdrKiJWB9"
      },
      "outputs": [],
      "source": [
        "import tensorflow as tf\n",
        "from tensorflow.keras.models import Sequential\n",
        "from tensorflow.keras.layers import Dense\n",
        "from sklearn.datasets import make_classification\n",
        "from sklearn.model_selection import train_test_split\n",
        "from sklearn.preprocessing import StandardScaler\n",
        "from sklearn.metrics import accuracy_score\n",
        "import matplotlib.pyplot as plt"
      ]
    },
    {
      "cell_type": "code",
      "source": [
        "X, y = make_classification(\n",
        "    n_samples=1000,\n",
        "    n_features=20,\n",
        "    n_informative=15,\n",
        "    n_redundant=5,\n",
        "    random_state=42\n",
        ")"
      ],
      "metadata": {
        "id": "pTyB_IU2JeKO"
      },
      "execution_count": 33,
      "outputs": []
    },
    {
      "cell_type": "code",
      "source": [
        "X_train, X_test, y_train, y_test = train_test_split(X, y, test_size=0.2, random_state=42)"
      ],
      "metadata": {
        "id": "Uuihw6IEJfgN"
      },
      "execution_count": 34,
      "outputs": []
    },
    {
      "cell_type": "code",
      "source": [
        "scaler = StandardScaler()\n",
        "X_train = scaler.fit_transform(X_train)\n",
        "X_test = scaler.transform(X_test)\n"
      ],
      "metadata": {
        "id": "mZ5M9PxuJhEK"
      },
      "execution_count": 35,
      "outputs": []
    },
    {
      "cell_type": "markdown",
      "source": [
        "- make_classification: Generates a random classification dataset. We create a dataset with 1000 samples, 20 features, and a random state for reproducibility.\n",
        "\n",
        "- train_test_split: Splits the dataset into training and testing sets to evaluate the model's performance on unseen data.\n",
        "\n",
        "- StandardScaler: Scales the data to have zero mean and unit variance, which can improve the training process."
      ],
      "metadata": {
        "id": "NWfz4YSCKlup"
      }
    },
    {
      "cell_type": "code",
      "source": [
        "model = Sequential([\n",
        "    Dense(64, activation='sigmoid', input_shape=(X_train.shape[1],)),\n",
        "    Dense(32, activation='sigmoid'),\n",
        "    Dense(1, activation='sigmoid')\n",
        "])\n"
      ],
      "metadata": {
        "colab": {
          "base_uri": "https://localhost:8080/"
        },
        "id": "OqwDogmaJiRU",
        "outputId": "10f1372f-5c5d-4d06-cc83-c7666237a685"
      },
      "execution_count": 36,
      "outputs": [
        {
          "output_type": "stream",
          "name": "stderr",
          "text": [
            "/usr/local/lib/python3.11/dist-packages/keras/src/layers/core/dense.py:87: UserWarning: Do not pass an `input_shape`/`input_dim` argument to a layer. When using Sequential models, prefer using an `Input(shape)` object as the first layer in the model instead.\n",
            "  super().__init__(activity_regularizer=activity_regularizer, **kwargs)\n"
          ]
        }
      ]
    },
    {
      "cell_type": "markdown",
      "source": [
        "- Sequential: Creates a linear stack of layers for the neural network.\n",
        "\n",
        "- Dense: Represents a fully connected layer, where each neuron is connected to every neuron in the previous layer.\n",
        "\n",
        "- activation: Specifies the activation function to be used by the neurons in the layer. We use sigmoid for binary classification."
      ],
      "metadata": {
        "id": "5D3y5jVYKsNU"
      }
    },
    {
      "cell_type": "code",
      "source": [
        "model.compile(optimizer='adam',\n",
        "              loss='binary_crossentropy',\n",
        "              metrics=['accuracy'])\n",
        "\n",
        "history = model.fit(X_train, y_train,\n",
        "                    epochs=20,\n",
        "                    batch_size=32,\n",
        "                    validation_split=0.2,\n",
        "                    verbose=1)\n"
      ],
      "metadata": {
        "colab": {
          "base_uri": "https://localhost:8080/"
        },
        "id": "x44KUX4FJjcY",
        "outputId": "c378eb6a-f833-4450-b53e-81efb6e76a18"
      },
      "execution_count": 37,
      "outputs": [
        {
          "output_type": "stream",
          "name": "stdout",
          "text": [
            "Epoch 1/20\n",
            "\u001b[1m20/20\u001b[0m \u001b[32m━━━━━━━━━━━━━━━━━━━━\u001b[0m\u001b[37m\u001b[0m \u001b[1m1s\u001b[0m 11ms/step - accuracy: 0.5401 - loss: 0.6900 - val_accuracy: 0.6875 - val_loss: 0.6733\n",
            "Epoch 2/20\n",
            "\u001b[1m20/20\u001b[0m \u001b[32m━━━━━━━━━━━━━━━━━━━━\u001b[0m\u001b[37m\u001b[0m \u001b[1m0s\u001b[0m 4ms/step - accuracy: 0.7508 - loss: 0.6619 - val_accuracy: 0.6938 - val_loss: 0.6528\n",
            "Epoch 3/20\n",
            "\u001b[1m20/20\u001b[0m \u001b[32m━━━━━━━━━━━━━━━━━━━━\u001b[0m\u001b[37m\u001b[0m \u001b[1m0s\u001b[0m 4ms/step - accuracy: 0.7085 - loss: 0.6376 - val_accuracy: 0.7500 - val_loss: 0.6251\n",
            "Epoch 4/20\n",
            "\u001b[1m20/20\u001b[0m \u001b[32m━━━━━━━━━━━━━━━━━━━━\u001b[0m\u001b[37m\u001b[0m \u001b[1m0s\u001b[0m 5ms/step - accuracy: 0.7502 - loss: 0.6034 - val_accuracy: 0.7688 - val_loss: 0.5953\n",
            "Epoch 5/20\n",
            "\u001b[1m20/20\u001b[0m \u001b[32m━━━━━━━━━━━━━━━━━━━━\u001b[0m\u001b[37m\u001b[0m \u001b[1m0s\u001b[0m 4ms/step - accuracy: 0.7483 - loss: 0.5823 - val_accuracy: 0.7812 - val_loss: 0.5673\n",
            "Epoch 6/20\n",
            "\u001b[1m20/20\u001b[0m \u001b[32m━━━━━━━━━━━━━━━━━━━━\u001b[0m\u001b[37m\u001b[0m \u001b[1m0s\u001b[0m 7ms/step - accuracy: 0.7825 - loss: 0.5442 - val_accuracy: 0.7750 - val_loss: 0.5388\n",
            "Epoch 7/20\n",
            "\u001b[1m20/20\u001b[0m \u001b[32m━━━━━━━━━━━━━━━━━━━━\u001b[0m\u001b[37m\u001b[0m \u001b[1m0s\u001b[0m 4ms/step - accuracy: 0.8107 - loss: 0.5023 - val_accuracy: 0.7688 - val_loss: 0.5161\n",
            "Epoch 8/20\n",
            "\u001b[1m20/20\u001b[0m \u001b[32m━━━━━━━━━━━━━━━━━━━━\u001b[0m\u001b[37m\u001b[0m \u001b[1m0s\u001b[0m 4ms/step - accuracy: 0.8091 - loss: 0.4677 - val_accuracy: 0.7750 - val_loss: 0.4987\n",
            "Epoch 9/20\n",
            "\u001b[1m20/20\u001b[0m \u001b[32m━━━━━━━━━━━━━━━━━━━━\u001b[0m\u001b[37m\u001b[0m \u001b[1m0s\u001b[0m 4ms/step - accuracy: 0.8046 - loss: 0.4625 - val_accuracy: 0.7812 - val_loss: 0.4838\n",
            "Epoch 10/20\n",
            "\u001b[1m20/20\u001b[0m \u001b[32m━━━━━━━━━━━━━━━━━━━━\u001b[0m\u001b[37m\u001b[0m \u001b[1m0s\u001b[0m 4ms/step - accuracy: 0.8083 - loss: 0.4264 - val_accuracy: 0.7750 - val_loss: 0.4759\n",
            "Epoch 11/20\n",
            "\u001b[1m20/20\u001b[0m \u001b[32m━━━━━━━━━━━━━━━━━━━━\u001b[0m\u001b[37m\u001b[0m \u001b[1m0s\u001b[0m 6ms/step - accuracy: 0.8072 - loss: 0.4285 - val_accuracy: 0.7688 - val_loss: 0.4676\n",
            "Epoch 12/20\n",
            "\u001b[1m20/20\u001b[0m \u001b[32m━━━━━━━━━━━━━━━━━━━━\u001b[0m\u001b[37m\u001b[0m \u001b[1m0s\u001b[0m 4ms/step - accuracy: 0.8249 - loss: 0.3994 - val_accuracy: 0.7812 - val_loss: 0.4629\n",
            "Epoch 13/20\n",
            "\u001b[1m20/20\u001b[0m \u001b[32m━━━━━━━━━━━━━━━━━━━━\u001b[0m\u001b[37m\u001b[0m \u001b[1m0s\u001b[0m 5ms/step - accuracy: 0.8363 - loss: 0.3976 - val_accuracy: 0.7875 - val_loss: 0.4590\n",
            "Epoch 14/20\n",
            "\u001b[1m20/20\u001b[0m \u001b[32m━━━━━━━━━━━━━━━━━━━━\u001b[0m\u001b[37m\u001b[0m \u001b[1m0s\u001b[0m 4ms/step - accuracy: 0.8300 - loss: 0.3913 - val_accuracy: 0.7937 - val_loss: 0.4570\n",
            "Epoch 15/20\n",
            "\u001b[1m20/20\u001b[0m \u001b[32m━━━━━━━━━━━━━━━━━━━━\u001b[0m\u001b[37m\u001b[0m \u001b[1m0s\u001b[0m 4ms/step - accuracy: 0.8073 - loss: 0.4187 - val_accuracy: 0.7937 - val_loss: 0.4552\n",
            "Epoch 16/20\n",
            "\u001b[1m20/20\u001b[0m \u001b[32m━━━━━━━━━━━━━━━━━━━━\u001b[0m\u001b[37m\u001b[0m \u001b[1m0s\u001b[0m 4ms/step - accuracy: 0.8333 - loss: 0.3882 - val_accuracy: 0.8000 - val_loss: 0.4513\n",
            "Epoch 17/20\n",
            "\u001b[1m20/20\u001b[0m \u001b[32m━━━━━━━━━━━━━━━━━━━━\u001b[0m\u001b[37m\u001b[0m \u001b[1m0s\u001b[0m 8ms/step - accuracy: 0.7963 - loss: 0.4104 - val_accuracy: 0.8000 - val_loss: 0.4513\n",
            "Epoch 18/20\n",
            "\u001b[1m20/20\u001b[0m \u001b[32m━━━━━━━━━━━━━━━━━━━━\u001b[0m\u001b[37m\u001b[0m \u001b[1m0s\u001b[0m 6ms/step - accuracy: 0.8136 - loss: 0.4006 - val_accuracy: 0.8000 - val_loss: 0.4535\n",
            "Epoch 19/20\n",
            "\u001b[1m20/20\u001b[0m \u001b[32m━━━━━━━━━━━━━━━━━━━━\u001b[0m\u001b[37m\u001b[0m \u001b[1m0s\u001b[0m 7ms/step - accuracy: 0.8390 - loss: 0.3849 - val_accuracy: 0.8000 - val_loss: 0.4490\n",
            "Epoch 20/20\n",
            "\u001b[1m20/20\u001b[0m \u001b[32m━━━━━━━━━━━━━━━━━━━━\u001b[0m\u001b[37m\u001b[0m \u001b[1m0s\u001b[0m 8ms/step - accuracy: 0.8337 - loss: 0.3776 - val_accuracy: 0.8000 - val_loss: 0.4510\n"
          ]
        }
      ]
    },
    {
      "cell_type": "markdown",
      "source": [
        "- optimizer: Specifies the optimization algorithm used to update the model's weights during training. We use adam, a popular choice.\n",
        "\n",
        "- loss: Specifies the loss function used to measure the difference between the model's predictions and the actual target values. We use binary_crossentropy for binary classification.\n",
        "\n",
        "- metrics: Specifies the metrics to be used to evaluate the model's performance. We use accuracy to measure the percentage of correctly classified samples.\n",
        "\n",
        "---\n",
        "\n",
        "- fit: Trains the model using the training data.\n",
        "epochs: Specifies the number of times the model will iterate over the entire training dataset.\n",
        "\n",
        "- batch_size: Specifies the number of samples to be processed before updating the model's weights.\n",
        "\n",
        "- validation_split: Specifies the proportion of the training data to be used for validation. This helps to monitor the model's performance on unseen data during training."
      ],
      "metadata": {
        "id": "em3DK1OHKxCn"
      }
    },
    {
      "cell_type": "code",
      "source": [
        "test_loss, test_accuracy = model.evaluate(X_test, y_test, verbose=0)\n",
        "print(f\"Test Accuracy: {test_accuracy * 100:.2f}%\")\n",
        "\n",
        "predictions = (model.predict(X_test) > 0.5).astype(\"int32\")\n",
        "accuracy = accuracy_score(y_test, predictions)\n",
        "print(f\"Accuracy Score: {accuracy * 100:.2f}%\")"
      ],
      "metadata": {
        "colab": {
          "base_uri": "https://localhost:8080/"
        },
        "id": "UVPI5q16JkmJ",
        "outputId": "7bb9ab24-d773-4145-dfa3-209b2dd1bc21"
      },
      "execution_count": 38,
      "outputs": [
        {
          "output_type": "stream",
          "name": "stdout",
          "text": [
            "Test Accuracy: 83.50%\n",
            "\u001b[1m7/7\u001b[0m \u001b[32m━━━━━━━━━━━━━━━━━━━━\u001b[0m\u001b[37m\u001b[0m \u001b[1m0s\u001b[0m 10ms/step\n",
            "Accuracy Score: 83.50%\n"
          ]
        }
      ]
    },
    {
      "cell_type": "code",
      "source": [
        "plt.figure(figsize=(12, 6))\n",
        "plt.plot(history.history['accuracy'], label='Train Accuracy')\n",
        "plt.plot(history.history['val_accuracy'], label='Validation Accuracy')\n",
        "plt.title('Model Accuracy')\n",
        "plt.xlabel('Epoch')\n",
        "plt.ylabel('Accuracy')\n",
        "plt.legend()\n",
        "plt.show()"
      ],
      "metadata": {
        "colab": {
          "base_uri": "https://localhost:8080/",
          "height": 556
        },
        "id": "G8vFriAeJopB",
        "outputId": "953cf695-aee7-40e9-99f9-4113ca0d7ffc"
      },
      "execution_count": 39,
      "outputs": [
        {
          "output_type": "display_data",
          "data": {
            "text/plain": [
              "<Figure size 1200x600 with 1 Axes>"
            ],
            "image/png": "[encoded data removed]"
          },
          "metadata": {}
        }
      ]
    },
    {
      "cell_type": "code",
      "source": [
        "model.save(\"feedforward_model.h5\")"
      ],
      "metadata": {
        "colab": {
          "base_uri": "https://localhost:8080/"
        },
        "id": "GF7EiCtwPDmD",
        "outputId": "68551b73-e9da-4d57-be1f-e59df052f81f"
      },
      "execution_count": 40,
      "outputs": [
        {
          "output_type": "stream",
          "name": "stderr",
          "text": [
            "WARNING:absl:You are saving your model as an HDF5 file via `model.save()` or `keras.saving.save_model(model)`. This file format is considered legacy. We recommend using instead the native Keras format, e.g. `model.save('my_model.keras')` or `keras.saving.save_model(model, 'my_model.keras')`. \n"
          ]
        }
      ]
    }
  ]
}