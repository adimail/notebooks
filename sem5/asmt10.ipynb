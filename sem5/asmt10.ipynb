{
 "cells": [
  {
   "cell_type": "code",
   "execution_count": 2,
   "id": "356931b1-4d43-4dc2-9a40-cba9ba4d4d1a",
   "metadata": {},
   "outputs": [],
   "source": [
    "from sklearn.model_selection import train_test_split\n",
    "from sklearn.preprocessing import StandardScaler\n",
    "from sklearn.neural_network import MLPClassifier\n",
    "from sklearn.datasets import load_iris\n",
    "from sklearn.metrics import accuracy_score,classification_report"
   ]
  },
  {
   "cell_type": "code",
   "execution_count": 3,
   "id": "9e5ee6f6-1f09-4d7b-aa48-aa19540dd26b",
   "metadata": {},
   "outputs": [],
   "source": [
    "iris = load_iris()\n",
    "X=iris.data\n",
    "y=iris.target\n"
   ]
  },
  {
   "cell_type": "code",
   "execution_count": 4,
   "id": "0839eb4e-0498-48fd-8307-2da07b62b95e",
   "metadata": {},
   "outputs": [],
   "source": [
    "X_train,X_test,y_train,y_test = train_test_split(X,y,test_size=0.2,random_state=42)\n",
    "scaler = StandardScaler()\n",
    "X_train = scaler.fit_transform(X_train)\n",
    "X_test = scaler.transform(X_test)"
   ]
  },
  {
   "cell_type": "code",
   "execution_count": 6,
   "id": "2e5e16a3-0352-4cf1-beff-3ef4792e112b",
   "metadata": {},
   "outputs": [
    {
     "name": "stdout",
     "output_type": "stream",
     "text": [
      "Accuracy :  1.0\n",
      "Classification report\n",
      "               precision    recall  f1-score   support\n",
      "\n",
      "           0       1.00      1.00      1.00        10\n",
      "           1       1.00      1.00      1.00         9\n",
      "           2       1.00      1.00      1.00        11\n",
      "\n",
      "    accuracy                           1.00        30\n",
      "   macro avg       1.00      1.00      1.00        30\n",
      "weighted avg       1.00      1.00      1.00        30\n",
      "\n"
     ]
    }
   ],
   "source": [
    "clf = MLPClassifier(hidden_layer_sizes=(64,32),max_iter=1000,random_state=42)\n",
    "clf.fit(X_train,y_train)\n",
    "y_pred = clf.predict(X_test)\n",
    "print(\"Accuracy : \",accuracy_score(y_test,y_pred))\n",
    "print(\"Classification report\\n\",classification_report(y_test,y_pred))"
   ]
  },
  {
   "cell_type": "code",
   "execution_count": 7,
   "id": "1975be67-c40e-4845-8532-29c5b8bcab1f",
   "metadata": {},
   "outputs": [
    {
     "name": "stdout",
     "output_type": "stream",
     "text": [
      "Input : [ 0.35451684 -0.58505976  0.55777524  0.02224751], Predicted Output : 1\n",
      "Input : [-0.13307079  1.65083742 -1.16139502 -1.17911778], Predicted Output : 0\n",
      "Input : [ 2.30486738 -1.0322392   1.8185001   1.49058286], Predicted Output : 2\n",
      "Input : [ 0.23261993 -0.36147005  0.44316389  0.4227026 ], Predicted Output : 1\n",
      "Input : [ 1.2077952  -0.58505976  0.61508092  0.28921757], Predicted Output : 1\n",
      "Input : [-0.49876152  0.75647855 -1.27600637 -1.04563275], Predicted Output : 0\n",
      "Input : [-0.2549677  -0.36147005 -0.07258719  0.15573254], Predicted Output : 1\n",
      "Input : [1.32969211 0.08570939 0.78699794 1.49058286], Predicted Output : 2\n",
      "Input : [ 0.47641375 -1.92659808  0.44316389  0.4227026 ], Predicted Output : 1\n",
      "Input : [-0.01117388 -0.80864948  0.09932984  0.02224751], Predicted Output : 1\n",
      "Input : [0.84210448 0.30929911 0.78699794 1.09012776], Predicted Output : 2\n",
      "Input : [-1.23014297 -0.13788033 -1.33331205 -1.44608785], Predicted Output : 0\n",
      "Input : [-0.37686461  0.98006827 -1.39061772 -1.31260282], Predicted Output : 0\n",
      "Input : [-1.10824606  0.08570939 -1.27600637 -1.44608785], Predicted Output : 0\n",
      "Input : [-0.86445224  1.65083742 -1.27600637 -1.17911778], Predicted Output : 0\n",
      "Input : [0.59831066 0.53288883 0.55777524 0.55618763], Predicted Output : 1\n",
      "Input : [ 0.84210448 -0.13788033  1.18813767  1.35709783], Predicted Output : 2\n",
      "Input : [-0.2549677  -1.25582892  0.09932984 -0.11123753], Predicted Output : 1\n",
      "Input : [-0.13307079 -0.58505976  0.44316389  0.15573254], Predicted Output : 1\n",
      "Input : [ 0.72020757 -0.58505976  1.07352632  1.35709783], Predicted Output : 2\n",
      "Input : [-1.35203988  0.30929911 -1.2187007  -1.31260282], Predicted Output : 0\n",
      "Input : [ 0.35451684 -0.13788033  0.67238659  0.8231577 ], Predicted Output : 2\n",
      "Input : [-0.98634915  0.75647855 -1.2187007  -1.04563275], Predicted Output : 0\n",
      "Input : [ 0.72020757 -0.58505976  1.07352632  1.22361279], Predicted Output : 2\n",
      "Input : [2.5486612  1.65083742 1.53197172 1.09012776], Predicted Output : 2\n",
      "Input : [ 1.08589829 -0.13788033  0.84430362  1.49058286], Predicted Output : 2\n",
      "Input : [ 1.08589829 -1.25582892  1.18813767  0.8231577 ], Predicted Output : 2\n",
      "Input : [1.2077952  0.30929911 1.24544335 1.49058286], Predicted Output : 2\n",
      "Input : [-1.23014297 -0.13788033 -1.33331205 -1.17911778], Predicted Output : 0\n",
      "Input : [-1.23014297  0.08570939 -1.2187007  -1.31260282], Predicted Output : 0\n"
     ]
    }
   ],
   "source": [
    "for input_data in X_test:\n",
    "    print(f\"Input : {input_data}, Predicted Output : {clf.predict([input_data])[0]}\")"
   ]
  }
 ],
 "metadata": {
  "kernelspec": {
   "display_name": "Python 3 (ipykernel)",
   "language": "python",
   "name": "python3"
  },
  "language_info": {
   "codemirror_mode": {
    "name": "ipython",
    "version": 3
   },
   "file_extension": ".py",
   "mimetype": "text/x-python",
   "name": "python",
   "nbconvert_exporter": "python",
   "pygments_lexer": "ipython3",
   "version": "3.12.2"
  }
 },
 "nbformat": 4,
 "nbformat_minor": 5
}
