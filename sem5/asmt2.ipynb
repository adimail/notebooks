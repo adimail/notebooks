{
 "cells": [
  {
   "cell_type": "markdown",
   "id": "370a099c-301d-4821-a630-c52c4ad1731c",
   "metadata": {},
   "source": [
    "Implement Basic Libraries of Python such as Statistics, Math, Numpy, Sys and Scipy. (Using Marksheet Dataset)\n"
   ]
  },
  {
   "cell_type": "code",
   "execution_count": 4,
   "id": "652d03c0-7bd5-4274-a9fd-50ece8fcf6e1",
   "metadata": {},
   "outputs": [],
   "source": [
    "import numpy as np\n",
    "import statistics as stats\n",
    "from sklearn.datasets import load_iris\n",
    "from scipy import stats as scipy_stats\n",
    "import math\n",
    "import sys\n",
    "import pandas as pd"
   ]
  },
  {
   "cell_type": "code",
   "execution_count": 10,
   "id": "b45e78f1-c430-443a-9dfc-89744bd08a1c",
   "metadata": {},
   "outputs": [
    {
     "data": {
      "text/html": [
       "<div>\n",
       "<style scoped>\n",
       "    .dataframe tbody tr th:only-of-type {\n",
       "        vertical-align: middle;\n",
       "    }\n",
       "\n",
       "    .dataframe tbody tr th {\n",
       "        vertical-align: top;\n",
       "    }\n",
       "\n",
       "    .dataframe thead th {\n",
       "        text-align: right;\n",
       "    }\n",
       "</style>\n",
       "<table border=\"1\" class=\"dataframe\">\n",
       "  <thead>\n",
       "    <tr style=\"text-align: right;\">\n",
       "      <th></th>\n",
       "      <th>id</th>\n",
       "      <th>Name</th>\n",
       "      <th>Gender</th>\n",
       "      <th>Age</th>\n",
       "      <th>Section</th>\n",
       "      <th>Science</th>\n",
       "      <th>English</th>\n",
       "      <th>History</th>\n",
       "      <th>Maths</th>\n",
       "    </tr>\n",
       "  </thead>\n",
       "  <tbody>\n",
       "    <tr>\n",
       "      <th>0</th>\n",
       "      <td>1</td>\n",
       "      <td>Bronnie</td>\n",
       "      <td>Female</td>\n",
       "      <td>13</td>\n",
       "      <td>C</td>\n",
       "      <td>21</td>\n",
       "      <td>81</td>\n",
       "      <td>62</td>\n",
       "      <td>49</td>\n",
       "    </tr>\n",
       "    <tr>\n",
       "      <th>1</th>\n",
       "      <td>2</td>\n",
       "      <td>Lemmie</td>\n",
       "      <td>Male</td>\n",
       "      <td>15</td>\n",
       "      <td>B</td>\n",
       "      <td>29</td>\n",
       "      <td>41</td>\n",
       "      <td>17</td>\n",
       "      <td>40</td>\n",
       "    </tr>\n",
       "    <tr>\n",
       "      <th>2</th>\n",
       "      <td>3</td>\n",
       "      <td>Danya</td>\n",
       "      <td>Female</td>\n",
       "      <td>14</td>\n",
       "      <td>C</td>\n",
       "      <td>12</td>\n",
       "      <td>87</td>\n",
       "      <td>16</td>\n",
       "      <td>96</td>\n",
       "    </tr>\n",
       "    <tr>\n",
       "      <th>3</th>\n",
       "      <td>4</td>\n",
       "      <td>Denna</td>\n",
       "      <td>Female</td>\n",
       "      <td>14</td>\n",
       "      <td>B</td>\n",
       "      <td>15</td>\n",
       "      <td>53</td>\n",
       "      <td>82</td>\n",
       "      <td>33</td>\n",
       "    </tr>\n",
       "    <tr>\n",
       "      <th>4</th>\n",
       "      <td>5</td>\n",
       "      <td>Jocelin</td>\n",
       "      <td>Male</td>\n",
       "      <td>14</td>\n",
       "      <td>A</td>\n",
       "      <td>43</td>\n",
       "      <td>6</td>\n",
       "      <td>3</td>\n",
       "      <td>21</td>\n",
       "    </tr>\n",
       "  </tbody>\n",
       "</table>\n",
       "</div>"
      ],
      "text/plain": [
       "   id     Name  Gender  Age Section  Science  English  History  Maths\n",
       "0   1  Bronnie  Female   13       C       21       81       62     49\n",
       "1   2   Lemmie    Male   15       B       29       41       17     40\n",
       "2   3    Danya  Female   14       C       12       87       16     96\n",
       "3   4    Denna  Female   14       B       15       53       82     33\n",
       "4   5  Jocelin    Male   14       A       43        6        3     21"
      ]
     },
     "execution_count": 10,
     "metadata": {},
     "output_type": "execute_result"
    }
   ],
   "source": [
    "data = pd.read_csv('./data/marksheet.csv')\n",
    "data.head()"
   ]
  },
  {
   "cell_type": "code",
   "execution_count": 11,
   "id": "60dcb606-88e6-4c20-be1f-d967042a0f3f",
   "metadata": {},
   "outputs": [],
   "source": [
    "df = pd.DataFrame(data)"
   ]
  },
  {
   "cell_type": "code",
   "execution_count": 12,
   "id": "e47b4df7-83a1-4e93-970d-307a164399c5",
   "metadata": {},
   "outputs": [
    {
     "data": {
      "text/html": [
       "<div>\n",
       "<style scoped>\n",
       "    .dataframe tbody tr th:only-of-type {\n",
       "        vertical-align: middle;\n",
       "    }\n",
       "\n",
       "    .dataframe tbody tr th {\n",
       "        vertical-align: top;\n",
       "    }\n",
       "\n",
       "    .dataframe thead th {\n",
       "        text-align: right;\n",
       "    }\n",
       "</style>\n",
       "<table border=\"1\" class=\"dataframe\">\n",
       "  <thead>\n",
       "    <tr style=\"text-align: right;\">\n",
       "      <th></th>\n",
       "      <th>id</th>\n",
       "      <th>Age</th>\n",
       "      <th>Science</th>\n",
       "      <th>English</th>\n",
       "      <th>History</th>\n",
       "      <th>Maths</th>\n",
       "    </tr>\n",
       "  </thead>\n",
       "  <tbody>\n",
       "    <tr>\n",
       "      <th>count</th>\n",
       "      <td>250.000000</td>\n",
       "      <td>250.000000</td>\n",
       "      <td>250.000000</td>\n",
       "      <td>250.000000</td>\n",
       "      <td>250.000000</td>\n",
       "      <td>250.000000</td>\n",
       "    </tr>\n",
       "    <tr>\n",
       "      <th>mean</th>\n",
       "      <td>125.500000</td>\n",
       "      <td>14.020000</td>\n",
       "      <td>51.440000</td>\n",
       "      <td>47.980000</td>\n",
       "      <td>52.272000</td>\n",
       "      <td>53.016000</td>\n",
       "    </tr>\n",
       "    <tr>\n",
       "      <th>std</th>\n",
       "      <td>72.312977</td>\n",
       "      <td>0.823598</td>\n",
       "      <td>29.314497</td>\n",
       "      <td>29.949013</td>\n",
       "      <td>26.868526</td>\n",
       "      <td>27.386416</td>\n",
       "    </tr>\n",
       "    <tr>\n",
       "      <th>min</th>\n",
       "      <td>1.000000</td>\n",
       "      <td>13.000000</td>\n",
       "      <td>1.000000</td>\n",
       "      <td>1.000000</td>\n",
       "      <td>1.000000</td>\n",
       "      <td>1.000000</td>\n",
       "    </tr>\n",
       "    <tr>\n",
       "      <th>25%</th>\n",
       "      <td>63.250000</td>\n",
       "      <td>13.000000</td>\n",
       "      <td>25.250000</td>\n",
       "      <td>20.250000</td>\n",
       "      <td>31.000000</td>\n",
       "      <td>30.000000</td>\n",
       "    </tr>\n",
       "    <tr>\n",
       "      <th>50%</th>\n",
       "      <td>125.500000</td>\n",
       "      <td>14.000000</td>\n",
       "      <td>53.000000</td>\n",
       "      <td>47.500000</td>\n",
       "      <td>53.000000</td>\n",
       "      <td>52.500000</td>\n",
       "    </tr>\n",
       "    <tr>\n",
       "      <th>75%</th>\n",
       "      <td>187.750000</td>\n",
       "      <td>15.000000</td>\n",
       "      <td>78.000000</td>\n",
       "      <td>74.000000</td>\n",
       "      <td>76.000000</td>\n",
       "      <td>76.000000</td>\n",
       "    </tr>\n",
       "    <tr>\n",
       "      <th>max</th>\n",
       "      <td>250.000000</td>\n",
       "      <td>15.000000</td>\n",
       "      <td>100.000000</td>\n",
       "      <td>100.000000</td>\n",
       "      <td>100.000000</td>\n",
       "      <td>100.000000</td>\n",
       "    </tr>\n",
       "  </tbody>\n",
       "</table>\n",
       "</div>"
      ],
      "text/plain": [
       "               id         Age     Science     English     History       Maths\n",
       "count  250.000000  250.000000  250.000000  250.000000  250.000000  250.000000\n",
       "mean   125.500000   14.020000   51.440000   47.980000   52.272000   53.016000\n",
       "std     72.312977    0.823598   29.314497   29.949013   26.868526   27.386416\n",
       "min      1.000000   13.000000    1.000000    1.000000    1.000000    1.000000\n",
       "25%     63.250000   13.000000   25.250000   20.250000   31.000000   30.000000\n",
       "50%    125.500000   14.000000   53.000000   47.500000   53.000000   52.500000\n",
       "75%    187.750000   15.000000   78.000000   74.000000   76.000000   76.000000\n",
       "max    250.000000   15.000000  100.000000  100.000000  100.000000  100.000000"
      ]
     },
     "execution_count": 12,
     "metadata": {},
     "output_type": "execute_result"
    }
   ],
   "source": [
    "df.describe()"
   ]
  },
  {
   "cell_type": "code",
   "execution_count": 14,
   "id": "0e15aa3e-5aaf-4864-bcc2-595db4984d7b",
   "metadata": {},
   "outputs": [
    {
     "data": {
      "text/plain": [
       "id           250\n",
       "Name       Zenia\n",
       "Gender      Male\n",
       "Age           15\n",
       "Section        C\n",
       "Science      100\n",
       "English      100\n",
       "History      100\n",
       "Maths        100\n",
       "dtype: object"
      ]
     },
     "execution_count": 14,
     "metadata": {},
     "output_type": "execute_result"
    }
   ],
   "source": [
    "df.max()"
   ]
  },
  {
   "cell_type": "code",
   "execution_count": 15,
   "id": "ff0c8a4d-7715-48d8-829f-d05558b25c84",
   "metadata": {},
   "outputs": [
    {
     "data": {
      "text/plain": [
       "id              1\n",
       "Name         Abel\n",
       "Gender     Female\n",
       "Age            13\n",
       "Section         A\n",
       "Science         1\n",
       "English         1\n",
       "History         1\n",
       "Maths           1\n",
       "dtype: object"
      ]
     },
     "execution_count": 15,
     "metadata": {},
     "output_type": "execute_result"
    }
   ],
   "source": [
    "df.min()"
   ]
  },
  {
   "cell_type": "code",
   "execution_count": 17,
   "id": "c10ef59f-cfc0-4b8b-bedb-1cf23308c362",
   "metadata": {},
   "outputs": [
    {
     "data": {
      "text/plain": [
       "29.314497420835046"
      ]
     },
     "execution_count": 17,
     "metadata": {},
     "output_type": "execute_result"
    }
   ],
   "source": [
    "df['Science'].std()"
   ]
  },
  {
   "cell_type": "code",
   "execution_count": 18,
   "id": "90e41b1d-4e91-42ba-a3bf-b742e0d5d726",
   "metadata": {},
   "outputs": [
    {
     "data": {
      "text/plain": [
       "859.3397590361446"
      ]
     },
     "execution_count": 18,
     "metadata": {},
     "output_type": "execute_result"
    }
   ],
   "source": [
    "df['Science'].var()"
   ]
  }
 ],
 "metadata": {
  "kernelspec": {
   "display_name": "Python 3 (ipykernel)",
   "language": "python",
   "name": "python3"
  },
  "language_info": {
   "codemirror_mode": {
    "name": "ipython",
    "version": 3
   },
   "file_extension": ".py",
   "mimetype": "text/x-python",
   "name": "python",
   "nbconvert_exporter": "python",
   "pygments_lexer": "ipython3",
   "version": "3.12.2"
  }
 },
 "nbformat": 4,
 "nbformat_minor": 5
}
